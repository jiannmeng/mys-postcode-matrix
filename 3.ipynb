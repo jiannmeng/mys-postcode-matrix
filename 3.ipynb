{
 "metadata": {
  "language_info": {
   "codemirror_mode": {
    "name": "ipython",
    "version": 3
   },
   "file_extension": ".py",
   "mimetype": "text/x-python",
   "name": "python",
   "nbconvert_exporter": "python",
   "pygments_lexer": "ipython3",
   "version": "3.9.5"
  },
  "orig_nbformat": 2,
  "kernelspec": {
   "name": "pythonjvsc74a57bd06746b22b0f0f54490f6784a0eb5adc84d4ae68eb19dc466f98fd8a941d2e2968",
   "display_name": "Python 3.9.5  ('.venv': venv)"
  },
  "metadata": {
   "interpreter": {
    "hash": "6746b22b0f0f54490f6784a0eb5adc84d4ae68eb19dc466f98fd8a941d2e2968"
   }
  }
 },
 "nbformat": 4,
 "nbformat_minor": 2,
 "cells": [
  {
   "cell_type": "code",
   "execution_count": 1,
   "metadata": {},
   "outputs": [],
   "source": [
    "import googlemaps\n",
    "import pandas as pd\n",
    "import numpy as np\n",
    "import csv\n",
    "from src.utils import get_api_key, now\n",
    "from pprint import pprint\n",
    "import json\n",
    "import pickle"
   ]
  },
  {
   "cell_type": "code",
   "execution_count": 2,
   "metadata": {
    "tags": []
   },
   "outputs": [
    {
     "output_type": "stream",
     "name": "stdout",
     "text": [
      "[{'latitude_1': '1.42513621',\n  'latitude_2': '1.456123',\n  'longitude_1': '103.61443042',\n  'longitude_2': '103.761701',\n  'master_postcode_1': '79000',\n  'master_postcode_2': '80000',\n  'ppv_region': 'Johor'},\n {'latitude_1': '1.42513621',\n  'latitude_2': '1.662964',\n  'longitude_1': '103.61443042',\n  'longitude_2': '103.600178',\n  'master_postcode_1': '79000',\n  'master_postcode_2': '81000',\n  'ppv_region': 'Johor'},\n {'latitude_1': '1.42513621',\n  'latitude_2': '1.606506',\n  'longitude_1': '103.61443042',\n  'longitude_2': '103.647617',\n  'master_postcode_1': '79000',\n  'master_postcode_2': '81400',\n  'ppv_region': 'Johor'},\n {'latitude_1': '1.42513621',\n  'latitude_2': '1.876001',\n  'longitude_1': '103.61443042',\n  'longitude_2': '103.614046',\n  'master_postcode_1': '79000',\n  'master_postcode_2': '81440',\n  'ppv_region': 'Johor'},\n {'latitude_1': '1.42513621',\n  'latitude_2': '1.75050278',\n  'longitude_1': '103.61443042',\n  'longitude_2': '103.672815',\n  'master_postcode_1': '79000',\n  'master_postcode_2': '81450',\n  'ppv_region': 'Johor'}]\n"
     ]
    }
   ],
   "source": [
    "with open(\"./output/mpc_pairs.csv\") as fp:\n",
    "    mpc_pairs = list(csv.DictReader(fp))\n",
    "\n",
    "pprint(mpc_pairs[:5])"
   ]
  },
  {
   "cell_type": "code",
   "execution_count": 3,
   "metadata": {},
   "outputs": [],
   "source": [
    "# Sample data; comment out if doing for real.\n",
    "mpc_pairs = [\n",
    "    {'latitude_1': '4.76804722',\n",
    "    'latitude_2': '4.426911',\n",
    "    'longitude_1': '103.18692',\n",
    "    'longitude_2': '103.452517',\n",
    "    'master_postcode_1': '23200',\n",
    "    'master_postcode_2': '24200',\n",
    "    'ppv_region': 'Terengganu'},\n",
    "    {'latitude_1': '4.76804722',\n",
    "    'latitude_2': '4.50032',\n",
    "    'longitude_1': '103.18692',\n",
    "    'longitude_2': '103.440871',\n",
    "    'master_postcode_1': '23200',\n",
    "    'master_postcode_2': '24300',\n",
    "    'ppv_region': 'Terengganu'},\n",
    "    {'latitude_1': '4.573532',\n",
    "    'latitude_2': '4.619279',\n",
    "    'longitude_1': '103.313231',\n",
    "    'longitude_2': '103.209329',\n",
    "    'master_postcode_1': '23300',\n",
    "    'master_postcode_2': '23400',\n",
    "    'ppv_region': 'Terengganu'},\n",
    "    {'latitude_1': '4.573532',\n",
    "    'latitude_2': '4.230972',\n",
    "    'longitude_1': '103.313231',\n",
    "    'longitude_2': '103.427966',\n",
    "    'master_postcode_1': '23300',\n",
    "    'master_postcode_2': '24000',\n",
    "    'ppv_region': 'Terengganu'},\n",
    "    {'latitude_1': '4.573532',\n",
    "    'latitude_2': '4.26868955',\n",
    "    'longitude_1': '103.313231',\n",
    "    'longitude_2': '103.2119044',\n",
    "    'master_postcode_1': '23300',\n",
    "    'master_postcode_2': '24050',\n",
    "    'ppv_region': 'Terengganu'},\n",
    "]\n",
    "\n",
    "SKIP = True # Change this to False (and comment out the sample above) to use the Maps API\n",
    "if not SKIP:\n",
    "    gmaps = googlemaps.Client(key=get_api_key())\n",
    "    responses = []\n",
    "    ts = now()\n",
    "    with open(f\"./responses/distance-matrix-{ts}.json\", mode=\"a\") as fp:\n",
    "        for item in mpc_pairs:\n",
    "            # coordinates separated by comma, no spaces\n",
    "            origin = f\"{item['latitude_1']},{item['longitude_1']}\"\n",
    "            destination = f\"{item['latitude_2']},{item['longitude_2']}\"\n",
    "            try:\n",
    "                response = gmaps.distance_matrix(origin, destination)\n",
    "                # print(response)\n",
    "            except Exception as exc:\n",
    "                print(exc)\n",
    "            responses.append(response)\n",
    "        json.dump(responses, fp)"
   ]
  },
  {
   "cell_type": "code",
   "execution_count": 4,
   "metadata": {},
   "outputs": [],
   "source": [
    "# with open(f\"./responses/distance-matrix-{ts}.json\") as fp: # Use this line for MAPS API\n",
    "with open(\"./responses/distance-matrix-20210605-214333.json\") as fp: # Use this line for sample\n",
    "    responses = json.load(fp)\n",
    "\n",
    "assert len(mpc_pairs) == len(responses)\n",
    "\n",
    "# Add the corresponding duration into the mpc_pairs dictionaries\n",
    "for item, resp in zip(mpc_pairs, responses):\n",
    "    item[\"duration\"] = resp[\"rows\"][0][\"elements\"][0][\"duration\"][\"value\"]"
   ]
  },
  {
   "cell_type": "code",
   "execution_count": 5,
   "metadata": {},
   "outputs": [],
   "source": [
    "# time matrix\n",
    "# lets reuse the distance matrix\n",
    "\n",
    "# Using pickle for now, because importing a csv/Excel causes certain postcodes to become integers instead of strings.\n",
    "# The pickle file is generated at the end of Notebook #1.\n",
    "with open(\"./output/distance_matrix.pickle\", mode=\"rb\") as fp:\n",
    "    df_mat = pickle.load(fp)\n",
    "df_mat = df_mat.applymap(lambda x: 0, na_action=\"ignore\") # Change all numbers to 0.\n"
   ]
  },
  {
   "cell_type": "code",
   "execution_count": 6,
   "metadata": {},
   "outputs": [],
   "source": [
    "# [[[0, 605], [535, 0]], [[0, 2558], [2597, 0]]]\n",
    "for item in mpc_pairs:\n",
    "    mpc1 = (item[\"ppv_region\"], item[\"master_postcode_1\"])\n",
    "    mpc2 = (item[\"ppv_region\"], item[\"master_postcode_2\"])\n",
    "    duration = item[\"duration\"]\n",
    "    df_mat.loc[mpc1, mpc2] = duration\n",
    "    df_mat.loc[mpc2, mpc1] = duration # also add across the diagonal\n",
    "\n",
    "# TODO: Set zeros\n"
   ]
  },
  {
   "cell_type": "code",
   "execution_count": 7,
   "metadata": {},
   "outputs": [
    {
     "output_type": "execute_result",
     "data": {
      "text/plain": [
       "                 Terengganu                                    \n",
       "                      23200 23300 23400 24000 24050 24200 24300\n",
       "Terengganu 23200        NaN   NaN   NaN   NaN   NaN  2789  2431\n",
       "           23300        NaN   NaN   952  3057  2428   NaN   NaN\n",
       "           23400        NaN   952   NaN   NaN   NaN   NaN   NaN\n",
       "           24000        NaN  3057   NaN   NaN   NaN   NaN   NaN\n",
       "           24050        NaN  2428   NaN   NaN   NaN   NaN   NaN\n",
       "           24200       2789   NaN   NaN   NaN   NaN   NaN   NaN\n",
       "           24300       2431   NaN   NaN   NaN   NaN   NaN   NaN"
      ],
      "text/html": "<div>\n<style scoped>\n    .dataframe tbody tr th:only-of-type {\n        vertical-align: middle;\n    }\n\n    .dataframe tbody tr th {\n        vertical-align: top;\n    }\n\n    .dataframe thead tr th {\n        text-align: left;\n    }\n</style>\n<table border=\"1\" class=\"dataframe\">\n  <thead>\n    <tr>\n      <th></th>\n      <th></th>\n      <th colspan=\"7\" halign=\"left\">Terengganu</th>\n    </tr>\n    <tr>\n      <th></th>\n      <th></th>\n      <th>23200</th>\n      <th>23300</th>\n      <th>23400</th>\n      <th>24000</th>\n      <th>24050</th>\n      <th>24200</th>\n      <th>24300</th>\n    </tr>\n  </thead>\n  <tbody>\n    <tr>\n      <th rowspan=\"7\" valign=\"top\">Terengganu</th>\n      <th>23200</th>\n      <td>NaN</td>\n      <td>NaN</td>\n      <td>NaN</td>\n      <td>NaN</td>\n      <td>NaN</td>\n      <td>2789</td>\n      <td>2431</td>\n    </tr>\n    <tr>\n      <th>23300</th>\n      <td>NaN</td>\n      <td>NaN</td>\n      <td>952</td>\n      <td>3057</td>\n      <td>2428</td>\n      <td>NaN</td>\n      <td>NaN</td>\n    </tr>\n    <tr>\n      <th>23400</th>\n      <td>NaN</td>\n      <td>952</td>\n      <td>NaN</td>\n      <td>NaN</td>\n      <td>NaN</td>\n      <td>NaN</td>\n      <td>NaN</td>\n    </tr>\n    <tr>\n      <th>24000</th>\n      <td>NaN</td>\n      <td>3057</td>\n      <td>NaN</td>\n      <td>NaN</td>\n      <td>NaN</td>\n      <td>NaN</td>\n      <td>NaN</td>\n    </tr>\n    <tr>\n      <th>24050</th>\n      <td>NaN</td>\n      <td>2428</td>\n      <td>NaN</td>\n      <td>NaN</td>\n      <td>NaN</td>\n      <td>NaN</td>\n      <td>NaN</td>\n    </tr>\n    <tr>\n      <th>24200</th>\n      <td>2789</td>\n      <td>NaN</td>\n      <td>NaN</td>\n      <td>NaN</td>\n      <td>NaN</td>\n      <td>NaN</td>\n      <td>NaN</td>\n    </tr>\n    <tr>\n      <th>24300</th>\n      <td>2431</td>\n      <td>NaN</td>\n      <td>NaN</td>\n      <td>NaN</td>\n      <td>NaN</td>\n      <td>NaN</td>\n      <td>NaN</td>\n    </tr>\n  </tbody>\n</table>\n</div>"
     },
     "metadata": {},
     "execution_count": 7
    }
   ],
   "source": [
    "df_mat[df_mat>0].dropna(how=\"all\", axis=0).dropna(how=\"all\", axis=1)  # View the data"
   ]
  }
 ]
}
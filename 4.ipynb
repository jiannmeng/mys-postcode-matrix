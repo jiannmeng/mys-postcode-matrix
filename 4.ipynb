{
 "metadata": {
  "language_info": {
   "codemirror_mode": {
    "name": "ipython",
    "version": 3
   },
   "file_extension": ".py",
   "mimetype": "text/x-python",
   "name": "python",
   "nbconvert_exporter": "python",
   "pygments_lexer": "ipython3",
   "version": "3.9.4"
  },
  "orig_nbformat": 2,
  "kernelspec": {
   "name": "python394jvsc74a57bd0e80e83b4ce063b6d077aa938f4da7ed4d120271a429356fc4f499d6cbc968636",
   "display_name": "Python 3.9.4 64-bit ('.venv': venv)"
  }
 },
 "nbformat": 4,
 "nbformat_minor": 2,
 "cells": [
  {
   "cell_type": "code",
   "execution_count": 1,
   "metadata": {},
   "outputs": [],
   "source": [
    "import pandas as pd\n",
    "import numpy as np\n",
    "from src.utils import check_hash, postcode_str"
   ]
  },
  {
   "cell_type": "code",
   "execution_count": 2,
   "metadata": {},
   "outputs": [
    {
     "output_type": "stream",
     "name": "stdout",
     "text": [
      "<class 'pandas.core.frame.DataFrame'>\nRangeIndex: 71031 entries, 0 to 71030\nData columns (total 8 columns):\n #   Column         Non-Null Count  Dtype  \n---  ------         --------------  -----  \n 0   LOCATION       71031 non-null  object \n 1   POSTCODE       71031 non-null  object \n 2   POST_OFFICE    71031 non-null  object \n 3   POST_OFFICE_1  71031 non-null  object \n 4   STATE          71031 non-null  object \n 5   DATEUPDATE     71031 non-null  object \n 6   POINT_X        71031 non-null  float64\n 7   POINT_Y        71031 non-null  float64\ndtypes: float64(2), object(6)\nmemory usage: 4.3+ MB\nNone\n<class 'pandas.core.frame.DataFrame'>\nRangeIndex: 2778 entries, 0 to 2777\nData columns (total 4 columns):\n #   Column       Non-Null Count  Dtype  \n---  ------       --------------  -----  \n 0   postcode     2778 non-null   object \n 1   state_given  2778 non-null   object \n 2   lat          2778 non-null   float64\n 3   lon          2778 non-null   float64\ndtypes: float64(2), object(2)\nmemory usage: 86.9+ KB\nNone\n"
     ]
    }
   ],
   "source": [
    "POSM = \"./data/Poscode - Lat Long.xlsx\"\n",
    "POSTCODEMY = \"./data/dep_poskod_geo_web.csv\"\n",
    "assert check_hash(POSM)\n",
    "assert check_hash(POSTCODEMY)\n",
    "\n",
    "df_posm_import = pd.read_excel(POSM, sheet_name=\"Sheet2\", converters={\"POSTCODE\": postcode_str}) # Pos Malaysia data\n",
    "df_postcodemy_import = pd.read_csv(POSTCODEMY, converters={\"postcode\": postcode_str}) # postcode.my data\n",
    "\n",
    "print(df_posm_import.info())\n",
    "print(df_postcodemy_import.info())"
   ]
  },
  {
   "cell_type": "code",
   "execution_count": 3,
   "metadata": {},
   "outputs": [
    {
     "output_type": "stream",
     "name": "stdout",
     "text": [
      "Pos Malaysia data:\n"
     ]
    },
    {
     "output_type": "display_data",
     "data": {
      "text/plain": "0    76100\n1    70200\n2    70300\n4    71950\n5    43000\nName: postcode, dtype: object"
     },
     "metadata": {}
    },
    {
     "output_type": "stream",
     "name": "stdout",
     "text": [
      "(2886,)\n-----\npostcode.my data:\n"
     ]
    },
    {
     "output_type": "display_data",
     "data": {
      "text/plain": "0    82100\n1    86100\n2    81920\n3    81930\n4    81440\nName: postcode, dtype: object"
     },
     "metadata": {}
    },
    {
     "output_type": "stream",
     "name": "stdout",
     "text": [
      "(2778,)\n"
     ]
    }
   ],
   "source": [
    "# Only the important columns.\n",
    "df_posm = df_posm_import[\"POSTCODE\"].rename(\"postcode\").drop_duplicates()\n",
    "df_postcodemy = df_postcodemy_import[\"postcode\"].drop_duplicates()\n",
    "\n",
    "print(\"Pos Malaysia data:\")\n",
    "display(df_posm.head())\n",
    "print(df_posm.shape)\n",
    "print(\"-----\")\n",
    "print(\"postcode.my data:\")\n",
    "display(df_postcodemy.head())\n",
    "print(df_postcodemy.shape)\n"
   ]
  },
  {
   "cell_type": "code",
   "execution_count": 4,
   "metadata": {},
   "outputs": [
    {
     "output_type": "stream",
     "name": "stdout",
     "text": [
      "230     06660\n243     08330\n295     08340\n269     09090\n281     09410\n        ...  \n1424    88610\n1434    88628\n1442    88658\n1443    88660\n1444    88661\nName: postcode, Length: 88, dtype: object\n7348     01542\n7349     05646\n7350     06309\n7351     08107\n7352     08109\n         ...  \n20338    96510\n20339    96609\n20340    96857\n20341    97307\n20342    98207\nName: postcode, Length: 196, dtype: object\n"
     ]
    }
   ],
   "source": [
    "not_in_posm = df_postcodemy[~df_postcodemy.isin(df_posm)].sort_values()\n",
    "print(not_in_posm)\n",
    "\n",
    "\n",
    "# Don't worry about these.\n",
    "not_in_postcodemy = df_posm[~df_posm.isin(df_postcodemy)].sort_values()\n",
    "print(not_in_postcodemy)"
   ]
  },
  {
   "cell_type": "code",
   "execution_count": 5,
   "metadata": {
    "tags": []
   },
   "outputs": [
    {
     "output_type": "display_data",
     "data": {
      "text/plain": "   postcode.my closest_posm\n0        06660        06650\n1        08330        08320\n2        08340        08320\n3        09090        09100\n4        09410        09409\n..         ...          ...\n83       88610        88609\n84       88628        88626\n85       88658        88656\n86       88660        88662\n87       88661        88662\n\n[88 rows x 2 columns]",
      "text/html": "<div>\n<style scoped>\n    .dataframe tbody tr th:only-of-type {\n        vertical-align: middle;\n    }\n\n    .dataframe tbody tr th {\n        vertical-align: top;\n    }\n\n    .dataframe thead th {\n        text-align: right;\n    }\n</style>\n<table border=\"1\" class=\"dataframe\">\n  <thead>\n    <tr style=\"text-align: right;\">\n      <th></th>\n      <th>postcode.my</th>\n      <th>closest_posm</th>\n    </tr>\n  </thead>\n  <tbody>\n    <tr>\n      <th>0</th>\n      <td>06660</td>\n      <td>06650</td>\n    </tr>\n    <tr>\n      <th>1</th>\n      <td>08330</td>\n      <td>08320</td>\n    </tr>\n    <tr>\n      <th>2</th>\n      <td>08340</td>\n      <td>08320</td>\n    </tr>\n    <tr>\n      <th>3</th>\n      <td>09090</td>\n      <td>09100</td>\n    </tr>\n    <tr>\n      <th>4</th>\n      <td>09410</td>\n      <td>09409</td>\n    </tr>\n    <tr>\n      <th>...</th>\n      <td>...</td>\n      <td>...</td>\n    </tr>\n    <tr>\n      <th>83</th>\n      <td>88610</td>\n      <td>88609</td>\n    </tr>\n    <tr>\n      <th>84</th>\n      <td>88628</td>\n      <td>88626</td>\n    </tr>\n    <tr>\n      <th>85</th>\n      <td>88658</td>\n      <td>88656</td>\n    </tr>\n    <tr>\n      <th>86</th>\n      <td>88660</td>\n      <td>88662</td>\n    </tr>\n    <tr>\n      <th>87</th>\n      <td>88661</td>\n      <td>88662</td>\n    </tr>\n  </tbody>\n</table>\n<p>88 rows × 2 columns</p>\n</div>"
     },
     "metadata": {}
    }
   ],
   "source": [
    "results = []\n",
    "for pc in not_in_posm:\n",
    "    similar_mask = df_posm.apply(lambda x: x[:2] == pc[:2]) # Same first 2 digits (inefficient, but small dataset...)\n",
    "    similar = df_posm[similar_mask].to_list()\n",
    "    if len(similar) == 0:\n",
    "        raise ValueError(f\"{pc} has no Pos Malaysia postcode with the same first 2 digits!\")\n",
    "    nearest = min(similar, key=lambda x: abs(int(x[2:]) - int(pc[2:])))\n",
    "    results.append((pc, nearest))\n",
    "df = pd.DataFrame(results, columns=[\"postcode.my\", \"closest_posm\"])\n",
    "display(df)\n",
    "\n",
    "# TODO: check if these coordinates are close enough"
   ]
  }
 ]
}
{
 "cells": [
  {
   "cell_type": "code",
   "execution_count": 1,
   "metadata": {},
   "outputs": [],
   "source": [
    "import pandas as pd\n",
    "import numpy as np\n",
    "import src.utils"
   ]
  },
  {
   "cell_type": "markdown",
   "metadata": {},
   "source": [
    "# Pos Malaysia data vs. postcode.my data\n",
    "\n",
    "We have two separate data files containing postcode data; one from Pos Malaysia and one scraped from postcode.my. They don't map cleanly, so let's investigate."
   ]
  },
  {
   "cell_type": "code",
   "execution_count": 2,
   "metadata": {},
   "outputs": [
    {
     "name": "stdout",
     "output_type": "stream",
     "text": [
      "PosM data:\n",
      "<class 'pandas.core.frame.DataFrame'>\n",
      "RangeIndex: 71031 entries, 0 to 71030\n",
      "Data columns (total 8 columns):\n",
      " #   Column         Non-Null Count  Dtype  \n",
      "---  ------         --------------  -----  \n",
      " 0   LOCATION       71031 non-null  object \n",
      " 1   POSTCODE       71031 non-null  object \n",
      " 2   POST_OFFICE    71031 non-null  object \n",
      " 3   POST_OFFICE_1  71031 non-null  object \n",
      " 4   STATE          71031 non-null  object \n",
      " 5   DATEUPDATE     71031 non-null  object \n",
      " 6   POINT_X        71031 non-null  float64\n",
      " 7   POINT_Y        71031 non-null  float64\n",
      "dtypes: float64(2), object(6)\n",
      "memory usage: 4.3+ MB\n",
      "None\n",
      "-----\n",
      "postcode.my data:\n",
      "<class 'pandas.core.frame.DataFrame'>\n",
      "RangeIndex: 2778 entries, 0 to 2777\n",
      "Data columns (total 4 columns):\n",
      " #   Column       Non-Null Count  Dtype  \n",
      "---  ------       --------------  -----  \n",
      " 0   postcode     2778 non-null   object \n",
      " 1   state_given  2778 non-null   object \n",
      " 2   lat          2778 non-null   float64\n",
      " 3   lon          2778 non-null   float64\n",
      "dtypes: float64(2), object(2)\n",
      "memory usage: 86.9+ KB\n",
      "None\n"
     ]
    }
   ],
   "source": [
    "# Import files, check the hash to ensure no changes have been made.\n",
    "POSM = \"./data/Poscode - Lat Long.xlsx\"\n",
    "POSTCODEMY = \"./data/dep_poskod_geo_web.csv\"\n",
    "assert src.utils.check_hash(POSM)\n",
    "assert src.utils.check_hash(POSTCODEMY)\n",
    "\n",
    "df_posm_import = pd.read_excel(\n",
    "    POSM, \n",
    "    sheet_name=\"Sheet2\", \n",
    "    converters={\"POSTCODE\": src.utils.postcode_str}\n",
    ") # Pos Malaysia data\n",
    "df_postcodemy_import = pd.read_csv(\n",
    "    POSTCODEMY, \n",
    "    converters={\"postcode\": src.utils.postcode_str}\n",
    ") # postcode.my data\n",
    "\n",
    "print(\"PosM data:\")\n",
    "print(df_posm_import.info())\n",
    "print(\"-----\")\n",
    "print(\"postcode.my data:\")\n",
    "print(df_postcodemy_import.info())"
   ]
  },
  {
   "cell_type": "code",
   "execution_count": 3,
   "metadata": {},
   "outputs": [
    {
     "name": "stdout",
     "output_type": "stream",
     "text": [
      "Pos Malaysia data:\n"
     ]
    },
    {
     "data": {
      "text/plain": [
       "0    76100\n",
       "1    70200\n",
       "2    70300\n",
       "4    71950\n",
       "5    43000\n",
       "Name: postcode, dtype: object"
      ]
     },
     "metadata": {},
     "output_type": "display_data"
    },
    {
     "name": "stdout",
     "output_type": "stream",
     "text": [
      "(2886,)\n",
      "-----\n",
      "postcode.my data:\n"
     ]
    },
    {
     "data": {
      "text/plain": [
       "0    82100\n",
       "1    86100\n",
       "2    81920\n",
       "3    81930\n",
       "4    81440\n",
       "Name: postcode, dtype: object"
      ]
     },
     "metadata": {},
     "output_type": "display_data"
    },
    {
     "name": "stdout",
     "output_type": "stream",
     "text": [
      "(2778,)\n"
     ]
    }
   ],
   "source": [
    "# Keep only the columns which are important to us.\n",
    "df_posm = df_posm_import[\"POSTCODE\"].rename(\"postcode\").drop_duplicates()\n",
    "df_postcodemy = df_postcodemy_import[\"postcode\"].drop_duplicates()\n",
    "\n",
    "print(\"Pos Malaysia data:\")\n",
    "display(df_posm.head())\n",
    "print(df_posm.shape)\n",
    "print(\"-----\")\n",
    "print(\"postcode.my data:\")\n",
    "display(df_postcodemy.head())\n",
    "print(df_postcodemy.shape)\n"
   ]
  },
  {
   "cell_type": "markdown",
   "metadata": {},
   "source": [
    "Here are the:\n",
    "\n",
    "- **Postcodes in postcode.my, which are *not* in PosM** - we will be using this.\n",
    "- **Postcodes in PosM, which are *not* in postcode.my** - for informational purposes only."
   ]
  },
  {
   "cell_type": "code",
   "execution_count": 4,
   "metadata": {},
   "outputs": [
    {
     "name": "stdout",
     "output_type": "stream",
     "text": [
      "In postcode.my, NOT in PosM:\n",
      "230     06660\n",
      "243     08330\n",
      "295     08340\n",
      "269     09090\n",
      "281     09410\n",
      "        ...  \n",
      "1424    88610\n",
      "1434    88628\n",
      "1442    88658\n",
      "1443    88660\n",
      "1444    88661\n",
      "Name: postcode, Length: 88, dtype: object\n",
      "-----\n",
      "In PosM, NOT in postcode.my:\n",
      "7348     01542\n",
      "7349     05646\n",
      "7350     06309\n",
      "7351     08107\n",
      "7352     08109\n",
      "         ...  \n",
      "20338    96510\n",
      "20339    96609\n",
      "20340    96857\n",
      "20341    97307\n",
      "20342    98207\n",
      "Name: postcode, Length: 196, dtype: object\n"
     ]
    }
   ],
   "source": [
    "not_in_posm = df_postcodemy[~df_postcodemy.isin(df_posm)].sort_values()\n",
    "not_in_postcodemy = df_posm[~df_posm.isin(df_postcodemy)].sort_values()\n",
    "\n",
    "print(\"In postcode.my, NOT in PosM:\")\n",
    "print(not_in_posm)\n",
    "print(\"-----\")\n",
    "print(\"In PosM, NOT in postcode.my:\")\n",
    "print(not_in_postcodemy)"
   ]
  },
  {
   "cell_type": "markdown",
   "metadata": {},
   "source": [
    "# Closest valid PosM postcode\n",
    "\n",
    "Let's call each postcode.my postcode which isn't in PosM an **invalid** postcode. We want to match it to the closest **valid** postcode in the PosM dataset.\n",
    "\n",
    "We'll use a simple heuristic: for each postcode, let's call its first two digits the **region**. E.g. 50480 --> 50, 07893 --> 07\n",
    "\n",
    "For each invalid postcode, find the set of all valid postcodes with the same region. Then, pick the valid postcode whose last 3 digits is closest to the invalid postcode's last 3 digits, when treated as an integer.\n",
    "\n",
    "Example: Invalid postcode - **31900**. Valid postcodes with region 31 - **{31000, 31800, 31890, 31920}**. Then the closest valid postcode is **31890** (difference of 10)."
   ]
  },
  {
   "cell_type": "code",
   "execution_count": 5,
   "metadata": {
    "tags": []
   },
   "outputs": [
    {
     "data": {
      "text/html": [
       "<div>\n",
       "<style scoped>\n",
       "    .dataframe tbody tr th:only-of-type {\n",
       "        vertical-align: middle;\n",
       "    }\n",
       "\n",
       "    .dataframe tbody tr th {\n",
       "        vertical-align: top;\n",
       "    }\n",
       "\n",
       "    .dataframe thead th {\n",
       "        text-align: right;\n",
       "    }\n",
       "</style>\n",
       "<table border=\"1\" class=\"dataframe\">\n",
       "  <thead>\n",
       "    <tr style=\"text-align: right;\">\n",
       "      <th></th>\n",
       "      <th>postcode.my</th>\n",
       "      <th>closest_posm</th>\n",
       "    </tr>\n",
       "  </thead>\n",
       "  <tbody>\n",
       "    <tr>\n",
       "      <th>0</th>\n",
       "      <td>06660</td>\n",
       "      <td>06650</td>\n",
       "    </tr>\n",
       "    <tr>\n",
       "      <th>1</th>\n",
       "      <td>08330</td>\n",
       "      <td>08320</td>\n",
       "    </tr>\n",
       "    <tr>\n",
       "      <th>2</th>\n",
       "      <td>08340</td>\n",
       "      <td>08320</td>\n",
       "    </tr>\n",
       "    <tr>\n",
       "      <th>3</th>\n",
       "      <td>09090</td>\n",
       "      <td>09100</td>\n",
       "    </tr>\n",
       "    <tr>\n",
       "      <th>4</th>\n",
       "      <td>09410</td>\n",
       "      <td>09409</td>\n",
       "    </tr>\n",
       "    <tr>\n",
       "      <th>...</th>\n",
       "      <td>...</td>\n",
       "      <td>...</td>\n",
       "    </tr>\n",
       "    <tr>\n",
       "      <th>83</th>\n",
       "      <td>88610</td>\n",
       "      <td>88609</td>\n",
       "    </tr>\n",
       "    <tr>\n",
       "      <th>84</th>\n",
       "      <td>88628</td>\n",
       "      <td>88626</td>\n",
       "    </tr>\n",
       "    <tr>\n",
       "      <th>85</th>\n",
       "      <td>88658</td>\n",
       "      <td>88656</td>\n",
       "    </tr>\n",
       "    <tr>\n",
       "      <th>86</th>\n",
       "      <td>88660</td>\n",
       "      <td>88662</td>\n",
       "    </tr>\n",
       "    <tr>\n",
       "      <th>87</th>\n",
       "      <td>88661</td>\n",
       "      <td>88662</td>\n",
       "    </tr>\n",
       "  </tbody>\n",
       "</table>\n",
       "<p>88 rows × 2 columns</p>\n",
       "</div>"
      ],
      "text/plain": [
       "   postcode.my closest_posm\n",
       "0        06660        06650\n",
       "1        08330        08320\n",
       "2        08340        08320\n",
       "3        09090        09100\n",
       "4        09410        09409\n",
       "..         ...          ...\n",
       "83       88610        88609\n",
       "84       88628        88626\n",
       "85       88658        88656\n",
       "86       88660        88662\n",
       "87       88661        88662\n",
       "\n",
       "[88 rows x 2 columns]"
      ]
     },
     "metadata": {},
     "output_type": "display_data"
    }
   ],
   "source": [
    "# Run the heuristic.\n",
    "results = []\n",
    "for pc in not_in_posm:\n",
    "    similar_mask = df_posm.apply(lambda x: x[:2] == pc[:2]) # Same first 2 digits (inefficient, but small dataset...)\n",
    "    similar = df_posm[similar_mask].to_list()\n",
    "    if len(similar) == 0:\n",
    "        raise ValueError(f\"{pc} has no Pos Malaysia postcode with the same first 2 digits!\")\n",
    "    nearest = min(similar, key=lambda x: abs(int(x[2:]) - int(pc[2:])))\n",
    "    results.append((pc, nearest))\n",
    "df = pd.DataFrame(results, columns=[\"postcode.my\", \"closest_posm\"])\n",
    "display(df)\n",
    "\n",
    "# TODO: check if these coordinates are close enough"
   ]
  },
  {
   "cell_type": "markdown",
   "metadata": {},
   "source": [
    "# Export files"
   ]
  },
  {
   "cell_type": "code",
   "execution_count": 6,
   "metadata": {},
   "outputs": [],
   "source": [
    "df.to_csv(\"./output/postcode.my-to-posm.csv\", sep=\"|\", index=False)"
   ]
  }
 ],
 "metadata": {
  "kernelspec": {
   "display_name": "mys-postcode-matrix",
   "language": "python",
   "name": "mys-postcode-matrix"
  },
  "language_info": {
   "codemirror_mode": {
    "name": "ipython",
    "version": 3
   },
   "file_extension": ".py",
   "mimetype": "text/x-python",
   "name": "python",
   "nbconvert_exporter": "python",
   "pygments_lexer": "ipython3",
   "version": "3.9.5"
  },
  "metadata": {
   "interpreter": {
    "hash": "e80e83b4ce063b6d077aa938f4da7ed4d120271a429356fc4f499d6cbc968636"
   }
  }
 },
 "nbformat": 4,
 "nbformat_minor": 4
}

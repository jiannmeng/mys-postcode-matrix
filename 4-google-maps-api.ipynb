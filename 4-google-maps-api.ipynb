{
 "metadata": {
  "language_info": {
   "codemirror_mode": {
    "name": "ipython",
    "version": 3
   },
   "file_extension": ".py",
   "mimetype": "text/x-python",
   "name": "python",
   "nbconvert_exporter": "python",
   "pygments_lexer": "ipython3",
   "version": "3.9.5"
  },
  "orig_nbformat": 2,
  "kernelspec": {
   "name": "pythonjvsc74a57bd0e80e83b4ce063b6d077aa938f4da7ed4d120271a429356fc4f499d6cbc968636",
   "display_name": "Python 3.9.5  ('.venv': venv)"
  },
  "metadata": {
   "interpreter": {
    "hash": "e80e83b4ce063b6d077aa938f4da7ed4d120271a429356fc4f499d6cbc968636"
   }
  }
 },
 "nbformat": 4,
 "nbformat_minor": 2,
 "cells": [
  {
   "cell_type": "code",
   "execution_count": 1,
   "metadata": {},
   "outputs": [],
   "source": [
    "import csv\n",
    "import json\n",
    "from pprint import pprint\n",
    "\n",
    "import googlemaps\n",
    "import numpy as np\n",
    "import pandas as pd\n",
    "\n",
    "import src.utils"
   ]
  },
  {
   "source": [
    "# Google Maps Distance Matrix API\n",
    "\n",
    "We now have every valid pairing of master postcodes, and their coordinates. As a reminder:\n",
    "\n",
    "- Master postcodes in one ppv_region cannot reach another ppv_region (due to state travel restrictions).\n",
    "- Selangor, KL and Putrajaya are considered the same ppv_region.\n",
    "- Each other state is its own ppv_region.\n",
    "\n",
    "We will use the Google Maps Distance Matrix API to obtain the time required to travel from one valid master postcode to another.\n",
    "\n",
    "As the API returns a different result at different times, it is best to perform the all requests at the same time, preferable at night when roads are empty. This way, we can avoid traffic jams messing up our time between postcodes."
   ],
   "cell_type": "markdown",
   "metadata": {}
  },
  {
   "cell_type": "code",
   "execution_count": 2,
   "metadata": {
    "tags": []
   },
   "outputs": [
    {
     "output_type": "stream",
     "name": "stdout",
     "text": [
      "[{'lat_1': '1.42513621',\n  'lat_2': '1.456123',\n  'lon_1': '103.61443042',\n  'lon_2': '103.761701',\n  'master_postcode_1': '79000',\n  'master_postcode_2': '80000',\n  'ppv_region': 'Johor'},\n {'lat_1': '1.42513621',\n  'lat_2': '1.662964',\n  'lon_1': '103.61443042',\n  'lon_2': '103.600178',\n  'master_postcode_1': '79000',\n  'master_postcode_2': '81000',\n  'ppv_region': 'Johor'},\n {'lat_1': '1.42513621',\n  'lat_2': '1.4971995',\n  'lon_1': '103.61443042',\n  'lon_2': '103.711685',\n  'master_postcode_1': '79000',\n  'master_postcode_2': '81300',\n  'ppv_region': 'Johor'}]\n"
     ]
    }
   ],
   "source": [
    "# Import the list of all master postcode pairings from previous notebook.\n",
    "with open(\"./output/master-postcode-pairs.csv\") as fp:\n",
    "    mpc_pairs = list(csv.DictReader(fp, delimiter=\"|\"))\n",
    "# Note: The lat and lon are strings instead of floats, but that's ok as we need strings for the API anyways.\n",
    "\n",
    "pprint(mpc_pairs[:3])"
   ]
  },
  {
   "cell_type": "code",
   "execution_count": 3,
   "metadata": {
    "tags": []
   },
   "outputs": [
    {
     "output_type": "stream",
     "name": "stdout",
     "text": [
      "Example: Kedah (first 3)\n[{'lat_1': '6.131583',\n  'lat_2': '6.269412',\n  'lon_1': '100.373412',\n  'lon_2': '100.42052',\n  'master_postcode_1': '05000',\n  'master_postcode_2': '06000',\n  'ppv_region': 'Kedah'},\n {'lat_1': '6.131583',\n  'lat_2': '6.443931344999999',\n  'lon_1': '100.373412',\n  'lon_2': '100.46085003499999',\n  'master_postcode_1': '05000',\n  'master_postcode_2': '06010',\n  'ppv_region': 'Kedah'},\n {'lat_1': '6.131583',\n  'lat_2': '6.51576667',\n  'lon_1': '100.373412',\n  'lon_2': '100.421848',\n  'master_postcode_1': '05000',\n  'master_postcode_2': '06050',\n  'ppv_region': 'Kedah'}]\n-----\nNumber of valid pairings by state:\n{'Johor': 1378,\n 'Kedah': 528,\n 'Kelantan': 210,\n 'Melaka': 136,\n 'Negeri Sembilan': 351,\n 'Pahang': 666,\n 'Perak': 2145,\n 'Perlis': 15,\n 'Pulau Pinang': 231,\n 'Sabah': 496,\n 'Sarawak': 990,\n 'Selangor/KL/Putrajaya': 1225,\n 'Terengganu': 231}\n"
     ]
    }
   ],
   "source": [
    "# For testing purposes, it is best to hit the API with one ppv_region at a time.\n",
    "# Let's separate this by ppv_region:\n",
    "mpc_pairs_by_region = dict()\n",
    "for mpc_pair in mpc_pairs:\n",
    "    ppv = mpc_pair[\"ppv_region\"]\n",
    "    if ppv not in mpc_pairs_by_region.keys():\n",
    "        mpc_pairs_by_region[ppv] = []\n",
    "    mpc_pairs_by_region[ppv].append(mpc_pair)\n",
    "\n",
    "print(\"Example: Kedah (first 3)\")\n",
    "pprint(mpc_pairs_by_region[\"Kedah\"][:3])\n",
    "print(\"-----\")\n",
    "print(\"Number of valid pairings by state:\")\n",
    "pprint({k: len(v) for k, v in mpc_pairs_by_region.items()})\n"
   ]
  },
  {
   "cell_type": "code",
   "execution_count": 4,
   "metadata": {},
   "outputs": [
    {
     "output_type": "stream",
     "name": "stdout",
     "text": [
      "dict_keys(['Johor', 'Kedah', 'Kelantan', 'Melaka', 'Negeri Sembilan', 'Pahang', 'Perak', 'Perlis', 'Pulau Pinang', 'Sabah', 'Sarawak', 'Selangor/KL/Putrajaya', 'Terengganu'])\n"
     ]
    }
   ],
   "source": [
    "# The ppv_regions we can use for API testing.\n",
    "print(mpc_pairs_by_region.keys())"
   ]
  },
  {
   "cell_type": "code",
   "execution_count": 12,
   "metadata": {},
   "outputs": [
    {
     "output_type": "stream",
     "name": "stdout",
     "text": [
      "First response:\n{'destination_addresses': ['E8, 21060 Kuala Terengganu, Terengganu, Malaysia'],\n 'origin_addresses': ['Terminal Penumpang Kuala Terengganu, Jalan Sultan '\n                      'Zainal Abidin, 20200 Kuala Terengganu, Terengganu, '\n                      'Malaysia'],\n 'rows': [{'elements': [{'distance': {'text': '17.8 km', 'value': 17768},\n                         'duration': {'text': '25 mins', 'value': 1505},\n                         'status': 'OK'}]}],\n 'status': 'OK'}\n-----\nTotal responses: 231\nOK responses: 231\n"
     ]
    }
   ],
   "source": [
    "state = \"Terengganu\"\n",
    "mpc_pairs_api = mpc_pairs_by_region[state] # <-- This is what is fed into the API. Change as you please.\n",
    "\n",
    "SKIP = True # Change this to False to use the Maps API.\n",
    "if not SKIP:\n",
    "    gmaps = googlemaps.Client(key=src.utils.get_api_key())\n",
    "    responses = []  # All the responses we get from API.\n",
    "    ts = src.utils.now()\n",
    "    # Store the responses in a json file, inside ./responses folder.\n",
    "    with open(f\"./responses/distance-matrix-{ts}-{state}.json\", mode=\"a\") as fp:\n",
    "        for item in mpc_pairs_api:\n",
    "            # coordinates separated by comma, no spaces\n",
    "            origin = f\"{item['lat_1']},{item['lon_1']}\"\n",
    "            destination = f\"{item['lat_2']},{item['lon_2']}\"\n",
    "            try:\n",
    "                response = gmaps.distance_matrix(origin, destination)\n",
    "                # pprint(response)  # for debugging\n",
    "            except Exception as exc:\n",
    "                pprint(exc)\n",
    "            responses.append(response)\n",
    "        json.dump(responses, fp)\n",
    "    print(\"First response:\")\n",
    "    pprint(responses[0])\n",
    "    print(\"-----\")\n",
    "    print(f\"Total responses: {len(responses)}\")\n",
    "    ok_resp = sum(1 for r in responses if r[\"status\"] == \"OK\")\n",
    "    print(f\"OK responses: {ok_resp}\")\n"
   ]
  },
  {
   "source": [],
   "cell_type": "markdown",
   "metadata": {}
  },
  {
   "cell_type": "code",
   "execution_count": 38,
   "metadata": {},
   "outputs": [
    {
     "output_type": "stream",
     "name": "stdout",
     "text": [
      "[{'lat_1': '5.337306',\n  'lat_2': '5.331277666666666',\n  'lon_1': '103.13771',\n  'lon_2': '103.02555933333333',\n  'master_postcode_1': '20000',\n  'master_postcode_2': '21400',\n  'ppv_region': 'Terengganu',\n  'time_sec': 1505},\n {'lat_1': '5.337306',\n  'lat_2': '5.424328',\n  'lon_1': '103.13771',\n  'lon_2': '102.837014',\n  'master_postcode_1': '20000',\n  'master_postcode_2': '21450',\n  'ppv_region': 'Terengganu',\n  'time_sec': 3092},\n {'lat_1': '5.337306',\n  'lat_2': '5.38459347',\n  'lon_1': '103.13771',\n  'lon_2': '102.84120621',\n  'master_postcode_1': '20000',\n  'master_postcode_2': '21500',\n  'ppv_region': 'Terengganu',\n  'time_sec': 3179}]\n"
     ]
    }
   ],
   "source": [
    "# Augment the mpc_pairs_api dictionaries with the duration returned by API.\n",
    "state = \"Terengganu\"\n",
    "NAME = \"20210611-001855-Terengganu\"\n",
    "mpc_pairs_api = mpc_pairs_by_region[state] # <-- This is what is fed into the API. Change as you please.\n",
    "\n",
    "with open(f\"./responses/final/distance-matrix-{NAME}.json\") as fp: # Use this line for sample\n",
    "    responses = json.load(fp)\n",
    "\n",
    "# Add the corresponding duration into the mpc_pairs dictionaries\n",
    "try:\n",
    "    for item, resp in zip(mpc_pairs_api, responses):\n",
    "        element = resp[\"rows\"][0][\"elements\"][0]\n",
    "        if element[\"status\"] == \"ZERO_RESULTS\":\n",
    "            item[\"time_sec\"] = \"inf\"\n",
    "        else:\n",
    "            item[\"time_sec\"] = element[\"duration\"][\"value\"]\n",
    "except KeyError as exc:\n",
    "    print(resp)\n",
    "    raise exc\n",
    "\n",
    "pprint(mpc_pairs_api[:3])\n"
   ]
  },
  {
   "source": [
    "# Export files"
   ],
   "cell_type": "markdown",
   "metadata": {}
  },
  {
   "cell_type": "code",
   "execution_count": 39,
   "metadata": {},
   "outputs": [],
   "source": [
    "assert len(mpc_pairs_api) == len(responses)  # Check all responses are here\n",
    "with open(f\"./output/master-postcode-pairs-{NAME}.csv\", mode=\"w\", newline=\"\") as fp:\n",
    "    writer = csv.DictWriter(fp, fieldnames=mpc_pairs_api[0].keys(), delimiter=\"|\")\n",
    "    writer.writeheader()\n",
    "    for pair in mpc_pairs_api:\n",
    "        writer.writerow(pair)"
   ]
  }
 ]
}
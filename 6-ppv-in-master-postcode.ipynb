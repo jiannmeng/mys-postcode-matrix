{
 "metadata": {
  "language_info": {
   "codemirror_mode": {
    "name": "ipython",
    "version": 3
   },
   "file_extension": ".py",
   "mimetype": "text/x-python",
   "name": "python",
   "nbconvert_exporter": "python",
   "pygments_lexer": "ipython3",
   "version": "3.9.5"
  },
  "orig_nbformat": 2,
  "kernelspec": {
   "name": "pythonjvsc74a57bd0e80e83b4ce063b6d077aa938f4da7ed4d120271a429356fc4f499d6cbc968636",
   "display_name": "Python 3.9.5  ('.venv': venv)"
  },
  "metadata": {
   "interpreter": {
    "hash": "e80e83b4ce063b6d077aa938f4da7ed4d120271a429356fc4f499d6cbc968636"
   }
  }
 },
 "nbformat": 4,
 "nbformat_minor": 2,
 "cells": [
  {
   "cell_type": "code",
   "execution_count": 1,
   "metadata": {},
   "outputs": [],
   "source": [
    "import numpy as np\n",
    "import pandas as pd\n",
    "import src.utils"
   ]
  },
  {
   "cell_type": "code",
   "execution_count": 2,
   "metadata": {},
   "outputs": [
    {
     "output_type": "display_data",
     "data": {
      "text/plain": "                         state      district       lat         lon  \\\ncode                                                                 \n21-01040034              Johor   Kota Tinggi  1.553324  104.233728   \n21-01050110              Johor       Mersing  2.084023  103.946362   \nA01-01-01                Johor    Batu Pahat  1.849400  102.932600   \nA01-01-02                Johor    Batu Pahat  1.867000  103.113056   \nA01-02-01                Johor   Johor Bahru  1.550500  103.743900   \n...                        ...           ...       ...         ...   \nA14-01-04    W.P. Kuala Lumpur  Kuala Lumpur  3.071500  101.714000   \nA15-01-01          W.P. Labuan        Labuan  5.310400  115.233200   \nA15-01-02          W.P. Labuan        Labuan  5.289190  115.264651   \nA15-01-03          W.P. Labuan        Labuan  5.287617  115.249989   \nA16-01-01       W.P. Putrajaya     Putrajaya  2.944100  101.724300   \n\n                                                      ppv  \ncode                                                       \n21-01040034                KK Bandar Penawar, Kota Tinggi  \n21-01050110                       KK Tenggaroh 2, Mersing  \nA01-01-01                   Dewan Jubli Intan, Batu Pahat  \nA01-01-02        Dewan Orang Ramai Parit Raja, Batu Pahat  \nA01-02-01    Dewan Muafakat Johor Taman Adda, Johor Bahru  \n...                                                   ...  \nA14-01-04         Kompleks Sukan Desa Tasik, Kuala Lumpur  \nA15-01-01       Dewan Serbaguna Perbadanan Labuan, Labuan  \nA15-01-02      Dewan Kompleks Darul Kifayah MAIWP, Labuan  \nA15-01-03        Dewan Serbaguna (Seri Labuan) JKR Labuan  \nA16-01-01                     Dewan Sri Seroja, Putrajaya  \n\n[325 rows x 5 columns]",
      "text/html": "<div>\n<style scoped>\n    .dataframe tbody tr th:only-of-type {\n        vertical-align: middle;\n    }\n\n    .dataframe tbody tr th {\n        vertical-align: top;\n    }\n\n    .dataframe thead th {\n        text-align: right;\n    }\n</style>\n<table border=\"1\" class=\"dataframe\">\n  <thead>\n    <tr style=\"text-align: right;\">\n      <th></th>\n      <th>state</th>\n      <th>district</th>\n      <th>lat</th>\n      <th>lon</th>\n      <th>ppv</th>\n    </tr>\n    <tr>\n      <th>code</th>\n      <th></th>\n      <th></th>\n      <th></th>\n      <th></th>\n      <th></th>\n    </tr>\n  </thead>\n  <tbody>\n    <tr>\n      <th>21-01040034</th>\n      <td>Johor</td>\n      <td>Kota Tinggi</td>\n      <td>1.553324</td>\n      <td>104.233728</td>\n      <td>KK Bandar Penawar, Kota Tinggi</td>\n    </tr>\n    <tr>\n      <th>21-01050110</th>\n      <td>Johor</td>\n      <td>Mersing</td>\n      <td>2.084023</td>\n      <td>103.946362</td>\n      <td>KK Tenggaroh 2, Mersing</td>\n    </tr>\n    <tr>\n      <th>A01-01-01</th>\n      <td>Johor</td>\n      <td>Batu Pahat</td>\n      <td>1.849400</td>\n      <td>102.932600</td>\n      <td>Dewan Jubli Intan, Batu Pahat</td>\n    </tr>\n    <tr>\n      <th>A01-01-02</th>\n      <td>Johor</td>\n      <td>Batu Pahat</td>\n      <td>1.867000</td>\n      <td>103.113056</td>\n      <td>Dewan Orang Ramai Parit Raja, Batu Pahat</td>\n    </tr>\n    <tr>\n      <th>A01-02-01</th>\n      <td>Johor</td>\n      <td>Johor Bahru</td>\n      <td>1.550500</td>\n      <td>103.743900</td>\n      <td>Dewan Muafakat Johor Taman Adda, Johor Bahru</td>\n    </tr>\n    <tr>\n      <th>...</th>\n      <td>...</td>\n      <td>...</td>\n      <td>...</td>\n      <td>...</td>\n      <td>...</td>\n    </tr>\n    <tr>\n      <th>A14-01-04</th>\n      <td>W.P. Kuala Lumpur</td>\n      <td>Kuala Lumpur</td>\n      <td>3.071500</td>\n      <td>101.714000</td>\n      <td>Kompleks Sukan Desa Tasik, Kuala Lumpur</td>\n    </tr>\n    <tr>\n      <th>A15-01-01</th>\n      <td>W.P. Labuan</td>\n      <td>Labuan</td>\n      <td>5.310400</td>\n      <td>115.233200</td>\n      <td>Dewan Serbaguna Perbadanan Labuan, Labuan</td>\n    </tr>\n    <tr>\n      <th>A15-01-02</th>\n      <td>W.P. Labuan</td>\n      <td>Labuan</td>\n      <td>5.289190</td>\n      <td>115.264651</td>\n      <td>Dewan Kompleks Darul Kifayah MAIWP, Labuan</td>\n    </tr>\n    <tr>\n      <th>A15-01-03</th>\n      <td>W.P. Labuan</td>\n      <td>Labuan</td>\n      <td>5.287617</td>\n      <td>115.249989</td>\n      <td>Dewan Serbaguna (Seri Labuan) JKR Labuan</td>\n    </tr>\n    <tr>\n      <th>A16-01-01</th>\n      <td>W.P. Putrajaya</td>\n      <td>Putrajaya</td>\n      <td>2.944100</td>\n      <td>101.724300</td>\n      <td>Dewan Sri Seroja, Putrajaya</td>\n    </tr>\n  </tbody>\n</table>\n<p>325 rows × 5 columns</p>\n</div>"
     },
     "metadata": {}
    },
    {
     "output_type": "display_data",
     "data": {
      "text/plain": "                         state      district       lat         lon  \\\ncode                                                                 \n13-01020040              Johor   Johor Bahru  1.498065  103.872609   \n13-01020045              Johor   Johor Bahru  1.481109  103.891789   \n13-01010011              Johor    Batu Pahat  1.861841  102.951174   \n13-01010028              Johor    Batu Pahat  1.857952  102.922379   \n23-01010073              Johor    Batu Pahat  1.926446  102.849549   \n...                        ...           ...       ...         ...   \n23-14010853  W.P. Kuala Lumpur  Kuala Lumpur  3.060065  101.668068   \n23-14010818  W.P. Kuala Lumpur  Kuala Lumpur  3.052620  101.672844   \n23-14010626  W.P. Kuala Lumpur  Kuala Lumpur  3.129632  101.731670   \n23-14010320  W.P. Kuala Lumpur  Kuala Lumpur  3.153267  101.665602   \n23-14010123  W.P. Kuala Lumpur  Kuala Lumpur  3.158400  101.747236   \n\n                                                  ppv  \ncode                                                   \n13-01020040               Regency Specialist Hospital  \n13-01020045  Pasir Gudang Specialist Hospital Sdn Bhd  \n13-01010011                Pantai Hospital Batu Pahat  \n13-01010028                 Putra Specialist Hospital  \n23-01010073                         Klinik Sri Sulong  \n...                                               ...  \n23-14010853                         Klinik Pearl City  \n23-14010818   Qualitas Health Klinik Famili Medivista  \n23-14010626                         Klinik Ng Dan Lee  \n23-14010320                             Klinik Segara  \n23-14010123                         Klinik Ng Dan Lee  \n\n[329 rows x 5 columns]",
      "text/html": "<div>\n<style scoped>\n    .dataframe tbody tr th:only-of-type {\n        vertical-align: middle;\n    }\n\n    .dataframe tbody tr th {\n        vertical-align: top;\n    }\n\n    .dataframe thead th {\n        text-align: right;\n    }\n</style>\n<table border=\"1\" class=\"dataframe\">\n  <thead>\n    <tr style=\"text-align: right;\">\n      <th></th>\n      <th>state</th>\n      <th>district</th>\n      <th>lat</th>\n      <th>lon</th>\n      <th>ppv</th>\n    </tr>\n    <tr>\n      <th>code</th>\n      <th></th>\n      <th></th>\n      <th></th>\n      <th></th>\n      <th></th>\n    </tr>\n  </thead>\n  <tbody>\n    <tr>\n      <th>13-01020040</th>\n      <td>Johor</td>\n      <td>Johor Bahru</td>\n      <td>1.498065</td>\n      <td>103.872609</td>\n      <td>Regency Specialist Hospital</td>\n    </tr>\n    <tr>\n      <th>13-01020045</th>\n      <td>Johor</td>\n      <td>Johor Bahru</td>\n      <td>1.481109</td>\n      <td>103.891789</td>\n      <td>Pasir Gudang Specialist Hospital Sdn Bhd</td>\n    </tr>\n    <tr>\n      <th>13-01010011</th>\n      <td>Johor</td>\n      <td>Batu Pahat</td>\n      <td>1.861841</td>\n      <td>102.951174</td>\n      <td>Pantai Hospital Batu Pahat</td>\n    </tr>\n    <tr>\n      <th>13-01010028</th>\n      <td>Johor</td>\n      <td>Batu Pahat</td>\n      <td>1.857952</td>\n      <td>102.922379</td>\n      <td>Putra Specialist Hospital</td>\n    </tr>\n    <tr>\n      <th>23-01010073</th>\n      <td>Johor</td>\n      <td>Batu Pahat</td>\n      <td>1.926446</td>\n      <td>102.849549</td>\n      <td>Klinik Sri Sulong</td>\n    </tr>\n    <tr>\n      <th>...</th>\n      <td>...</td>\n      <td>...</td>\n      <td>...</td>\n      <td>...</td>\n      <td>...</td>\n    </tr>\n    <tr>\n      <th>23-14010853</th>\n      <td>W.P. Kuala Lumpur</td>\n      <td>Kuala Lumpur</td>\n      <td>3.060065</td>\n      <td>101.668068</td>\n      <td>Klinik Pearl City</td>\n    </tr>\n    <tr>\n      <th>23-14010818</th>\n      <td>W.P. Kuala Lumpur</td>\n      <td>Kuala Lumpur</td>\n      <td>3.052620</td>\n      <td>101.672844</td>\n      <td>Qualitas Health Klinik Famili Medivista</td>\n    </tr>\n    <tr>\n      <th>23-14010626</th>\n      <td>W.P. Kuala Lumpur</td>\n      <td>Kuala Lumpur</td>\n      <td>3.129632</td>\n      <td>101.731670</td>\n      <td>Klinik Ng Dan Lee</td>\n    </tr>\n    <tr>\n      <th>23-14010320</th>\n      <td>W.P. Kuala Lumpur</td>\n      <td>Kuala Lumpur</td>\n      <td>3.153267</td>\n      <td>101.665602</td>\n      <td>Klinik Segara</td>\n    </tr>\n    <tr>\n      <th>23-14010123</th>\n      <td>W.P. Kuala Lumpur</td>\n      <td>Kuala Lumpur</td>\n      <td>3.158400</td>\n      <td>101.747236</td>\n      <td>Klinik Ng Dan Lee</td>\n    </tr>\n  </tbody>\n</table>\n<p>329 rows × 5 columns</p>\n</div>"
     },
     "metadata": {}
    }
   ],
   "source": [
    "df = pd.read_pickle(\"./output/posm-postcodes-full.pkl\")\n",
    "\n",
    "config = {\n",
    "    \"sheet_name\": \"static\",\n",
    "    \"usecols\": [\"code\", \"state\", \"district\", \"lat\", \"lon\", \"ppv\"],\n",
    "    \"index_col\": 0,\n",
    "}\n",
    "ppv_public = pd.read_excel(\"./data/sensitive/dep_ppv.xlsx\", **config)\n",
    "ppv_private = pd.read_excel(\"./data/sensitive/dep_ppv_phcorp.xlsx\", **config)\n",
    "\n",
    "display(ppv_public)\n",
    "display(ppv_private)"
   ]
  },
  {
   "cell_type": "code",
   "execution_count": 3,
   "metadata": {},
   "outputs": [],
   "source": [
    "# We only want the master postcodes for this analysis.\n",
    "df = df.drop(columns=\"postcode\").drop_duplicates().set_index(\"master_postcode\")"
   ]
  },
  {
   "cell_type": "code",
   "execution_count": 4,
   "metadata": {},
   "outputs": [],
   "source": [
    "mpc_coords = {mpc: (x[\"lat\"], x[\"lon\"]) for mpc, x in df.iterrows()}\n",
    "\n",
    "def closest_mpc(lat: float, lon: float, coords: dict[str, (float, float)]) -> (str, float, float, float):\n",
    "    distance = dict()\n",
    "    for mpc, coord in coords.items():\n",
    "        mpc_lat, mpc_lon = coord\n",
    "        distance[mpc] = src.utils.haversine_km(lat, lon, mpc_lat, mpc_lon)\n",
    "    nearest = min(distance, key=distance.get)\n",
    "    return (nearest, coords[nearest][0], coords[nearest][1], distance[nearest])\n",
    "\n",
    "for df_ppv in [ppv_public, ppv_private]:\n",
    "    df_ppv[[\"nearest_master_postcode\", \"master_lat\", \"master_lon\", \"ppv_to_master_km\"]] = (\n",
    "        df_ppv.apply(\n",
    "            lambda x: closest_mpc(x[\"lat\"], x[\"lon\"], mpc_coords),\n",
    "            axis=\"columns\",\n",
    "            result_type=\"expand\"\n",
    "        )\n",
    "    )"
   ]
  },
  {
   "cell_type": "code",
   "execution_count": 5,
   "metadata": {},
   "outputs": [
    {
     "output_type": "stream",
     "name": "stdout",
     "text": [
      "Public PPV distance from master postcode:\n"
     ]
    },
    {
     "output_type": "display_data",
     "data": {
      "text/plain": "count    325.000000\nmean       5.253267\nstd        8.253693\nmin        0.022155\n25%        0.552188\n50%        2.358539\n75%        6.179767\nmax       64.173812\nName: ppv_to_master_km, dtype: float64"
     },
     "metadata": {}
    },
    {
     "output_type": "stream",
     "name": "stdout",
     "text": [
      "-----\nPrivate PPV distance from master postcode:\n"
     ]
    },
    {
     "output_type": "display_data",
     "data": {
      "text/plain": "count    329.000000\nmean       3.425588\nstd        2.928411\nmin        0.010556\n25%        1.468784\n50%        2.886429\n75%        4.686323\nmax       26.317929\nName: ppv_to_master_km, dtype: float64"
     },
     "metadata": {}
    }
   ],
   "source": [
    "print(\"Public PPV distance from master postcode:\")\n",
    "display(ppv_public[\"ppv_to_master_km\"].describe())\n",
    "print(\"-----\")\n",
    "print(\"Private PPV distance from master postcode:\")\n",
    "display(ppv_private[\"ppv_to_master_km\"].describe())\n"
   ]
  },
  {
   "cell_type": "code",
   "execution_count": 6,
   "metadata": {},
   "outputs": [
    {
     "output_type": "display_data",
     "data": {
      "text/plain": "                           state             ppv_region       lat         lon  \\\nmaster_postcode                                                                 \n79000                      Johor                  Johor  1.425136  103.614430   \n80000                      Johor                  Johor  1.456123  103.761701   \n81000                      Johor                  Johor  1.662964  103.600178   \n81300                      Johor                  Johor  1.497200  103.711685   \n81400                      Johor                  Johor  1.606506  103.647617   \n...                          ...                    ...       ...         ...   \n24300                 Terengganu             Terengganu  4.500320  103.440871   \n50000            WP Kuala Lumpur  Selangor/KL/Putrajaya  3.143717  101.694244   \n53100            WP Kuala Lumpur  Selangor/KL/Putrajaya  3.260238  101.733399   \n87000                  WP Labuan              WP Labuan  5.276694  115.245045   \n62000               WP Putrajaya  Selangor/KL/Putrajaya  2.937230  101.694820   \n\n                 num_ppv_public  num_ppv_private  total_num_ppv  \nmaster_postcode                                                  \n79000                         0                3              3  \n80000                         0                7              7  \n81000                         1                3              4  \n81300                         1                9             10  \n81400                         1                0              1  \n...                         ...              ...            ...  \n24300                         2                0              2  \n50000                         1               32             33  \n53100                         0                2              2  \n87000                         3                0              3  \n62000                         1                2              3  \n\n[432 rows x 7 columns]",
      "text/html": "<div>\n<style scoped>\n    .dataframe tbody tr th:only-of-type {\n        vertical-align: middle;\n    }\n\n    .dataframe tbody tr th {\n        vertical-align: top;\n    }\n\n    .dataframe thead th {\n        text-align: right;\n    }\n</style>\n<table border=\"1\" class=\"dataframe\">\n  <thead>\n    <tr style=\"text-align: right;\">\n      <th></th>\n      <th>state</th>\n      <th>ppv_region</th>\n      <th>lat</th>\n      <th>lon</th>\n      <th>num_ppv_public</th>\n      <th>num_ppv_private</th>\n      <th>total_num_ppv</th>\n    </tr>\n    <tr>\n      <th>master_postcode</th>\n      <th></th>\n      <th></th>\n      <th></th>\n      <th></th>\n      <th></th>\n      <th></th>\n      <th></th>\n    </tr>\n  </thead>\n  <tbody>\n    <tr>\n      <th>79000</th>\n      <td>Johor</td>\n      <td>Johor</td>\n      <td>1.425136</td>\n      <td>103.614430</td>\n      <td>0</td>\n      <td>3</td>\n      <td>3</td>\n    </tr>\n    <tr>\n      <th>80000</th>\n      <td>Johor</td>\n      <td>Johor</td>\n      <td>1.456123</td>\n      <td>103.761701</td>\n      <td>0</td>\n      <td>7</td>\n      <td>7</td>\n    </tr>\n    <tr>\n      <th>81000</th>\n      <td>Johor</td>\n      <td>Johor</td>\n      <td>1.662964</td>\n      <td>103.600178</td>\n      <td>1</td>\n      <td>3</td>\n      <td>4</td>\n    </tr>\n    <tr>\n      <th>81300</th>\n      <td>Johor</td>\n      <td>Johor</td>\n      <td>1.497200</td>\n      <td>103.711685</td>\n      <td>1</td>\n      <td>9</td>\n      <td>10</td>\n    </tr>\n    <tr>\n      <th>81400</th>\n      <td>Johor</td>\n      <td>Johor</td>\n      <td>1.606506</td>\n      <td>103.647617</td>\n      <td>1</td>\n      <td>0</td>\n      <td>1</td>\n    </tr>\n    <tr>\n      <th>...</th>\n      <td>...</td>\n      <td>...</td>\n      <td>...</td>\n      <td>...</td>\n      <td>...</td>\n      <td>...</td>\n      <td>...</td>\n    </tr>\n    <tr>\n      <th>24300</th>\n      <td>Terengganu</td>\n      <td>Terengganu</td>\n      <td>4.500320</td>\n      <td>103.440871</td>\n      <td>2</td>\n      <td>0</td>\n      <td>2</td>\n    </tr>\n    <tr>\n      <th>50000</th>\n      <td>WP Kuala Lumpur</td>\n      <td>Selangor/KL/Putrajaya</td>\n      <td>3.143717</td>\n      <td>101.694244</td>\n      <td>1</td>\n      <td>32</td>\n      <td>33</td>\n    </tr>\n    <tr>\n      <th>53100</th>\n      <td>WP Kuala Lumpur</td>\n      <td>Selangor/KL/Putrajaya</td>\n      <td>3.260238</td>\n      <td>101.733399</td>\n      <td>0</td>\n      <td>2</td>\n      <td>2</td>\n    </tr>\n    <tr>\n      <th>87000</th>\n      <td>WP Labuan</td>\n      <td>WP Labuan</td>\n      <td>5.276694</td>\n      <td>115.245045</td>\n      <td>3</td>\n      <td>0</td>\n      <td>3</td>\n    </tr>\n    <tr>\n      <th>62000</th>\n      <td>WP Putrajaya</td>\n      <td>Selangor/KL/Putrajaya</td>\n      <td>2.937230</td>\n      <td>101.694820</td>\n      <td>1</td>\n      <td>2</td>\n      <td>3</td>\n    </tr>\n  </tbody>\n</table>\n<p>432 rows × 7 columns</p>\n</div>"
     },
     "metadata": {}
    }
   ],
   "source": [
    "gb_public = ppv_public.groupby(\"nearest_master_postcode\").count().apply(max, axis=\"columns\").to_dict()\n",
    "gb_private = ppv_private.groupby(\"nearest_master_postcode\").count().apply(max, axis=\"columns\").to_dict()\n",
    "\n",
    "df[[\"num_ppv_public\", \"num_ppv_private\"]] = (\n",
    "    df.apply(\n",
    "        lambda x: (gb_public.get(x.name, 0), gb_private.get(x.name, 0)),\n",
    "        axis=\"columns\",\n",
    "        result_type=\"expand\",\n",
    "    )\n",
    ")\n",
    "df[\"total_num_ppv\"] = df[[\"num_ppv_public\", \"num_ppv_private\"]].apply(sum, axis=\"columns\")\n",
    "display(df)"
   ]
  },
  {
   "cell_type": "code",
   "execution_count": 7,
   "metadata": {},
   "outputs": [
    {
     "output_type": "display_data",
     "data": {
      "text/plain": "                      state  ppv_region       lat         lon  num_ppv_public  \\\nmaster_postcode                                                                 \n81450                 Johor       Johor  1.750503  103.672815               0   \n81600                 Johor       Johor  1.363912  104.111340               0   \n81850                 Johor       Johor  1.817035  103.474730               0   \n81920                 Johor       Johor  1.676373  104.020516               0   \n82100                 Johor       Johor  1.596936  103.331408               0   \n...                     ...         ...       ...         ...             ...   \n23300            Terengganu  Terengganu  4.573532  103.313231               0   \n24000            Terengganu  Terengganu  4.249831  103.319935               0   \n24050            Terengganu  Terengganu  4.268690  103.211904               0   \n24100            Terengganu  Terengganu  4.335356  103.479837               0   \n24200            Terengganu  Terengganu  4.426911  103.452517               0   \n\n                 num_ppv_private  total_num_ppv  \nmaster_postcode                                  \n81450                          0              0  \n81600                          0              0  \n81850                          0              0  \n81920                          0              0  \n82100                          0              0  \n...                          ...            ...  \n23300                          0              0  \n24000                          0              0  \n24050                          0              0  \n24100                          0              0  \n24200                          0              0  \n\n[167 rows x 7 columns]",
      "text/html": "<div>\n<style scoped>\n    .dataframe tbody tr th:only-of-type {\n        vertical-align: middle;\n    }\n\n    .dataframe tbody tr th {\n        vertical-align: top;\n    }\n\n    .dataframe thead th {\n        text-align: right;\n    }\n</style>\n<table border=\"1\" class=\"dataframe\">\n  <thead>\n    <tr style=\"text-align: right;\">\n      <th></th>\n      <th>state</th>\n      <th>ppv_region</th>\n      <th>lat</th>\n      <th>lon</th>\n      <th>num_ppv_public</th>\n      <th>num_ppv_private</th>\n      <th>total_num_ppv</th>\n    </tr>\n    <tr>\n      <th>master_postcode</th>\n      <th></th>\n      <th></th>\n      <th></th>\n      <th></th>\n      <th></th>\n      <th></th>\n      <th></th>\n    </tr>\n  </thead>\n  <tbody>\n    <tr>\n      <th>81450</th>\n      <td>Johor</td>\n      <td>Johor</td>\n      <td>1.750503</td>\n      <td>103.672815</td>\n      <td>0</td>\n      <td>0</td>\n      <td>0</td>\n    </tr>\n    <tr>\n      <th>81600</th>\n      <td>Johor</td>\n      <td>Johor</td>\n      <td>1.363912</td>\n      <td>104.111340</td>\n      <td>0</td>\n      <td>0</td>\n      <td>0</td>\n    </tr>\n    <tr>\n      <th>81850</th>\n      <td>Johor</td>\n      <td>Johor</td>\n      <td>1.817035</td>\n      <td>103.474730</td>\n      <td>0</td>\n      <td>0</td>\n      <td>0</td>\n    </tr>\n    <tr>\n      <th>81920</th>\n      <td>Johor</td>\n      <td>Johor</td>\n      <td>1.676373</td>\n      <td>104.020516</td>\n      <td>0</td>\n      <td>0</td>\n      <td>0</td>\n    </tr>\n    <tr>\n      <th>82100</th>\n      <td>Johor</td>\n      <td>Johor</td>\n      <td>1.596936</td>\n      <td>103.331408</td>\n      <td>0</td>\n      <td>0</td>\n      <td>0</td>\n    </tr>\n    <tr>\n      <th>...</th>\n      <td>...</td>\n      <td>...</td>\n      <td>...</td>\n      <td>...</td>\n      <td>...</td>\n      <td>...</td>\n      <td>...</td>\n    </tr>\n    <tr>\n      <th>23300</th>\n      <td>Terengganu</td>\n      <td>Terengganu</td>\n      <td>4.573532</td>\n      <td>103.313231</td>\n      <td>0</td>\n      <td>0</td>\n      <td>0</td>\n    </tr>\n    <tr>\n      <th>24000</th>\n      <td>Terengganu</td>\n      <td>Terengganu</td>\n      <td>4.249831</td>\n      <td>103.319935</td>\n      <td>0</td>\n      <td>0</td>\n      <td>0</td>\n    </tr>\n    <tr>\n      <th>24050</th>\n      <td>Terengganu</td>\n      <td>Terengganu</td>\n      <td>4.268690</td>\n      <td>103.211904</td>\n      <td>0</td>\n      <td>0</td>\n      <td>0</td>\n    </tr>\n    <tr>\n      <th>24100</th>\n      <td>Terengganu</td>\n      <td>Terengganu</td>\n      <td>4.335356</td>\n      <td>103.479837</td>\n      <td>0</td>\n      <td>0</td>\n      <td>0</td>\n    </tr>\n    <tr>\n      <th>24200</th>\n      <td>Terengganu</td>\n      <td>Terengganu</td>\n      <td>4.426911</td>\n      <td>103.452517</td>\n      <td>0</td>\n      <td>0</td>\n      <td>0</td>\n    </tr>\n  </tbody>\n</table>\n<p>167 rows × 7 columns</p>\n</div>"
     },
     "metadata": {}
    }
   ],
   "source": [
    "# Which master postcode has no PPV?\r\n",
    "mpc_no_ppv = df[df[\"total_num_ppv\"] == 0]\r\n",
    "display(mpc_no_ppv)"
   ]
  },
  {
   "source": [
    "# Export file"
   ],
   "cell_type": "markdown",
   "metadata": {}
  },
  {
   "cell_type": "code",
   "execution_count": 8,
   "metadata": {},
   "outputs": [],
   "source": [
    "df.to_excel(\"./output/master-postcodes-ppv-count.xlsx\")"
   ]
  }
 ]
}
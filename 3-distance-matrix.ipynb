{
 "metadata": {
  "language_info": {
   "codemirror_mode": {
    "name": "ipython",
    "version": 3
   },
   "file_extension": ".py",
   "mimetype": "text/x-python",
   "name": "python",
   "nbconvert_exporter": "python",
   "pygments_lexer": "ipython3",
   "version": "3.9.5"
  },
  "orig_nbformat": 2,
  "kernelspec": {
   "name": "pythonjvsc74a57bd0e80e83b4ce063b6d077aa938f4da7ed4d120271a429356fc4f499d6cbc968636",
   "display_name": "Python 3.9.5 64-bit ('.venv': poetry)"
  },
  "metadata": {
   "interpreter": {
    "hash": "e80e83b4ce063b6d077aa938f4da7ed4d120271a429356fc4f499d6cbc968636"
   }
  }
 },
 "nbformat": 4,
 "nbformat_minor": 2,
 "cells": [
  {
   "cell_type": "code",
   "execution_count": 1,
   "metadata": {},
   "outputs": [],
   "source": [
    "import csv\n",
    "import itertools\n",
    "\n",
    "import openpyxl\n",
    "import pandas as pd\n",
    "\n",
    "import src.utils\n"
   ]
  },
  {
   "cell_type": "code",
   "execution_count": 2,
   "metadata": {},
   "outputs": [
    {
     "output_type": "display_data",
     "data": {
      "text/plain": "      master_postcode       state  ppv_region       lat         lon\n708             79000       Johor       Johor  1.425136  103.614430\n52400           80000       Johor       Johor  1.456123  103.761701\n4237            81000       Johor       Johor  1.662964  103.600178\n51              81300       Johor       Johor  1.497200  103.711685\n3800            81400       Johor       Johor  1.606506  103.647617\n...               ...         ...         ...       ...         ...\n15261           24060  Terengganu  Terengganu  4.230972  103.427966\n6654            24100  Terengganu  Terengganu  4.335356  103.479837\n6690            24200  Terengganu  Terengganu  4.426911  103.452517\n7300            24300  Terengganu  Terengganu  4.500320  103.440871\n44175           87000   WP Labuan   WP Labuan  5.276694  115.245045\n\n[432 rows x 5 columns]",
      "text/html": "<div>\n<style scoped>\n    .dataframe tbody tr th:only-of-type {\n        vertical-align: middle;\n    }\n\n    .dataframe tbody tr th {\n        vertical-align: top;\n    }\n\n    .dataframe thead th {\n        text-align: right;\n    }\n</style>\n<table border=\"1\" class=\"dataframe\">\n  <thead>\n    <tr style=\"text-align: right;\">\n      <th></th>\n      <th>master_postcode</th>\n      <th>state</th>\n      <th>ppv_region</th>\n      <th>lat</th>\n      <th>lon</th>\n    </tr>\n  </thead>\n  <tbody>\n    <tr>\n      <th>708</th>\n      <td>79000</td>\n      <td>Johor</td>\n      <td>Johor</td>\n      <td>1.425136</td>\n      <td>103.614430</td>\n    </tr>\n    <tr>\n      <th>52400</th>\n      <td>80000</td>\n      <td>Johor</td>\n      <td>Johor</td>\n      <td>1.456123</td>\n      <td>103.761701</td>\n    </tr>\n    <tr>\n      <th>4237</th>\n      <td>81000</td>\n      <td>Johor</td>\n      <td>Johor</td>\n      <td>1.662964</td>\n      <td>103.600178</td>\n    </tr>\n    <tr>\n      <th>51</th>\n      <td>81300</td>\n      <td>Johor</td>\n      <td>Johor</td>\n      <td>1.497200</td>\n      <td>103.711685</td>\n    </tr>\n    <tr>\n      <th>3800</th>\n      <td>81400</td>\n      <td>Johor</td>\n      <td>Johor</td>\n      <td>1.606506</td>\n      <td>103.647617</td>\n    </tr>\n    <tr>\n      <th>...</th>\n      <td>...</td>\n      <td>...</td>\n      <td>...</td>\n      <td>...</td>\n      <td>...</td>\n    </tr>\n    <tr>\n      <th>15261</th>\n      <td>24060</td>\n      <td>Terengganu</td>\n      <td>Terengganu</td>\n      <td>4.230972</td>\n      <td>103.427966</td>\n    </tr>\n    <tr>\n      <th>6654</th>\n      <td>24100</td>\n      <td>Terengganu</td>\n      <td>Terengganu</td>\n      <td>4.335356</td>\n      <td>103.479837</td>\n    </tr>\n    <tr>\n      <th>6690</th>\n      <td>24200</td>\n      <td>Terengganu</td>\n      <td>Terengganu</td>\n      <td>4.426911</td>\n      <td>103.452517</td>\n    </tr>\n    <tr>\n      <th>7300</th>\n      <td>24300</td>\n      <td>Terengganu</td>\n      <td>Terengganu</td>\n      <td>4.500320</td>\n      <td>103.440871</td>\n    </tr>\n    <tr>\n      <th>44175</th>\n      <td>87000</td>\n      <td>WP Labuan</td>\n      <td>WP Labuan</td>\n      <td>5.276694</td>\n      <td>115.245045</td>\n    </tr>\n  </tbody>\n</table>\n<p>432 rows × 5 columns</p>\n</div>"
     },
     "metadata": {}
    }
   ],
   "source": [
    "# Import in df_pc from Notebook 2\n",
    "df_pc = pd.read_pickle(\"./output/posm-postcodes-full.pkl\")\n",
    "\n",
    "# Get just the master postcodes. Sort by region for a nicer matrix later.\n",
    "df_mpc = df_pc.drop(columns=\"postcode\").drop_duplicates()\n",
    "df_mpc = df_mpc.sort_values(by=[\"ppv_region\", \"master_postcode\"])\n",
    "\n",
    "display(df_mpc)"
   ]
  },
  {
   "source": [
    " # Distance Matrix\n",
    "\n",
    " Generate a distance matrix: the haversine distance between any two master postcodes.\n",
    " Postcodes in different `ppv_region`s will be blank (NA) as we can't travel across borders.\n",
    "\n",
    " Since this is quite expensive computation-wise, we will also generate a csv which\n",
    " stores all the valid master postcode pairings and coordinates. This will be used for for feeding into Google Maps API."
   ],
   "cell_type": "markdown",
   "metadata": {}
  },
  {
   "cell_type": "code",
   "execution_count": 3,
   "metadata": {},
   "outputs": [
    {
     "output_type": "display_data",
     "data": {
      "text/plain": "                      Johor                                              \\\n                      79000      80000      81000      81300      81400   \nJohor      79000          0  16.718734   26.47602  13.448168  20.489126   \n           80000  16.718734          0   29.15918   7.190763  20.973199   \n           81000   26.47602   29.15918          0  22.197841    8.19327   \n           81300  13.448168   7.190763  22.197841          0  14.078112   \n           81400  20.489126  20.973199    8.19327  14.078112          0   \n...                     ...        ...        ...        ...        ...   \nTerengganu 24060       <NA>       <NA>       <NA>       <NA>       <NA>   \n           24100       <NA>       <NA>       <NA>       <NA>       <NA>   \n           24200       <NA>       <NA>       <NA>       <NA>       <NA>   \n           24300       <NA>       <NA>       <NA>       <NA>       <NA>   \nWP Labuan  87000       <NA>       <NA>       <NA>       <NA>       <NA>   \n\n                                                                         ...  \\\n                      81440      81450      81500      81550      81600  ...   \nJohor      79000  50.102419  36.733454  14.816449   3.701622  55.620452  ...   \n           80000  49.457668  34.170561  28.579943  19.022374  40.170806  ...   \n           81000   23.72382  12.638248  19.979265   23.86066  65.792808  ...   \n           81300   43.46905  28.477578  22.474711  14.496835   46.80334  ...   \n           81400  30.178914  16.244601  18.859817  18.668948  58.141493  ...   \n...                     ...        ...        ...        ...        ...  ...   \nTerengganu 24060       <NA>       <NA>       <NA>       <NA>       <NA>  ...   \n           24100       <NA>       <NA>       <NA>       <NA>       <NA>  ...   \n           24200       <NA>       <NA>       <NA>       <NA>       <NA>  ...   \n           24300       <NA>       <NA>       <NA>       <NA>       <NA>  ...   \nWP Labuan  87000       <NA>       <NA>       <NA>       <NA>       <NA>  ...   \n\n                 Terengganu                                              \\\n                      23200      23300      23400      24000      24050   \nJohor      79000       <NA>       <NA>       <NA>       <NA>       <NA>   \n           80000       <NA>       <NA>       <NA>       <NA>       <NA>   \n           81000       <NA>       <NA>       <NA>       <NA>       <NA>   \n           81300       <NA>       <NA>       <NA>       <NA>       <NA>   \n           81400       <NA>       <NA>       <NA>       <NA>       <NA>   \n...                     ...        ...        ...        ...        ...   \nTerengganu 24060  65.384164  40.133535  49.484964  12.154111  24.307933   \n           24100  58.007021  32.268003  43.515205  20.107166   30.60046   \n           24200  47.985241  22.440356  34.391023  24.557076  31.936762   \n           24300  40.942914  16.313085  28.854912  30.893018  36.140766   \nWP Labuan  87000       <NA>       <NA>       <NA>       <NA>       <NA>   \n\n                                                             WP Labuan  \n                      24060      24100      24200      24300     87000  \nJohor      79000       <NA>       <NA>       <NA>       <NA>      <NA>  \n           80000       <NA>       <NA>       <NA>       <NA>      <NA>  \n           81000       <NA>       <NA>       <NA>       <NA>      <NA>  \n           81300       <NA>       <NA>       <NA>       <NA>      <NA>  \n           81400       <NA>       <NA>       <NA>       <NA>      <NA>  \n...                     ...        ...        ...        ...       ...  \nTerengganu 24060          0  12.945771  21.943034  29.965463      <NA>  \n           24100  12.945771          0   10.61483  18.833153      <NA>  \n           24200  21.943034   10.61483          0   8.258988      <NA>  \n           24300  29.965463  18.833153   8.258988          0      <NA>  \nWP Labuan  87000       <NA>       <NA>       <NA>       <NA>         0  \n\n[432 rows x 432 columns]",
      "text/html": "<div>\n<style scoped>\n    .dataframe tbody tr th:only-of-type {\n        vertical-align: middle;\n    }\n\n    .dataframe tbody tr th {\n        vertical-align: top;\n    }\n\n    .dataframe thead tr th {\n        text-align: left;\n    }\n</style>\n<table border=\"1\" class=\"dataframe\">\n  <thead>\n    <tr>\n      <th></th>\n      <th></th>\n      <th colspan=\"10\" halign=\"left\">Johor</th>\n      <th>...</th>\n      <th colspan=\"9\" halign=\"left\">Terengganu</th>\n      <th>WP Labuan</th>\n    </tr>\n    <tr>\n      <th></th>\n      <th></th>\n      <th>79000</th>\n      <th>80000</th>\n      <th>81000</th>\n      <th>81300</th>\n      <th>81400</th>\n      <th>81440</th>\n      <th>81450</th>\n      <th>81500</th>\n      <th>81550</th>\n      <th>81600</th>\n      <th>...</th>\n      <th>23200</th>\n      <th>23300</th>\n      <th>23400</th>\n      <th>24000</th>\n      <th>24050</th>\n      <th>24060</th>\n      <th>24100</th>\n      <th>24200</th>\n      <th>24300</th>\n      <th>87000</th>\n    </tr>\n  </thead>\n  <tbody>\n    <tr>\n      <th rowspan=\"5\" valign=\"top\">Johor</th>\n      <th>79000</th>\n      <td>0</td>\n      <td>16.718734</td>\n      <td>26.47602</td>\n      <td>13.448168</td>\n      <td>20.489126</td>\n      <td>50.102419</td>\n      <td>36.733454</td>\n      <td>14.816449</td>\n      <td>3.701622</td>\n      <td>55.620452</td>\n      <td>...</td>\n      <td>&lt;NA&gt;</td>\n      <td>&lt;NA&gt;</td>\n      <td>&lt;NA&gt;</td>\n      <td>&lt;NA&gt;</td>\n      <td>&lt;NA&gt;</td>\n      <td>&lt;NA&gt;</td>\n      <td>&lt;NA&gt;</td>\n      <td>&lt;NA&gt;</td>\n      <td>&lt;NA&gt;</td>\n      <td>&lt;NA&gt;</td>\n    </tr>\n    <tr>\n      <th>80000</th>\n      <td>16.718734</td>\n      <td>0</td>\n      <td>29.15918</td>\n      <td>7.190763</td>\n      <td>20.973199</td>\n      <td>49.457668</td>\n      <td>34.170561</td>\n      <td>28.579943</td>\n      <td>19.022374</td>\n      <td>40.170806</td>\n      <td>...</td>\n      <td>&lt;NA&gt;</td>\n      <td>&lt;NA&gt;</td>\n      <td>&lt;NA&gt;</td>\n      <td>&lt;NA&gt;</td>\n      <td>&lt;NA&gt;</td>\n      <td>&lt;NA&gt;</td>\n      <td>&lt;NA&gt;</td>\n      <td>&lt;NA&gt;</td>\n      <td>&lt;NA&gt;</td>\n      <td>&lt;NA&gt;</td>\n    </tr>\n    <tr>\n      <th>81000</th>\n      <td>26.47602</td>\n      <td>29.15918</td>\n      <td>0</td>\n      <td>22.197841</td>\n      <td>8.19327</td>\n      <td>23.72382</td>\n      <td>12.638248</td>\n      <td>19.979265</td>\n      <td>23.86066</td>\n      <td>65.792808</td>\n      <td>...</td>\n      <td>&lt;NA&gt;</td>\n      <td>&lt;NA&gt;</td>\n      <td>&lt;NA&gt;</td>\n      <td>&lt;NA&gt;</td>\n      <td>&lt;NA&gt;</td>\n      <td>&lt;NA&gt;</td>\n      <td>&lt;NA&gt;</td>\n      <td>&lt;NA&gt;</td>\n      <td>&lt;NA&gt;</td>\n      <td>&lt;NA&gt;</td>\n    </tr>\n    <tr>\n      <th>81300</th>\n      <td>13.448168</td>\n      <td>7.190763</td>\n      <td>22.197841</td>\n      <td>0</td>\n      <td>14.078112</td>\n      <td>43.46905</td>\n      <td>28.477578</td>\n      <td>22.474711</td>\n      <td>14.496835</td>\n      <td>46.80334</td>\n      <td>...</td>\n      <td>&lt;NA&gt;</td>\n      <td>&lt;NA&gt;</td>\n      <td>&lt;NA&gt;</td>\n      <td>&lt;NA&gt;</td>\n      <td>&lt;NA&gt;</td>\n      <td>&lt;NA&gt;</td>\n      <td>&lt;NA&gt;</td>\n      <td>&lt;NA&gt;</td>\n      <td>&lt;NA&gt;</td>\n      <td>&lt;NA&gt;</td>\n    </tr>\n    <tr>\n      <th>81400</th>\n      <td>20.489126</td>\n      <td>20.973199</td>\n      <td>8.19327</td>\n      <td>14.078112</td>\n      <td>0</td>\n      <td>30.178914</td>\n      <td>16.244601</td>\n      <td>18.859817</td>\n      <td>18.668948</td>\n      <td>58.141493</td>\n      <td>...</td>\n      <td>&lt;NA&gt;</td>\n      <td>&lt;NA&gt;</td>\n      <td>&lt;NA&gt;</td>\n      <td>&lt;NA&gt;</td>\n      <td>&lt;NA&gt;</td>\n      <td>&lt;NA&gt;</td>\n      <td>&lt;NA&gt;</td>\n      <td>&lt;NA&gt;</td>\n      <td>&lt;NA&gt;</td>\n      <td>&lt;NA&gt;</td>\n    </tr>\n    <tr>\n      <th>...</th>\n      <th>...</th>\n      <td>...</td>\n      <td>...</td>\n      <td>...</td>\n      <td>...</td>\n      <td>...</td>\n      <td>...</td>\n      <td>...</td>\n      <td>...</td>\n      <td>...</td>\n      <td>...</td>\n      <td>...</td>\n      <td>...</td>\n      <td>...</td>\n      <td>...</td>\n      <td>...</td>\n      <td>...</td>\n      <td>...</td>\n      <td>...</td>\n      <td>...</td>\n      <td>...</td>\n      <td>...</td>\n    </tr>\n    <tr>\n      <th rowspan=\"4\" valign=\"top\">Terengganu</th>\n      <th>24060</th>\n      <td>&lt;NA&gt;</td>\n      <td>&lt;NA&gt;</td>\n      <td>&lt;NA&gt;</td>\n      <td>&lt;NA&gt;</td>\n      <td>&lt;NA&gt;</td>\n      <td>&lt;NA&gt;</td>\n      <td>&lt;NA&gt;</td>\n      <td>&lt;NA&gt;</td>\n      <td>&lt;NA&gt;</td>\n      <td>&lt;NA&gt;</td>\n      <td>...</td>\n      <td>65.384164</td>\n      <td>40.133535</td>\n      <td>49.484964</td>\n      <td>12.154111</td>\n      <td>24.307933</td>\n      <td>0</td>\n      <td>12.945771</td>\n      <td>21.943034</td>\n      <td>29.965463</td>\n      <td>&lt;NA&gt;</td>\n    </tr>\n    <tr>\n      <th>24100</th>\n      <td>&lt;NA&gt;</td>\n      <td>&lt;NA&gt;</td>\n      <td>&lt;NA&gt;</td>\n      <td>&lt;NA&gt;</td>\n      <td>&lt;NA&gt;</td>\n      <td>&lt;NA&gt;</td>\n      <td>&lt;NA&gt;</td>\n      <td>&lt;NA&gt;</td>\n      <td>&lt;NA&gt;</td>\n      <td>&lt;NA&gt;</td>\n      <td>...</td>\n      <td>58.007021</td>\n      <td>32.268003</td>\n      <td>43.515205</td>\n      <td>20.107166</td>\n      <td>30.60046</td>\n      <td>12.945771</td>\n      <td>0</td>\n      <td>10.61483</td>\n      <td>18.833153</td>\n      <td>&lt;NA&gt;</td>\n    </tr>\n    <tr>\n      <th>24200</th>\n      <td>&lt;NA&gt;</td>\n      <td>&lt;NA&gt;</td>\n      <td>&lt;NA&gt;</td>\n      <td>&lt;NA&gt;</td>\n      <td>&lt;NA&gt;</td>\n      <td>&lt;NA&gt;</td>\n      <td>&lt;NA&gt;</td>\n      <td>&lt;NA&gt;</td>\n      <td>&lt;NA&gt;</td>\n      <td>&lt;NA&gt;</td>\n      <td>...</td>\n      <td>47.985241</td>\n      <td>22.440356</td>\n      <td>34.391023</td>\n      <td>24.557076</td>\n      <td>31.936762</td>\n      <td>21.943034</td>\n      <td>10.61483</td>\n      <td>0</td>\n      <td>8.258988</td>\n      <td>&lt;NA&gt;</td>\n    </tr>\n    <tr>\n      <th>24300</th>\n      <td>&lt;NA&gt;</td>\n      <td>&lt;NA&gt;</td>\n      <td>&lt;NA&gt;</td>\n      <td>&lt;NA&gt;</td>\n      <td>&lt;NA&gt;</td>\n      <td>&lt;NA&gt;</td>\n      <td>&lt;NA&gt;</td>\n      <td>&lt;NA&gt;</td>\n      <td>&lt;NA&gt;</td>\n      <td>&lt;NA&gt;</td>\n      <td>...</td>\n      <td>40.942914</td>\n      <td>16.313085</td>\n      <td>28.854912</td>\n      <td>30.893018</td>\n      <td>36.140766</td>\n      <td>29.965463</td>\n      <td>18.833153</td>\n      <td>8.258988</td>\n      <td>0</td>\n      <td>&lt;NA&gt;</td>\n    </tr>\n    <tr>\n      <th>WP Labuan</th>\n      <th>87000</th>\n      <td>&lt;NA&gt;</td>\n      <td>&lt;NA&gt;</td>\n      <td>&lt;NA&gt;</td>\n      <td>&lt;NA&gt;</td>\n      <td>&lt;NA&gt;</td>\n      <td>&lt;NA&gt;</td>\n      <td>&lt;NA&gt;</td>\n      <td>&lt;NA&gt;</td>\n      <td>&lt;NA&gt;</td>\n      <td>&lt;NA&gt;</td>\n      <td>...</td>\n      <td>&lt;NA&gt;</td>\n      <td>&lt;NA&gt;</td>\n      <td>&lt;NA&gt;</td>\n      <td>&lt;NA&gt;</td>\n      <td>&lt;NA&gt;</td>\n      <td>&lt;NA&gt;</td>\n      <td>&lt;NA&gt;</td>\n      <td>&lt;NA&gt;</td>\n      <td>&lt;NA&gt;</td>\n      <td>0</td>\n    </tr>\n  </tbody>\n</table>\n<p>432 rows × 432 columns</p>\n</div>"
     },
     "metadata": {}
    }
   ],
   "source": [
    "# A list of dicts containing all valid master postcode pairings, to be converted to csv later.\n",
    "mpc_pairs = []\n",
    "\n",
    "# Generate distance matrix.\n",
    "pc_labels = [(x, y) for x, y in zip(df_mpc[\"ppv_region\"], df_mpc[\"master_postcode\"])]\n",
    "master_lat_lon = {x: (y, z) \n",
    "    for x, y, z \n",
    "    in zip(df_mpc[\"master_postcode\"], df_mpc[\"lat\"], df_mpc[\"lon\"])\n",
    "}\n",
    "\n",
    "# dataframe_matrix\n",
    "df_mat = pd.DataFrame(\n",
    "    pd.NA,\n",
    "    index=pd.MultiIndex.from_tuples(pc_labels),\n",
    "    columns=pd.MultiIndex.from_tuples(pc_labels),\n",
    ")\n",
    "\n",
    "# Diagonals are zero distance\n",
    "for tup in pc_labels:\n",
    "    df_mat.loc[tup, tup] = 0\n",
    "\n",
    "# Off-diagonals, calculate the haversine distance.\n",
    "for tup1, tup2 in itertools.combinations(pc_labels, 2):\n",
    "    ppv1, mpc1 = tup1\n",
    "    ppv2, mpc2 = tup2\n",
    "    if ppv1 == ppv2:\n",
    "        if mpc1 == mpc2:\n",
    "            df_mat.loc[tup1, tup2] = 0\n",
    "        else:\n",
    "            lat1, lon1 = master_lat_lon[mpc1]\n",
    "            lat2, lon2 = master_lat_lon[mpc2]\n",
    "            distance = src.utils.haversine_km(lat1, lon1, lat2, lon2)\n",
    "            df_mat.loc[tup1, tup2] = distance\n",
    "            df_mat.loc[tup2, tup1] = distance  # reflect across the diagonal\n",
    "            # This is a valid pair, so add it to the list.\n",
    "            mpc_pairs.append(\n",
    "                {\n",
    "                    \"ppv_region\": ppv1,\n",
    "                    \"master_postcode_1\": mpc1,\n",
    "                    \"latitude_1\": lat1,\n",
    "                    \"longitude_1\": lon1,\n",
    "                    \"master_postcode_2\": mpc2,\n",
    "                    \"latitude_2\": lat2,\n",
    "                    \"longitude_2\": lon2,\n",
    "                }\n",
    "            )\n",
    "\n",
    "display(df_mat)"
   ]
  },
  {
   "source": [
    "# Export files"
   ],
   "cell_type": "markdown",
   "metadata": {}
  },
  {
   "cell_type": "code",
   "execution_count": 5,
   "metadata": {},
   "outputs": [],
   "source": [
    "# Save the distance matrix.\n",
    "NAME = \"distance-matrix\"\n",
    "\n",
    "# Excel for easy human reading, since it preserves MultiIndex.\n",
    "EXCEL_NAME = f\"./output/{NAME}.xlsx\"\n",
    "df_mat.to_excel(EXCEL_NAME)\n",
    "workbook = openpyxl.load_workbook(EXCEL_NAME)\n",
    "workbook[\"Sheet1\"].freeze_panes = \"C3\"  # Slightly nicer to scroll through.\n",
    "workbook.save(EXCEL_NAME)\n",
    "\n",
    "# Save as pickle for future notebooks.\n",
    "df_mat.to_pickle(f\"./output/{NAME}.pkl\")\n"
   ]
  },
  {
   "cell_type": "code",
   "execution_count": 4,
   "metadata": {},
   "outputs": [],
   "source": [
    "# Save the master postcode pairs for later notebooks:\n",
    "with open(\"./output/master-postcode-pairs.csv\", mode=\"w\", newline=\"\") as fp:\n",
    "    writer = csv.DictWriter(fp, fieldnames=mpc_pairs[0].keys())\n",
    "    writer.writeheader()\n",
    "    for pair in mpc_pairs:\n",
    "        writer.writerow(pair)"
   ]
  },
  {
   "source": [
    "# Estimated Google Maps API cost"
   ],
   "cell_type": "markdown",
   "metadata": {}
  },
  {
   "cell_type": "code",
   "execution_count": 6,
   "metadata": {},
   "outputs": [
    {
     "output_type": "stream",
     "name": "stdout",
     "text": [
      "There are a total of 8602 valid master postcode pairs.\nTotal cost in Maps API: USD43.01.\n-----\nYou can find the data output files in the `output` folder.\n"
     ]
    }
   ],
   "source": [
    "num = len(mpc_pairs)\n",
    "print(f\"There are a total of {num} valid master postcode pairs.\")\n",
    "print(f\"Total cost in Maps API: USD{num * 0.005:2g}.\")\n",
    "print(\"-----\")\n",
    "print(f\"You can find the data output files in the `output` folder.\")\n"
   ]
  }
 ]
}
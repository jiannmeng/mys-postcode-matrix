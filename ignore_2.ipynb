{
 "metadata": {
  "language_info": {
   "codemirror_mode": {
    "name": "ipython",
    "version": 3
   },
   "file_extension": ".py",
   "mimetype": "text/x-python",
   "name": "python",
   "nbconvert_exporter": "python",
   "pygments_lexer": "ipython3",
   "version": "3.9.5"
  },
  "orig_nbformat": 2,
  "kernelspec": {
   "name": "pythonjvsc74a57bd06746b22b0f0f54490f6784a0eb5adc84d4ae68eb19dc466f98fd8a941d2e2968",
   "display_name": "Python 3.9.5  ('.venv': venv)"
  },
  "metadata": {
   "interpreter": {
    "hash": "6746b22b0f0f54490f6784a0eb5adc84d4ae68eb19dc466f98fd8a941d2e2968"
   }
  }
 },
 "nbformat": 4,
 "nbformat_minor": 2,
 "cells": [
  {
   "cell_type": "code",
   "execution_count": 1,
   "metadata": {},
   "outputs": [],
   "source": [
    "import googlemaps\n",
    "from src.utils import get_api_key, haversine_km, now\n",
    "import pandas as pd\n",
    "import json\n",
    "import numpy as np\n",
    "from datetime import datetime\n",
    "\n",
    "def now() -> str:\n",
    "    t = datetime.now()\n",
    "    return t.strftime(\"%Y%m%d-%H%M%S\")"
   ]
  },
  {
   "source": [
    "# Check Pos Malaysia coordinates\n",
    "\n",
    "Let's check that the coordinates from Pos Malaysia are close to their location in Google Maps.\n",
    "\n",
    "We'll check only master postcodes to keep costs down."
   ],
   "cell_type": "markdown",
   "metadata": {}
  },
  {
   "cell_type": "code",
   "execution_count": 2,
   "metadata": {},
   "outputs": [],
   "source": [
    "df_import = pd.read_excel(\n",
    "    \"./output/postcode_output.xlsx\", \n",
    "    sheet_name=\"Master Postcodes\",\n",
    "    converters={\"master_postcode\": str}\n",
    ")"
   ]
  },
  {
   "cell_type": "code",
   "execution_count": 3,
   "metadata": {},
   "outputs": [
    {
     "output_type": "display_data",
     "data": {
      "text/plain": "                      state                     lat_lon gmaps_lat_lon\nmaster_postcode                                                      \n79000                 Johor  (1.42513621, 103.61443042)          <NA>\n80000                 Johor      (1.456123, 103.761701)          <NA>\n81000                 Johor      (1.662964, 103.600178)          <NA>\n81400                 Johor      (1.606506, 103.647617)          <NA>\n81440                 Johor      (1.876001, 103.614046)          <NA>\n...                     ...                         ...           ...\n24050            Terengganu   (4.26868955, 103.2119044)          <NA>\n24100            Terengganu      (4.335356, 103.479837)          <NA>\n24200            Terengganu      (4.426911, 103.452517)          <NA>\n24300            Terengganu       (4.50032, 103.440871)          <NA>\n87000             WP Labuan  (5.27669372, 115.24504466)          <NA>\n\n[424 rows x 3 columns]",
      "text/html": "<div>\n<style scoped>\n    .dataframe tbody tr th:only-of-type {\n        vertical-align: middle;\n    }\n\n    .dataframe tbody tr th {\n        vertical-align: top;\n    }\n\n    .dataframe thead th {\n        text-align: right;\n    }\n</style>\n<table border=\"1\" class=\"dataframe\">\n  <thead>\n    <tr style=\"text-align: right;\">\n      <th></th>\n      <th>state</th>\n      <th>lat_lon</th>\n      <th>gmaps_lat_lon</th>\n    </tr>\n    <tr>\n      <th>master_postcode</th>\n      <th></th>\n      <th></th>\n      <th></th>\n    </tr>\n  </thead>\n  <tbody>\n    <tr>\n      <th>79000</th>\n      <td>Johor</td>\n      <td>(1.42513621, 103.61443042)</td>\n      <td>&lt;NA&gt;</td>\n    </tr>\n    <tr>\n      <th>80000</th>\n      <td>Johor</td>\n      <td>(1.456123, 103.761701)</td>\n      <td>&lt;NA&gt;</td>\n    </tr>\n    <tr>\n      <th>81000</th>\n      <td>Johor</td>\n      <td>(1.662964, 103.600178)</td>\n      <td>&lt;NA&gt;</td>\n    </tr>\n    <tr>\n      <th>81400</th>\n      <td>Johor</td>\n      <td>(1.606506, 103.647617)</td>\n      <td>&lt;NA&gt;</td>\n    </tr>\n    <tr>\n      <th>81440</th>\n      <td>Johor</td>\n      <td>(1.876001, 103.614046)</td>\n      <td>&lt;NA&gt;</td>\n    </tr>\n    <tr>\n      <th>...</th>\n      <td>...</td>\n      <td>...</td>\n      <td>...</td>\n    </tr>\n    <tr>\n      <th>24050</th>\n      <td>Terengganu</td>\n      <td>(4.26868955, 103.2119044)</td>\n      <td>&lt;NA&gt;</td>\n    </tr>\n    <tr>\n      <th>24100</th>\n      <td>Terengganu</td>\n      <td>(4.335356, 103.479837)</td>\n      <td>&lt;NA&gt;</td>\n    </tr>\n    <tr>\n      <th>24200</th>\n      <td>Terengganu</td>\n      <td>(4.426911, 103.452517)</td>\n      <td>&lt;NA&gt;</td>\n    </tr>\n    <tr>\n      <th>24300</th>\n      <td>Terengganu</td>\n      <td>(4.50032, 103.440871)</td>\n      <td>&lt;NA&gt;</td>\n    </tr>\n    <tr>\n      <th>87000</th>\n      <td>WP Labuan</td>\n      <td>(5.27669372, 115.24504466)</td>\n      <td>&lt;NA&gt;</td>\n    </tr>\n  </tbody>\n</table>\n<p>424 rows × 3 columns</p>\n</div>"
     },
     "metadata": {}
    },
    {
     "output_type": "stream",
     "name": "stdout",
     "text": [
      "<class 'pandas.core.frame.DataFrame'>\nIndex: 424 entries, 79000 to 87000\nData columns (total 3 columns):\n #   Column         Non-Null Count  Dtype \n---  ------         --------------  ----- \n 0   state          424 non-null    object\n 1   lat_lon        424 non-null    object\n 2   gmaps_lat_lon  0 non-null      object\ndtypes: object(3)\nmemory usage: 13.2+ KB\n"
     ]
    },
    {
     "output_type": "display_data",
     "data": {
      "text/plain": "None"
     },
     "metadata": {}
    }
   ],
   "source": [
    "df = df_import[[\"master_postcode\", \"state\", \"lat_lon\"]].set_index(\"master_postcode\")\n",
    "df.insert(loc=2, column=\"gmaps_lat_lon\", value=pd.NA)\n",
    "df[\"gmaps_lat_lon\"] = df[\"gmaps_lat_lon\"].astype(\"object\")\n",
    "display(df)\n",
    "display(df.info())"
   ]
  },
  {
   "cell_type": "code",
   "execution_count": 4,
   "metadata": {},
   "outputs": [
    {
     "output_type": "stream",
     "name": "stdout",
     "text": [
      "There are 424 master postcodes.\nThis will cost USD21.20 to find coordinates from Google Maps API\n"
     ]
    }
   ],
   "source": [
    "num = len(df)\n",
    "print(f\"There are {num} master postcodes.\")\n",
    "print(f\"This will cost USD{num * 0.05:.2f} to find coordinates from Google Maps API\")"
   ]
  },
  {
   "cell_type": "code",
   "execution_count": 5,
   "metadata": {},
   "outputs": [
    {
     "output_type": "display_data",
     "data": {
      "text/plain": "                           state                     lat_lon gmaps_lat_lon\nmaster_postcode                                                           \n79000                      Johor  (1.42513621, 103.61443042)          <NA>\n83000                      Johor       (1.86841, 102.943824)          <NA>\n85300                      Johor      (2.381831, 103.020378)          <NA>\n06500                      Kedah      (6.145992, 100.432028)          <NA>\n09500                      Kedah       (5.42056, 100.666936)          <NA>\n17700                   Kelantan      (5.778147, 101.887721)          <NA>\n78300                     Melaka      (2.350005, 102.108881)          <NA>\n73000            Negeri Sembilan      (2.468613, 102.231114)          <NA>\n27100                     Pahang      (4.232898, 101.991298)          <NA>\n39200                     Pahang      (4.413895, 101.381651)          <NA>",
      "text/html": "<div>\n<style scoped>\n    .dataframe tbody tr th:only-of-type {\n        vertical-align: middle;\n    }\n\n    .dataframe tbody tr th {\n        vertical-align: top;\n    }\n\n    .dataframe thead th {\n        text-align: right;\n    }\n</style>\n<table border=\"1\" class=\"dataframe\">\n  <thead>\n    <tr style=\"text-align: right;\">\n      <th></th>\n      <th>state</th>\n      <th>lat_lon</th>\n      <th>gmaps_lat_lon</th>\n    </tr>\n    <tr>\n      <th>master_postcode</th>\n      <th></th>\n      <th></th>\n      <th></th>\n    </tr>\n  </thead>\n  <tbody>\n    <tr>\n      <th>79000</th>\n      <td>Johor</td>\n      <td>(1.42513621, 103.61443042)</td>\n      <td>&lt;NA&gt;</td>\n    </tr>\n    <tr>\n      <th>83000</th>\n      <td>Johor</td>\n      <td>(1.86841, 102.943824)</td>\n      <td>&lt;NA&gt;</td>\n    </tr>\n    <tr>\n      <th>85300</th>\n      <td>Johor</td>\n      <td>(2.381831, 103.020378)</td>\n      <td>&lt;NA&gt;</td>\n    </tr>\n    <tr>\n      <th>06500</th>\n      <td>Kedah</td>\n      <td>(6.145992, 100.432028)</td>\n      <td>&lt;NA&gt;</td>\n    </tr>\n    <tr>\n      <th>09500</th>\n      <td>Kedah</td>\n      <td>(5.42056, 100.666936)</td>\n      <td>&lt;NA&gt;</td>\n    </tr>\n    <tr>\n      <th>17700</th>\n      <td>Kelantan</td>\n      <td>(5.778147, 101.887721)</td>\n      <td>&lt;NA&gt;</td>\n    </tr>\n    <tr>\n      <th>78300</th>\n      <td>Melaka</td>\n      <td>(2.350005, 102.108881)</td>\n      <td>&lt;NA&gt;</td>\n    </tr>\n    <tr>\n      <th>73000</th>\n      <td>Negeri Sembilan</td>\n      <td>(2.468613, 102.231114)</td>\n      <td>&lt;NA&gt;</td>\n    </tr>\n    <tr>\n      <th>27100</th>\n      <td>Pahang</td>\n      <td>(4.232898, 101.991298)</td>\n      <td>&lt;NA&gt;</td>\n    </tr>\n    <tr>\n      <th>39200</th>\n      <td>Pahang</td>\n      <td>(4.413895, 101.381651)</td>\n      <td>&lt;NA&gt;</td>\n    </tr>\n  </tbody>\n</table>\n</div>"
     },
     "metadata": {}
    },
    {
     "output_type": "stream",
     "name": "stdout",
     "text": [
      "Sample has 10 elements.\n"
     ]
    }
   ],
   "source": [
    "# Retrieve a small sample of postcodes\n",
    "SAMPLE_SIZE = 10\n",
    "df_sample = df.iloc[::20][:SAMPLE_SIZE]\n",
    "display(df_sample)\n",
    "print(f\"Sample has {len(df_sample)} elements.\")"
   ]
  },
  {
   "cell_type": "code",
   "execution_count": 6,
   "metadata": {},
   "outputs": [],
   "source": [
    "SKIP = True\n",
    "if not SKIP:\n",
    "    gmaps = googlemaps.Client(key=get_api_key())\n",
    "    responses = dict()\n",
    "    ts = now()\n",
    "    with open(f\"./responses/geocode-{ts}.json\", mode=\"a\") as fp:\n",
    "        for mpc, data in df_sample.iterrows():\n",
    "            state = data[\"state\"]\n",
    "            try:\n",
    "                response = gmaps.geocode(f\"{mpc},{state},Malaysia\")\n",
    "                print(response)\n",
    "            except Exception as exc:\n",
    "                print(exc)\n",
    "            responses[mpc] = response\n",
    "        json.dump(responses, fp)"
   ]
  },
  {
   "cell_type": "code",
   "execution_count": 7,
   "metadata": {},
   "outputs": [
    {
     "output_type": "display_data",
     "data": {
      "text/plain": "                           state                     lat_lon  \\\nmaster_postcode                                                \n79000                      Johor  (1.42513621, 103.61443042)   \n83000                      Johor       (1.86841, 102.943824)   \n85300                      Johor      (2.381831, 103.020378)   \n06500                      Kedah      (6.145992, 100.432028)   \n09500                      Kedah       (5.42056, 100.666936)   \n17700                   Kelantan      (5.778147, 101.887721)   \n78300                     Melaka      (2.350005, 102.108881)   \n73000            Negeri Sembilan      (2.468613, 102.231114)   \n27100                     Pahang      (4.232898, 101.991298)   \n39200                     Pahang      (4.413895, 101.381651)   \n\n                                    gmaps_lat_lon  \nmaster_postcode                                    \n79000                    (1.4171501, 103.6566612)  \n83000                    (1.8539494, 102.9357477)  \n85300                    (2.4165848, 103.0126523)  \n06500            (6.140907100000001, 100.4115631)  \n09500                    (6.1183964, 100.3684595)  \n17700                    (5.7932364, 101.9119871)  \n78300                    (2.3478745, 102.0946818)  \n73000                     (2.491166, 102.2891314)  \n27100                    (4.4429123, 102.0032957)  \n39200             (3.972832999999999, 102.433126)  ",
      "text/html": "<div>\n<style scoped>\n    .dataframe tbody tr th:only-of-type {\n        vertical-align: middle;\n    }\n\n    .dataframe tbody tr th {\n        vertical-align: top;\n    }\n\n    .dataframe thead th {\n        text-align: right;\n    }\n</style>\n<table border=\"1\" class=\"dataframe\">\n  <thead>\n    <tr style=\"text-align: right;\">\n      <th></th>\n      <th>state</th>\n      <th>lat_lon</th>\n      <th>gmaps_lat_lon</th>\n    </tr>\n    <tr>\n      <th>master_postcode</th>\n      <th></th>\n      <th></th>\n      <th></th>\n    </tr>\n  </thead>\n  <tbody>\n    <tr>\n      <th>79000</th>\n      <td>Johor</td>\n      <td>(1.42513621, 103.61443042)</td>\n      <td>(1.4171501, 103.6566612)</td>\n    </tr>\n    <tr>\n      <th>83000</th>\n      <td>Johor</td>\n      <td>(1.86841, 102.943824)</td>\n      <td>(1.8539494, 102.9357477)</td>\n    </tr>\n    <tr>\n      <th>85300</th>\n      <td>Johor</td>\n      <td>(2.381831, 103.020378)</td>\n      <td>(2.4165848, 103.0126523)</td>\n    </tr>\n    <tr>\n      <th>06500</th>\n      <td>Kedah</td>\n      <td>(6.145992, 100.432028)</td>\n      <td>(6.140907100000001, 100.4115631)</td>\n    </tr>\n    <tr>\n      <th>09500</th>\n      <td>Kedah</td>\n      <td>(5.42056, 100.666936)</td>\n      <td>(6.1183964, 100.3684595)</td>\n    </tr>\n    <tr>\n      <th>17700</th>\n      <td>Kelantan</td>\n      <td>(5.778147, 101.887721)</td>\n      <td>(5.7932364, 101.9119871)</td>\n    </tr>\n    <tr>\n      <th>78300</th>\n      <td>Melaka</td>\n      <td>(2.350005, 102.108881)</td>\n      <td>(2.3478745, 102.0946818)</td>\n    </tr>\n    <tr>\n      <th>73000</th>\n      <td>Negeri Sembilan</td>\n      <td>(2.468613, 102.231114)</td>\n      <td>(2.491166, 102.2891314)</td>\n    </tr>\n    <tr>\n      <th>27100</th>\n      <td>Pahang</td>\n      <td>(4.232898, 101.991298)</td>\n      <td>(4.4429123, 102.0032957)</td>\n    </tr>\n    <tr>\n      <th>39200</th>\n      <td>Pahang</td>\n      <td>(4.413895, 101.381651)</td>\n      <td>(3.972832999999999, 102.433126)</td>\n    </tr>\n  </tbody>\n</table>\n</div>"
     },
     "metadata": {}
    }
   ],
   "source": [
    "with open(\"./responses/geocode-20210604-220850.json\") as fp:\n",
    "    responses = json.load(fp)\n",
    "for mpc, r in responses.items():\n",
    "    mpc = str(mpc)\n",
    "    location = r[0][\"geometry\"][\"location\"]\n",
    "    gmaps_lat_lon = (location[\"lat\"], location[\"lng\"])\n",
    "    df_sample.at[mpc, \"gmaps_lat_lon\"] = gmaps_lat_lon\n",
    "display(df_sample)"
   ]
  },
  {
   "cell_type": "code",
   "execution_count": 8,
   "metadata": {},
   "outputs": [
    {
     "output_type": "stream",
     "name": "stdout",
     "text": [
      "<class 'pandas.core.frame.DataFrame'>\nIndex: 10 entries, 79000 to 39200\nData columns (total 3 columns):\n #   Column         Non-Null Count  Dtype \n---  ------         --------------  ----- \n 0   state          10 non-null     object\n 1   lat_lon        10 non-null     object\n 2   gmaps_lat_lon  10 non-null     object\ndtypes: object(3)\nmemory usage: 620.0+ bytes\n"
     ]
    }
   ],
   "source": [
    "df_sample.info()"
   ]
  },
  {
   "cell_type": "code",
   "execution_count": 9,
   "metadata": {},
   "outputs": [
    {
     "output_type": "execute_result",
     "data": {
      "text/plain": [
       "                           state                     lat_lon  \\\n",
       "master_postcode                                                \n",
       "79000                      Johor  (1.42513621, 103.61443042)   \n",
       "83000                      Johor       (1.86841, 102.943824)   \n",
       "85300                      Johor      (2.381831, 103.020378)   \n",
       "06500                      Kedah      (6.145992, 100.432028)   \n",
       "09500                      Kedah       (5.42056, 100.666936)   \n",
       "17700                   Kelantan      (5.778147, 101.887721)   \n",
       "78300                     Melaka      (2.350005, 102.108881)   \n",
       "73000            Negeri Sembilan      (2.468613, 102.231114)   \n",
       "27100                     Pahang      (4.232898, 101.991298)   \n",
       "39200                     Pahang      (4.413895, 101.381651)   \n",
       "\n",
       "                                    gmaps_lat_lon  \n",
       "master_postcode                                    \n",
       "79000                    (1.4171501, 103.6566612)  \n",
       "83000                    (1.8539494, 102.9357477)  \n",
       "85300                    (2.4165848, 103.0126523)  \n",
       "06500            (6.140907100000001, 100.4115631)  \n",
       "09500                    (6.1183964, 100.3684595)  \n",
       "17700                    (5.7932364, 101.9119871)  \n",
       "78300                    (2.3478745, 102.0946818)  \n",
       "73000                     (2.491166, 102.2891314)  \n",
       "27100                    (4.4429123, 102.0032957)  \n",
       "39200             (3.972832999999999, 102.433126)  "
      ],
      "text/html": "<div>\n<style scoped>\n    .dataframe tbody tr th:only-of-type {\n        vertical-align: middle;\n    }\n\n    .dataframe tbody tr th {\n        vertical-align: top;\n    }\n\n    .dataframe thead th {\n        text-align: right;\n    }\n</style>\n<table border=\"1\" class=\"dataframe\">\n  <thead>\n    <tr style=\"text-align: right;\">\n      <th></th>\n      <th>state</th>\n      <th>lat_lon</th>\n      <th>gmaps_lat_lon</th>\n    </tr>\n    <tr>\n      <th>master_postcode</th>\n      <th></th>\n      <th></th>\n      <th></th>\n    </tr>\n  </thead>\n  <tbody>\n    <tr>\n      <th>79000</th>\n      <td>Johor</td>\n      <td>(1.42513621, 103.61443042)</td>\n      <td>(1.4171501, 103.6566612)</td>\n    </tr>\n    <tr>\n      <th>83000</th>\n      <td>Johor</td>\n      <td>(1.86841, 102.943824)</td>\n      <td>(1.8539494, 102.9357477)</td>\n    </tr>\n    <tr>\n      <th>85300</th>\n      <td>Johor</td>\n      <td>(2.381831, 103.020378)</td>\n      <td>(2.4165848, 103.0126523)</td>\n    </tr>\n    <tr>\n      <th>06500</th>\n      <td>Kedah</td>\n      <td>(6.145992, 100.432028)</td>\n      <td>(6.140907100000001, 100.4115631)</td>\n    </tr>\n    <tr>\n      <th>09500</th>\n      <td>Kedah</td>\n      <td>(5.42056, 100.666936)</td>\n      <td>(6.1183964, 100.3684595)</td>\n    </tr>\n    <tr>\n      <th>17700</th>\n      <td>Kelantan</td>\n      <td>(5.778147, 101.887721)</td>\n      <td>(5.7932364, 101.9119871)</td>\n    </tr>\n    <tr>\n      <th>78300</th>\n      <td>Melaka</td>\n      <td>(2.350005, 102.108881)</td>\n      <td>(2.3478745, 102.0946818)</td>\n    </tr>\n    <tr>\n      <th>73000</th>\n      <td>Negeri Sembilan</td>\n      <td>(2.468613, 102.231114)</td>\n      <td>(2.491166, 102.2891314)</td>\n    </tr>\n    <tr>\n      <th>27100</th>\n      <td>Pahang</td>\n      <td>(4.232898, 101.991298)</td>\n      <td>(4.4429123, 102.0032957)</td>\n    </tr>\n    <tr>\n      <th>39200</th>\n      <td>Pahang</td>\n      <td>(4.413895, 101.381651)</td>\n      <td>(3.972832999999999, 102.433126)</td>\n    </tr>\n  </tbody>\n</table>\n</div>"
     },
     "metadata": {},
     "execution_count": 9
    }
   ],
   "source": [
    "df_sample"
   ]
  },
  {
   "cell_type": "code",
   "execution_count": 10,
   "metadata": {},
   "outputs": [
    {
     "output_type": "stream",
     "name": "stdout",
     "text": [
      "lat_lon          (1.42513621, 103.61443042)\n",
      "gmaps_lat_lon      (1.4171501, 103.6566612)\n",
      "Name: 79000, dtype: object\n"
     ]
    },
    {
     "output_type": "error",
     "ename": "ValueError",
     "evalue": "too many values to unpack (expected 2)",
     "traceback": [
      "\u001b[1;31m---------------------------------------------------------------------------\u001b[0m",
      "\u001b[1;31mValueError\u001b[0m                                Traceback (most recent call last)",
      "\u001b[1;32m<ipython-input-10-715e256ccd9f>\u001b[0m in \u001b[0;36m<module>\u001b[1;34m\u001b[0m\n\u001b[0;32m      5\u001b[0m     \u001b[0mprint\u001b[0m\u001b[1;33m(\u001b[0m\u001b[0mlat1\u001b[0m\u001b[1;33m,\u001b[0m \u001b[0mlon1\u001b[0m\u001b[1;33m,\u001b[0m \u001b[0mlat2\u001b[0m\u001b[1;33m,\u001b[0m \u001b[0mlon2\u001b[0m\u001b[1;33m)\u001b[0m\u001b[1;33m\u001b[0m\u001b[1;33m\u001b[0m\u001b[0m\n\u001b[0;32m      6\u001b[0m     \u001b[1;32mreturn\u001b[0m \u001b[0mhaversine_km\u001b[0m\u001b[1;33m(\u001b[0m\u001b[0mlat1\u001b[0m\u001b[1;33m,\u001b[0m \u001b[0mlon1\u001b[0m\u001b[1;33m,\u001b[0m \u001b[0mlat2\u001b[0m\u001b[1;33m,\u001b[0m \u001b[0mlon2\u001b[0m\u001b[1;33m)\u001b[0m\u001b[1;33m\u001b[0m\u001b[1;33m\u001b[0m\u001b[0m\n\u001b[1;32m----> 7\u001b[1;33m \u001b[0mdf_sample\u001b[0m\u001b[1;33m[\u001b[0m\u001b[1;34m\"haversine_km\"\u001b[0m\u001b[1;33m]\u001b[0m \u001b[1;33m=\u001b[0m \u001b[0mdf_sample\u001b[0m\u001b[1;33m[\u001b[0m\u001b[1;33m[\u001b[0m\u001b[1;34m\"lat_lon\"\u001b[0m\u001b[1;33m,\u001b[0m \u001b[1;34m\"gmaps_lat_lon\"\u001b[0m\u001b[1;33m]\u001b[0m\u001b[1;33m]\u001b[0m\u001b[1;33m.\u001b[0m\u001b[0mapply\u001b[0m\u001b[1;33m(\u001b[0m\u001b[0mhaversine_columns\u001b[0m\u001b[1;33m,\u001b[0m \u001b[0maxis\u001b[0m\u001b[1;33m=\u001b[0m\u001b[1;36m1\u001b[0m\u001b[1;33m)\u001b[0m\u001b[1;33m\u001b[0m\u001b[1;33m\u001b[0m\u001b[0m\n\u001b[0m",
      "\u001b[1;32mc:\\Users\\jiannmeng\\src\\postcodeproject\\.venv\\lib\\site-packages\\pandas\\core\\frame.py\u001b[0m in \u001b[0;36mapply\u001b[1;34m(self, func, axis, raw, result_type, args, **kwds)\u001b[0m\n\u001b[0;32m   7766\u001b[0m             \u001b[0mkwds\u001b[0m\u001b[1;33m=\u001b[0m\u001b[0mkwds\u001b[0m\u001b[1;33m,\u001b[0m\u001b[1;33m\u001b[0m\u001b[1;33m\u001b[0m\u001b[0m\n\u001b[0;32m   7767\u001b[0m         )\n\u001b[1;32m-> 7768\u001b[1;33m         \u001b[1;32mreturn\u001b[0m \u001b[0mop\u001b[0m\u001b[1;33m.\u001b[0m\u001b[0mget_result\u001b[0m\u001b[1;33m(\u001b[0m\u001b[1;33m)\u001b[0m\u001b[1;33m\u001b[0m\u001b[1;33m\u001b[0m\u001b[0m\n\u001b[0m\u001b[0;32m   7769\u001b[0m \u001b[1;33m\u001b[0m\u001b[0m\n\u001b[0;32m   7770\u001b[0m     \u001b[1;32mdef\u001b[0m \u001b[0mapplymap\u001b[0m\u001b[1;33m(\u001b[0m\u001b[0mself\u001b[0m\u001b[1;33m,\u001b[0m \u001b[0mfunc\u001b[0m\u001b[1;33m,\u001b[0m \u001b[0mna_action\u001b[0m\u001b[1;33m:\u001b[0m \u001b[0mOptional\u001b[0m\u001b[1;33m[\u001b[0m\u001b[0mstr\u001b[0m\u001b[1;33m]\u001b[0m \u001b[1;33m=\u001b[0m \u001b[1;32mNone\u001b[0m\u001b[1;33m)\u001b[0m \u001b[1;33m->\u001b[0m \u001b[0mDataFrame\u001b[0m\u001b[1;33m:\u001b[0m\u001b[1;33m\u001b[0m\u001b[1;33m\u001b[0m\u001b[0m\n",
      "\u001b[1;32mc:\\Users\\jiannmeng\\src\\postcodeproject\\.venv\\lib\\site-packages\\pandas\\core\\apply.py\u001b[0m in \u001b[0;36mget_result\u001b[1;34m(self)\u001b[0m\n\u001b[0;32m    183\u001b[0m             \u001b[1;32mreturn\u001b[0m \u001b[0mself\u001b[0m\u001b[1;33m.\u001b[0m\u001b[0mapply_raw\u001b[0m\u001b[1;33m(\u001b[0m\u001b[1;33m)\u001b[0m\u001b[1;33m\u001b[0m\u001b[1;33m\u001b[0m\u001b[0m\n\u001b[0;32m    184\u001b[0m \u001b[1;33m\u001b[0m\u001b[0m\n\u001b[1;32m--> 185\u001b[1;33m         \u001b[1;32mreturn\u001b[0m \u001b[0mself\u001b[0m\u001b[1;33m.\u001b[0m\u001b[0mapply_standard\u001b[0m\u001b[1;33m(\u001b[0m\u001b[1;33m)\u001b[0m\u001b[1;33m\u001b[0m\u001b[1;33m\u001b[0m\u001b[0m\n\u001b[0m\u001b[0;32m    186\u001b[0m \u001b[1;33m\u001b[0m\u001b[0m\n\u001b[0;32m    187\u001b[0m     \u001b[1;32mdef\u001b[0m \u001b[0mapply_empty_result\u001b[0m\u001b[1;33m(\u001b[0m\u001b[0mself\u001b[0m\u001b[1;33m)\u001b[0m\u001b[1;33m:\u001b[0m\u001b[1;33m\u001b[0m\u001b[1;33m\u001b[0m\u001b[0m\n",
      "\u001b[1;32mc:\\Users\\jiannmeng\\src\\postcodeproject\\.venv\\lib\\site-packages\\pandas\\core\\apply.py\u001b[0m in \u001b[0;36mapply_standard\u001b[1;34m(self)\u001b[0m\n\u001b[0;32m    274\u001b[0m \u001b[1;33m\u001b[0m\u001b[0m\n\u001b[0;32m    275\u001b[0m     \u001b[1;32mdef\u001b[0m \u001b[0mapply_standard\u001b[0m\u001b[1;33m(\u001b[0m\u001b[0mself\u001b[0m\u001b[1;33m)\u001b[0m\u001b[1;33m:\u001b[0m\u001b[1;33m\u001b[0m\u001b[1;33m\u001b[0m\u001b[0m\n\u001b[1;32m--> 276\u001b[1;33m         \u001b[0mresults\u001b[0m\u001b[1;33m,\u001b[0m \u001b[0mres_index\u001b[0m \u001b[1;33m=\u001b[0m \u001b[0mself\u001b[0m\u001b[1;33m.\u001b[0m\u001b[0mapply_series_generator\u001b[0m\u001b[1;33m(\u001b[0m\u001b[1;33m)\u001b[0m\u001b[1;33m\u001b[0m\u001b[1;33m\u001b[0m\u001b[0m\n\u001b[0m\u001b[0;32m    277\u001b[0m \u001b[1;33m\u001b[0m\u001b[0m\n\u001b[0;32m    278\u001b[0m         \u001b[1;31m# wrap results\u001b[0m\u001b[1;33m\u001b[0m\u001b[1;33m\u001b[0m\u001b[1;33m\u001b[0m\u001b[0m\n",
      "\u001b[1;32mc:\\Users\\jiannmeng\\src\\postcodeproject\\.venv\\lib\\site-packages\\pandas\\core\\apply.py\u001b[0m in \u001b[0;36mapply_series_generator\u001b[1;34m(self)\u001b[0m\n\u001b[0;32m    288\u001b[0m             \u001b[1;32mfor\u001b[0m \u001b[0mi\u001b[0m\u001b[1;33m,\u001b[0m \u001b[0mv\u001b[0m \u001b[1;32min\u001b[0m \u001b[0menumerate\u001b[0m\u001b[1;33m(\u001b[0m\u001b[0mseries_gen\u001b[0m\u001b[1;33m)\u001b[0m\u001b[1;33m:\u001b[0m\u001b[1;33m\u001b[0m\u001b[1;33m\u001b[0m\u001b[0m\n\u001b[0;32m    289\u001b[0m                 \u001b[1;31m# ignore SettingWithCopy here in case the user mutates\u001b[0m\u001b[1;33m\u001b[0m\u001b[1;33m\u001b[0m\u001b[1;33m\u001b[0m\u001b[0m\n\u001b[1;32m--> 290\u001b[1;33m                 \u001b[0mresults\u001b[0m\u001b[1;33m[\u001b[0m\u001b[0mi\u001b[0m\u001b[1;33m]\u001b[0m \u001b[1;33m=\u001b[0m \u001b[0mself\u001b[0m\u001b[1;33m.\u001b[0m\u001b[0mf\u001b[0m\u001b[1;33m(\u001b[0m\u001b[0mv\u001b[0m\u001b[1;33m)\u001b[0m\u001b[1;33m\u001b[0m\u001b[1;33m\u001b[0m\u001b[0m\n\u001b[0m\u001b[0;32m    291\u001b[0m                 \u001b[1;32mif\u001b[0m \u001b[0misinstance\u001b[0m\u001b[1;33m(\u001b[0m\u001b[0mresults\u001b[0m\u001b[1;33m[\u001b[0m\u001b[0mi\u001b[0m\u001b[1;33m]\u001b[0m\u001b[1;33m,\u001b[0m \u001b[0mABCSeries\u001b[0m\u001b[1;33m)\u001b[0m\u001b[1;33m:\u001b[0m\u001b[1;33m\u001b[0m\u001b[1;33m\u001b[0m\u001b[0m\n\u001b[0;32m    292\u001b[0m                     \u001b[1;31m# If we have a view on v, we need to make a copy because\u001b[0m\u001b[1;33m\u001b[0m\u001b[1;33m\u001b[0m\u001b[1;33m\u001b[0m\u001b[0m\n",
      "\u001b[1;32m<ipython-input-10-715e256ccd9f>\u001b[0m in \u001b[0;36mhaversine_columns\u001b[1;34m(df)\u001b[0m\n\u001b[0;32m      1\u001b[0m \u001b[1;32mdef\u001b[0m \u001b[0mhaversine_columns\u001b[0m\u001b[1;33m(\u001b[0m\u001b[0mdf\u001b[0m\u001b[1;33m)\u001b[0m\u001b[1;33m:\u001b[0m\u001b[1;33m\u001b[0m\u001b[1;33m\u001b[0m\u001b[0m\n\u001b[0;32m      2\u001b[0m     \u001b[0mprint\u001b[0m\u001b[1;33m(\u001b[0m\u001b[0mdf\u001b[0m\u001b[1;33m)\u001b[0m\u001b[1;33m\u001b[0m\u001b[1;33m\u001b[0m\u001b[0m\n\u001b[1;32m----> 3\u001b[1;33m     \u001b[0mlat1\u001b[0m\u001b[1;33m,\u001b[0m \u001b[0mlon1\u001b[0m \u001b[1;33m=\u001b[0m \u001b[0mdf\u001b[0m\u001b[1;33m[\u001b[0m\u001b[1;34m\"lat_lon\"\u001b[0m\u001b[1;33m]\u001b[0m\u001b[1;33m\u001b[0m\u001b[1;33m\u001b[0m\u001b[0m\n\u001b[0m\u001b[0;32m      4\u001b[0m     \u001b[0mlat2\u001b[0m\u001b[1;33m,\u001b[0m \u001b[0mlon2\u001b[0m \u001b[1;33m=\u001b[0m \u001b[0mdf\u001b[0m\u001b[1;33m[\u001b[0m\u001b[1;34m\"gmaps_lat_lon\"\u001b[0m\u001b[1;33m]\u001b[0m\u001b[1;33m\u001b[0m\u001b[1;33m\u001b[0m\u001b[0m\n\u001b[0;32m      5\u001b[0m     \u001b[0mprint\u001b[0m\u001b[1;33m(\u001b[0m\u001b[0mlat1\u001b[0m\u001b[1;33m,\u001b[0m \u001b[0mlon1\u001b[0m\u001b[1;33m,\u001b[0m \u001b[0mlat2\u001b[0m\u001b[1;33m,\u001b[0m \u001b[0mlon2\u001b[0m\u001b[1;33m)\u001b[0m\u001b[1;33m\u001b[0m\u001b[1;33m\u001b[0m\u001b[0m\n",
      "\u001b[1;31mValueError\u001b[0m: too many values to unpack (expected 2)"
     ]
    }
   ],
   "source": [
    "def haversine_columns(df):\n",
    "    print(df)\n",
    "    lat1, lon1 = df[\"lat_lon\"]\n",
    "    lat2, lon2 = df[\"gmaps_lat_lon\"]\n",
    "    print(lat1, lon1, lat2, lon2)\n",
    "    return haversine_km(lat1, lon1, lat2, lon2)\n",
    "df_sample[\"haversine_km\"] = df_sample[[\"lat_lon\", \"gmaps_lat_lon\"]].apply(haversine_columns, axis=1)\n",
    "\n",
    "# TODO: fix this apply function"
   ]
  }
 ]
}
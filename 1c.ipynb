{
 "metadata": {
  "language_info": {
   "codemirror_mode": {
    "name": "ipython",
    "version": 3
   },
   "file_extension": ".py",
   "mimetype": "text/x-python",
   "name": "python",
   "nbconvert_exporter": "python",
   "pygments_lexer": "ipython3",
   "version": "3.9.5"
  },
  "orig_nbformat": 2,
  "kernelspec": {
   "name": "pythonjvsc74a57bd0e80e83b4ce063b6d077aa938f4da7ed4d120271a429356fc4f499d6cbc968636",
   "display_name": "Python 3.9.5  ('.venv': venv)"
  },
  "metadata": {
   "interpreter": {
    "hash": "e80e83b4ce063b6d077aa938f4da7ed4d120271a429356fc4f499d6cbc968636"
   }
  }
 },
 "nbformat": 4,
 "nbformat_minor": 2,
 "cells": [
  {
   "cell_type": "code",
   "execution_count": 1,
   "metadata": {},
   "outputs": [],
   "source": [
    "import json\n",
    "from shapely.geometry import shape, Point\n",
    "import datetime\n",
    "from datetime import date, time\n",
    "import time\n",
    "import numpy as np\n",
    "import pandas as pd\n",
    "from src.utils import parse_coord_tuple\n"
   ]
  },
  {
   "cell_type": "code",
   "execution_count": 2,
   "metadata": {},
   "outputs": [
    {
     "output_type": "execute_result",
     "data": {
      "text/plain": [
       "   Unnamed: 0 postcode master_postcode            state  \\\n",
       "0           0    76100           76100           Melaka   \n",
       "1           1    70200           70000  Negeri Sembilan   \n",
       "2           2    70300           70000  Negeri Sembilan   \n",
       "3           4    71950           70000  Negeri Sembilan   \n",
       "4           5    43000           43000         Selangor   \n",
       "\n",
       "              ppv_region                      lat_lon  \n",
       "0                 Melaka  (2.26240649, 102.272489135)  \n",
       "1        Negeri Sembilan        (2.71934, 101.941512)  \n",
       "2        Negeri Sembilan        (2.71934, 101.941512)  \n",
       "3        Negeri Sembilan        (2.71934, 101.941512)  \n",
       "4  Selangor/KL/Putrajaya           (2.99319, 101.787)  "
      ],
      "text/html": "<div>\n<style scoped>\n    .dataframe tbody tr th:only-of-type {\n        vertical-align: middle;\n    }\n\n    .dataframe tbody tr th {\n        vertical-align: top;\n    }\n\n    .dataframe thead th {\n        text-align: right;\n    }\n</style>\n<table border=\"1\" class=\"dataframe\">\n  <thead>\n    <tr style=\"text-align: right;\">\n      <th></th>\n      <th>Unnamed: 0</th>\n      <th>postcode</th>\n      <th>master_postcode</th>\n      <th>state</th>\n      <th>ppv_region</th>\n      <th>lat_lon</th>\n    </tr>\n  </thead>\n  <tbody>\n    <tr>\n      <th>0</th>\n      <td>0</td>\n      <td>76100</td>\n      <td>76100</td>\n      <td>Melaka</td>\n      <td>Melaka</td>\n      <td>(2.26240649, 102.272489135)</td>\n    </tr>\n    <tr>\n      <th>1</th>\n      <td>1</td>\n      <td>70200</td>\n      <td>70000</td>\n      <td>Negeri Sembilan</td>\n      <td>Negeri Sembilan</td>\n      <td>(2.71934, 101.941512)</td>\n    </tr>\n    <tr>\n      <th>2</th>\n      <td>2</td>\n      <td>70300</td>\n      <td>70000</td>\n      <td>Negeri Sembilan</td>\n      <td>Negeri Sembilan</td>\n      <td>(2.71934, 101.941512)</td>\n    </tr>\n    <tr>\n      <th>3</th>\n      <td>4</td>\n      <td>71950</td>\n      <td>70000</td>\n      <td>Negeri Sembilan</td>\n      <td>Negeri Sembilan</td>\n      <td>(2.71934, 101.941512)</td>\n    </tr>\n    <tr>\n      <th>4</th>\n      <td>5</td>\n      <td>43000</td>\n      <td>43000</td>\n      <td>Selangor</td>\n      <td>Selangor/KL/Putrajaya</td>\n      <td>(2.99319, 101.787)</td>\n    </tr>\n  </tbody>\n</table>\n</div>"
     },
     "metadata": {},
     "execution_count": 2
    }
   ],
   "source": [
    "with open('./data/json_1_states.json') as f: \n",
    "    states_gj = json.load(f)  # gj = geojson\n",
    "\n",
    "def reverse_geocode(lon,lat):\n",
    "    point = Point(lon, lat) # lon/lat\n",
    "    for feature in states_gj['features']:\n",
    "        polygon = shape(feature['geometry'])\n",
    "        if polygon.contains(point): return (feature['properties'])['state'].title()\n",
    "        # if polygon.contains(point): return [(feature['properties'])['ADM1_EN'], (feature['properties'])['ADM2_EN']]\n",
    "\n",
    "    return 'None'\n",
    "\n",
    "df = pd.read_excel(\"./output/postcode_output.xlsx\", sheet_name=\"Postcodes\", dtype={\"postcode\": str, \"master_postcode\": str}, converters={\"lat_lon\": parse_coord_tuple})\n",
    "\n",
    "df.head()\n"
   ]
  },
  {
   "cell_type": "code",
   "execution_count": 7,
   "metadata": {},
   "outputs": [],
   "source": [
    "df[\"state_gj\"] = df[\"lat_lon\"].apply(lambda x: reverse_geocode(x[1], x[0]))  # reversed lat/lon!"
   ]
  },
  {
   "cell_type": "code",
   "execution_count": 19,
   "metadata": {},
   "outputs": [
    {
     "output_type": "display_data",
     "data": {
      "text/plain": "0                  Melaka\n1                  Negeri\n4                Selangor\n7                  Pahang\n8                   Johor\n22               Kelantan\n30                  Perak\n42      W.P. Kuala Lumpur\n95         W.P. Putrajaya\n134          Pulau Pinang\n184               Sarawak\n205            Terengganu\n243                 Kedah\n247                Perlis\n712                 Sabah\n1430          W.P. Labuan\nName: state_gj, dtype: object"
     },
     "metadata": {}
    },
    {
     "output_type": "display_data",
     "data": {
      "text/plain": "0                Melaka\n1       Negeri Sembilan\n4              Selangor\n7                Pahang\n8                 Johor\n22             Kelantan\n30                Perak\n42      WP Kuala Lumpur\n95         WP Putrajaya\n134        Pulau Pinang\n184             Sarawak\n205          Terengganu\n243               Kedah\n247              Perlis\n712               Sabah\n1430          WP Labuan\nName: state, dtype: object"
     },
     "metadata": {}
    },
    {
     "output_type": "display_data",
     "data": {
      "text/plain": "     postcode            state         state_gj                      lat_lon\n0       76100           Melaka           Melaka  (2.26240649, 102.272489135)\n1       70200  Negeri Sembilan  Negeri Sembilan        (2.71934, 101.941512)\n2       70300  Negeri Sembilan  Negeri Sembilan        (2.71934, 101.941512)\n3       71950  Negeri Sembilan  Negeri Sembilan        (2.71934, 101.941512)\n4       43000         Selangor         Selangor           (2.99319, 101.787)\n...       ...              ...              ...                          ...\n2881    88875            Sabah            Sabah       (5.982556, 116.074506)\n2882    89707            Sabah            Sabah     (5.52718611, 115.857611)\n2883    91128            Sabah            Sabah       (5.024247, 118.330774)\n2884    32100            Perak            Perak     (4.21121389, 100.641323)\n2885    50512  WP Kuala Lumpur  WP Kuala Lumpur       (3.143717, 101.694244)\n\n[2886 rows x 4 columns]",
      "text/html": "<div>\n<style scoped>\n    .dataframe tbody tr th:only-of-type {\n        vertical-align: middle;\n    }\n\n    .dataframe tbody tr th {\n        vertical-align: top;\n    }\n\n    .dataframe thead th {\n        text-align: right;\n    }\n</style>\n<table border=\"1\" class=\"dataframe\">\n  <thead>\n    <tr style=\"text-align: right;\">\n      <th></th>\n      <th>postcode</th>\n      <th>state</th>\n      <th>state_gj</th>\n      <th>lat_lon</th>\n    </tr>\n  </thead>\n  <tbody>\n    <tr>\n      <th>0</th>\n      <td>76100</td>\n      <td>Melaka</td>\n      <td>Melaka</td>\n      <td>(2.26240649, 102.272489135)</td>\n    </tr>\n    <tr>\n      <th>1</th>\n      <td>70200</td>\n      <td>Negeri Sembilan</td>\n      <td>Negeri Sembilan</td>\n      <td>(2.71934, 101.941512)</td>\n    </tr>\n    <tr>\n      <th>2</th>\n      <td>70300</td>\n      <td>Negeri Sembilan</td>\n      <td>Negeri Sembilan</td>\n      <td>(2.71934, 101.941512)</td>\n    </tr>\n    <tr>\n      <th>3</th>\n      <td>71950</td>\n      <td>Negeri Sembilan</td>\n      <td>Negeri Sembilan</td>\n      <td>(2.71934, 101.941512)</td>\n    </tr>\n    <tr>\n      <th>4</th>\n      <td>43000</td>\n      <td>Selangor</td>\n      <td>Selangor</td>\n      <td>(2.99319, 101.787)</td>\n    </tr>\n    <tr>\n      <th>...</th>\n      <td>...</td>\n      <td>...</td>\n      <td>...</td>\n      <td>...</td>\n    </tr>\n    <tr>\n      <th>2881</th>\n      <td>88875</td>\n      <td>Sabah</td>\n      <td>Sabah</td>\n      <td>(5.982556, 116.074506)</td>\n    </tr>\n    <tr>\n      <th>2882</th>\n      <td>89707</td>\n      <td>Sabah</td>\n      <td>Sabah</td>\n      <td>(5.52718611, 115.857611)</td>\n    </tr>\n    <tr>\n      <th>2883</th>\n      <td>91128</td>\n      <td>Sabah</td>\n      <td>Sabah</td>\n      <td>(5.024247, 118.330774)</td>\n    </tr>\n    <tr>\n      <th>2884</th>\n      <td>32100</td>\n      <td>Perak</td>\n      <td>Perak</td>\n      <td>(4.21121389, 100.641323)</td>\n    </tr>\n    <tr>\n      <th>2885</th>\n      <td>50512</td>\n      <td>WP Kuala Lumpur</td>\n      <td>WP Kuala Lumpur</td>\n      <td>(3.143717, 101.694244)</td>\n    </tr>\n  </tbody>\n</table>\n<p>2886 rows × 4 columns</p>\n</div>"
     },
     "metadata": {}
    }
   ],
   "source": [
    "df = df[[\"postcode\", \"state\", \"state_gj\", \"lat_lon\"]]\n",
    "display(df.state_gj.drop_duplicates())\n",
    "display(df.state.drop_duplicates())\n",
    "\n",
    "ok_states = df.state.drop_duplicates().to_list()\n",
    "\n",
    "same_states = {\n",
    "    \"Negeri\": \"Negeri Sembilan\",\n",
    "    \"W.P. Kuala Lumpur\": \"WP Kuala Lumpur\",\n",
    "    \"W.P. Putrajaya\": \"WP Putrajaya\",\n",
    "    \"W.P. Labuan\": \"WP Labuan\"\n",
    "}\n",
    "\n",
    "df[\"state_gj\"] = df.apply(lambda x: x[\"state_gj\"] if x[\"state_gj\"] in ok_states else same_states[x[\"state_gj\"]], axis=1)\n",
    "display(df)"
   ]
  },
  {
   "cell_type": "code",
   "execution_count": 22,
   "metadata": {},
   "outputs": [],
   "source": [
    "uhoh = df[df[\"state\"] != df[\"state_gj\"]].sort_values([\"lat_lon\", \"postcode\"])\n",
    "uhoh.to_csv(\"./output/posm_coords_not_in_state_geojson.csv\")"
   ]
  }
 ]
}
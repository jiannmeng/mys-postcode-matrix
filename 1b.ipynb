{
 "metadata": {
  "language_info": {
   "codemirror_mode": {
    "name": "ipython",
    "version": 3
   },
   "file_extension": ".py",
   "mimetype": "text/x-python",
   "name": "python",
   "nbconvert_exporter": "python",
   "pygments_lexer": "ipython3",
   "version": "3.9.5"
  },
  "orig_nbformat": 2,
  "kernelspec": {
   "name": "pythonjvsc74a57bd0e80e83b4ce063b6d077aa938f4da7ed4d120271a429356fc4f499d6cbc968636",
   "display_name": "Python 3.9.5  ('.venv': venv)"
  },
  "metadata": {
   "interpreter": {
    "hash": "e80e83b4ce063b6d077aa938f4da7ed4d120271a429356fc4f499d6cbc968636"
   }
  }
 },
 "nbformat": 4,
 "nbformat_minor": 2,
 "cells": [
  {
   "cell_type": "code",
   "execution_count": 1,
   "metadata": {},
   "outputs": [],
   "source": [
    "import csv\n",
    "from collections import namedtuple\n",
    "from itertools import combinations\n",
    "\n",
    "import numpy as np\n",
    "import pandas as pd\n",
    "import pickle\n",
    "from src.utils import check_hash, haversine_km, postcode_str, parse_coord_tuple"
   ]
  },
  {
   "cell_type": "code",
   "execution_count": 2,
   "metadata": {},
   "outputs": [],
   "source": [
    "# Check Excel file hash (in case we accidentally changed some data in the file).\n",
    "POSM_FILE = \"./data/Poscode - Lat Long.xlsx\"\n",
    "assert check_hash(POSM_FILE)\n",
    "\n",
    "# Import the Excel file. Keep the Postcode column as a string.\n",
    "df_import = pd.read_excel(POSM_FILE, sheet_name=\"Sheet2\", dtype={\"POSTCODE\": str})"
   ]
  },
  {
   "cell_type": "code",
   "execution_count": 3,
   "metadata": {},
   "outputs": [
    {
     "output_type": "display_data",
     "data": {
      "text/plain": "                                      location postcode district_0 district_1  \\\n0  Pusat Komersial & Perindustrian Gangsa Jaya    76100     Melaka     Melaka   \n1                                 Rimbun Kiara    70200   Seremban   Seremban   \n2                                Rimbun Impian    70300   Seremban   Seremban   \n3                                Rimbun Jasmin    70300   Seremban   Seremban   \n4                                Nusari Bayu 2    71950   Seremban   Seremban   \n\n             state                 last_updated   longitude  latitude  \n0           Melaka  2020-10-02 00:00:00.0000000  102.264939  2.214094  \n1  Negeri Sembilan  2020-10-02 00:00:00.0000000  101.941512  2.719340  \n2  Negeri Sembilan  2020-10-02 00:00:00.0000000  101.941512  2.719340  \n3  Negeri Sembilan  2020-10-02 00:00:00.0000000  101.941512  2.719340  \n4  Negeri Sembilan  2020-10-02 00:00:00.0000000  101.941512  2.719340  ",
      "text/html": "<div>\n<style scoped>\n    .dataframe tbody tr th:only-of-type {\n        vertical-align: middle;\n    }\n\n    .dataframe tbody tr th {\n        vertical-align: top;\n    }\n\n    .dataframe thead th {\n        text-align: right;\n    }\n</style>\n<table border=\"1\" class=\"dataframe\">\n  <thead>\n    <tr style=\"text-align: right;\">\n      <th></th>\n      <th>location</th>\n      <th>postcode</th>\n      <th>district_0</th>\n      <th>district_1</th>\n      <th>state</th>\n      <th>last_updated</th>\n      <th>longitude</th>\n      <th>latitude</th>\n    </tr>\n  </thead>\n  <tbody>\n    <tr>\n      <th>0</th>\n      <td>Pusat Komersial &amp; Perindustrian Gangsa Jaya</td>\n      <td>76100</td>\n      <td>Melaka</td>\n      <td>Melaka</td>\n      <td>Melaka</td>\n      <td>2020-10-02 00:00:00.0000000</td>\n      <td>102.264939</td>\n      <td>2.214094</td>\n    </tr>\n    <tr>\n      <th>1</th>\n      <td>Rimbun Kiara</td>\n      <td>70200</td>\n      <td>Seremban</td>\n      <td>Seremban</td>\n      <td>Negeri Sembilan</td>\n      <td>2020-10-02 00:00:00.0000000</td>\n      <td>101.941512</td>\n      <td>2.719340</td>\n    </tr>\n    <tr>\n      <th>2</th>\n      <td>Rimbun Impian</td>\n      <td>70300</td>\n      <td>Seremban</td>\n      <td>Seremban</td>\n      <td>Negeri Sembilan</td>\n      <td>2020-10-02 00:00:00.0000000</td>\n      <td>101.941512</td>\n      <td>2.719340</td>\n    </tr>\n    <tr>\n      <th>3</th>\n      <td>Rimbun Jasmin</td>\n      <td>70300</td>\n      <td>Seremban</td>\n      <td>Seremban</td>\n      <td>Negeri Sembilan</td>\n      <td>2020-10-02 00:00:00.0000000</td>\n      <td>101.941512</td>\n      <td>2.719340</td>\n    </tr>\n    <tr>\n      <th>4</th>\n      <td>Nusari Bayu 2</td>\n      <td>71950</td>\n      <td>Seremban</td>\n      <td>Seremban</td>\n      <td>Negeri Sembilan</td>\n      <td>2020-10-02 00:00:00.0000000</td>\n      <td>101.941512</td>\n      <td>2.719340</td>\n    </tr>\n  </tbody>\n</table>\n</div>"
     },
     "metadata": {}
    },
    {
     "output_type": "stream",
     "name": "stdout",
     "text": [
      "<class 'pandas.core.frame.DataFrame'>\nRangeIndex: 71031 entries, 0 to 71030\nData columns (total 8 columns):\n #   Column        Non-Null Count  Dtype  \n---  ------        --------------  -----  \n 0   location      71031 non-null  object \n 1   postcode      71031 non-null  object \n 2   district_0    71031 non-null  object \n 3   district_1    71031 non-null  object \n 4   state         71031 non-null  object \n 5   last_updated  71031 non-null  object \n 6   longitude     71031 non-null  float64\n 7   latitude      71031 non-null  float64\ndtypes: float64(2), object(6)\nmemory usage: 4.3+ MB\n"
     ]
    },
    {
     "output_type": "display_data",
     "data": {
      "text/plain": "None"
     },
     "metadata": {}
    }
   ],
   "source": [
    "df = df_import.rename(\n",
    "    columns={\n",
    "        \"LOCATION\": \"location\",\n",
    "        \"POSTCODE\": \"postcode\",\n",
    "        \"POST_OFFICE\": \"district_0\",\n",
    "        \"POST_OFFICE_1\": \"district_1\",\n",
    "        \"STATE\": \"state\",\n",
    "        \"DATEUPDATE\": \"last_updated\",\n",
    "        \"POINT_X\": \"longitude\",\n",
    "        \"POINT_Y\": \"latitude\",\n",
    "    }\n",
    ")\n",
    "display(df.head())\n",
    "display(df.info())"
   ]
  },
  {
   "cell_type": "code",
   "execution_count": 4,
   "metadata": {},
   "outputs": [
    {
     "output_type": "stream",
     "name": "stdout",
     "text": [
      "Unclean states: ['WP kuala Lumpur']\nUnclean states: []\ndistrict_0 has 437 unique values.\ndistrict_1 has 437 unique values.\n"
     ]
    }
   ],
   "source": [
    "# White space and capitalisation.\n",
    "for col in [\"location\", \"postcode\", \"district_0\", \"district_1\", \"state\"]:\n",
    "    df[col] = df[col].apply(lambda x: x.strip().removesuffix(\"_x000D_\"))\n",
    "    df[col] = df[col].apply(lambda x: x[0].upper() + x[1:])\n",
    "\n",
    "# We can drop location and date_updated, as it's not very useful.\n",
    "df = df.drop(columns=[\"location\", \"last_updated\"]).drop_duplicates()\n",
    "\n",
    "# Combine longitude and latitude into 1 column.\n",
    "# It makes for easier aggregate operations later.\n",
    "df[\"lat_lon\"] = list(zip(df[\"latitude\"], df[\"longitude\"]))\n",
    "df = df.drop(columns=[\"latitude\", \"longitude\"])\n",
    "\n",
    "# Clean state column.\n",
    "CLEANED_STATES = [\n",
    "    \"Johor\",\n",
    "    \"Kedah\",\n",
    "    \"Kelantan\",\n",
    "    \"Melaka\",\n",
    "    \"Negeri Sembilan\",\n",
    "    \"Pahang\",\n",
    "    \"Perak\",\n",
    "    \"Perlis\",\n",
    "    \"Pulau Pinang\",\n",
    "    \"Sabah\",\n",
    "    \"Sarawak\",\n",
    "    \"Selangor\",\n",
    "    \"Terengganu\",\n",
    "    \"WP Kuala Lumpur\",\n",
    "    \"WP Labuan\",\n",
    "    \"WP Putrajaya\",\n",
    "]\n",
    "\n",
    "\n",
    "def unclean_states():\n",
    "    return sorted([s for s in df.state.unique() if s not in CLEANED_STATES])\n",
    "\n",
    "print(\"Unclean states:\", unclean_states())\n",
    "\n",
    "clean_state_dict = {\n",
    "    \"WP kuala Lumpur\": \"WP Kuala Lumpur\",\n",
    "}\n",
    "\n",
    "df.state = df.state.apply(\n",
    "    lambda x: clean_state_dict[x] if x in clean_state_dict.keys() else x\n",
    ")\n",
    "print(\"Unclean states:\", unclean_states())\n",
    "assert unclean_states() == []\n",
    "\n",
    "# Why are there two district fields? After cleaning, they are the same.\n",
    "df_districts = df.loc[:, [\"district_0\", \"district_1\"]].drop_duplicates()\n",
    "for col in df_districts:\n",
    "    print(f\"{col} has {len(df_districts[col].unique())} unique values.\")\n",
    "assert len(df_districts.district_0.unique()) == len(df_districts.district_0.unique())\n",
    "\n",
    "# We can drop district_0 and rename district_1 to district.\n",
    "df = df.drop(columns=\"district_0\").rename(columns={\"district_1\": \"district\"})\n",
    "df.head()\n",
    "\n",
    "# Add PPV regions: KL, Selangor & Putrajaya are the same region\n",
    "df[\"ppv_region\"] = df[\"state\"].apply(\n",
    "    lambda x: \"Selangor/KL/Putrajaya\"\n",
    "    if x in [\"Selangor\", \"WP Kuala Lumpur\", \"WP Putrajaya\"]\n",
    "    else x\n",
    ")"
   ]
  },
  {
   "cell_type": "code",
   "execution_count": 5,
   "metadata": {},
   "outputs": [
    {
     "output_type": "execute_result",
     "data": {
      "text/plain": [
       "                    state                                   lat_lon\n",
       "postcode                                                           \n",
       "02700              Perlis   (6.342472437999014, 100.18982195228926)\n",
       "02707              Perlis   (6.342472437999014, 100.18982195228926)\n",
       "02709              Perlis   (6.342472437999014, 100.18982195228926)\n",
       "02800              Perlis   (6.342472437999014, 100.18982195228926)\n",
       "14100        Pulau Pinang                    (5.283955, 100.476943)\n",
       "14110        Pulau Pinang                    (5.283955, 100.476943)\n",
       "14120        Pulau Pinang                    (5.283955, 100.476943)\n",
       "06200               Kedah   (6.216754689734435, 100.39997806495073)\n",
       "06207               Kedah   (6.216754689734435, 100.39997806495073)\n",
       "06209               Kedah   (6.216754689734435, 100.39997806495073)\n",
       "13200        Pulau Pinang   (5.218040857077913, 100.49509023385203)\n",
       "13210        Pulau Pinang   (5.218040857077913, 100.49509023385203)\n",
       "13220        Pulau Pinang   (5.218040857077913, 100.49509023385203)\n",
       "09130               Kedah   (5.604487548645426, 100.77210312560088)\n",
       "96350             Sarawak                    (2.930566, 112.542298)\n",
       "09800               Kedah                (5.21211777, 100.61685221)\n",
       "09809               Kedah                (5.21211777, 100.61685221)\n",
       "09810               Kedah                (5.21211777, 100.61685221)\n",
       "43400            Selangor   (2.992590524991556, 101.70488061870006)\n",
       "17200            Kelantan   (6.018564738389859, 101.97637471265112)\n",
       "17207            Kelantan   (6.018564738389859, 101.97637471265112)\n",
       "34140               Perak                    (5.241026, 100.731474)\n",
       "43100            Selangor                (3.10037869, 101.80299706)\n",
       "53100     WP Kuala Lumpur  (3.2602378698699637, 101.73339871761922)\n",
       "31850               Perak   (4.393723020586895, 101.19221718279005)\n",
       "45800            Selangor                     (3.26099, 101.304808)\n",
       "86100               Johor  (1.9569694921352196, 103.20613036639183)\n",
       "86107               Johor  (1.9569694921352196, 103.20613036639183)\n",
       "06150               Kedah                    (6.238259, 100.245701)"
      ],
      "text/html": "<div>\n<style scoped>\n    .dataframe tbody tr th:only-of-type {\n        vertical-align: middle;\n    }\n\n    .dataframe tbody tr th {\n        vertical-align: top;\n    }\n\n    .dataframe thead th {\n        text-align: right;\n    }\n</style>\n<table border=\"1\" class=\"dataframe\">\n  <thead>\n    <tr style=\"text-align: right;\">\n      <th></th>\n      <th>state</th>\n      <th>lat_lon</th>\n    </tr>\n    <tr>\n      <th>postcode</th>\n      <th></th>\n      <th></th>\n    </tr>\n  </thead>\n  <tbody>\n    <tr>\n      <th>02700</th>\n      <td>Perlis</td>\n      <td>(6.342472437999014, 100.18982195228926)</td>\n    </tr>\n    <tr>\n      <th>02707</th>\n      <td>Perlis</td>\n      <td>(6.342472437999014, 100.18982195228926)</td>\n    </tr>\n    <tr>\n      <th>02709</th>\n      <td>Perlis</td>\n      <td>(6.342472437999014, 100.18982195228926)</td>\n    </tr>\n    <tr>\n      <th>02800</th>\n      <td>Perlis</td>\n      <td>(6.342472437999014, 100.18982195228926)</td>\n    </tr>\n    <tr>\n      <th>14100</th>\n      <td>Pulau Pinang</td>\n      <td>(5.283955, 100.476943)</td>\n    </tr>\n    <tr>\n      <th>14110</th>\n      <td>Pulau Pinang</td>\n      <td>(5.283955, 100.476943)</td>\n    </tr>\n    <tr>\n      <th>14120</th>\n      <td>Pulau Pinang</td>\n      <td>(5.283955, 100.476943)</td>\n    </tr>\n    <tr>\n      <th>06200</th>\n      <td>Kedah</td>\n      <td>(6.216754689734435, 100.39997806495073)</td>\n    </tr>\n    <tr>\n      <th>06207</th>\n      <td>Kedah</td>\n      <td>(6.216754689734435, 100.39997806495073)</td>\n    </tr>\n    <tr>\n      <th>06209</th>\n      <td>Kedah</td>\n      <td>(6.216754689734435, 100.39997806495073)</td>\n    </tr>\n    <tr>\n      <th>13200</th>\n      <td>Pulau Pinang</td>\n      <td>(5.218040857077913, 100.49509023385203)</td>\n    </tr>\n    <tr>\n      <th>13210</th>\n      <td>Pulau Pinang</td>\n      <td>(5.218040857077913, 100.49509023385203)</td>\n    </tr>\n    <tr>\n      <th>13220</th>\n      <td>Pulau Pinang</td>\n      <td>(5.218040857077913, 100.49509023385203)</td>\n    </tr>\n    <tr>\n      <th>09130</th>\n      <td>Kedah</td>\n      <td>(5.604487548645426, 100.77210312560088)</td>\n    </tr>\n    <tr>\n      <th>96350</th>\n      <td>Sarawak</td>\n      <td>(2.930566, 112.542298)</td>\n    </tr>\n    <tr>\n      <th>09800</th>\n      <td>Kedah</td>\n      <td>(5.21211777, 100.61685221)</td>\n    </tr>\n    <tr>\n      <th>09809</th>\n      <td>Kedah</td>\n      <td>(5.21211777, 100.61685221)</td>\n    </tr>\n    <tr>\n      <th>09810</th>\n      <td>Kedah</td>\n      <td>(5.21211777, 100.61685221)</td>\n    </tr>\n    <tr>\n      <th>43400</th>\n      <td>Selangor</td>\n      <td>(2.992590524991556, 101.70488061870006)</td>\n    </tr>\n    <tr>\n      <th>17200</th>\n      <td>Kelantan</td>\n      <td>(6.018564738389859, 101.97637471265112)</td>\n    </tr>\n    <tr>\n      <th>17207</th>\n      <td>Kelantan</td>\n      <td>(6.018564738389859, 101.97637471265112)</td>\n    </tr>\n    <tr>\n      <th>34140</th>\n      <td>Perak</td>\n      <td>(5.241026, 100.731474)</td>\n    </tr>\n    <tr>\n      <th>43100</th>\n      <td>Selangor</td>\n      <td>(3.10037869, 101.80299706)</td>\n    </tr>\n    <tr>\n      <th>53100</th>\n      <td>WP Kuala Lumpur</td>\n      <td>(3.2602378698699637, 101.73339871761922)</td>\n    </tr>\n    <tr>\n      <th>31850</th>\n      <td>Perak</td>\n      <td>(4.393723020586895, 101.19221718279005)</td>\n    </tr>\n    <tr>\n      <th>45800</th>\n      <td>Selangor</td>\n      <td>(3.26099, 101.304808)</td>\n    </tr>\n    <tr>\n      <th>86100</th>\n      <td>Johor</td>\n      <td>(1.9569694921352196, 103.20613036639183)</td>\n    </tr>\n    <tr>\n      <th>86107</th>\n      <td>Johor</td>\n      <td>(1.9569694921352196, 103.20613036639183)</td>\n    </tr>\n    <tr>\n      <th>06150</th>\n      <td>Kedah</td>\n      <td>(6.238259, 100.245701)</td>\n    </tr>\n  </tbody>\n</table>\n</div>"
     },
     "metadata": {},
     "execution_count": 5
    }
   ],
   "source": [
    "FIXED_DATA_FILE = \"./data/bad_postcode_data_Thev.xlsx\"\n",
    "assert check_hash(FIXED_DATA_FILE)\n",
    "df_import2 = pd.read_excel(FIXED_DATA_FILE, sheet_name=\"Sheet1\", converters={\"postcode\": postcode_str, \"lat_lon\": parse_coord_tuple})\n",
    "df_fix = df_import2[[\"postcode\", \"state\", \"lat_lon\"]].set_index(\"postcode\")\n",
    "df_fix"
   ]
  },
  {
   "cell_type": "code",
   "execution_count": 6,
   "metadata": {},
   "outputs": [
    {
     "output_type": "execute_result",
     "data": {
      "text/plain": [
       "      postcode        district            state                     lat_lon  \\\n",
       "2799     02700   Simpang Ampat           Perlis      (5.283955, 100.476943)   \n",
       "3624     02707   Simpang Ampat           Perlis      (5.283955, 100.476943)   \n",
       "3625     02709   Simpang Ampat           Perlis      (5.283955, 100.476943)   \n",
       "3626     02800   Simpang Ampat           Perlis      (5.283955, 100.476943)   \n",
       "6153     06200    Kepala Batas            Kedah      (5.610519, 100.444822)   \n",
       "7573     06207    Kepala Batas            Kedah      (5.610519, 100.444822)   \n",
       "7574     06209    Kepala Batas            Kedah      (5.610519, 100.444822)   \n",
       "61055    09130          Baling            Kedah      (2.930566, 112.542298)   \n",
       "9333     09130          Baling            Kedah       (5.67511, 100.918537)   \n",
       "641      13200    Kepala Batas     Pulau Pinang      (5.610519, 100.444822)   \n",
       "9673     13210    Kepala Batas     Pulau Pinang      (5.610519, 100.444822)   \n",
       "4372     13220    Kepala Batas     Pulau Pinang      (5.610519, 100.444822)   \n",
       "9711     17200  Rantau Panjang         Kelantan      (5.241026, 100.731474)   \n",
       "7363     17207  Rantau Panjang         Kelantan      (5.241026, 100.731474)   \n",
       "56852    31850           Jeram            Perak       (3.26099, 101.304808)   \n",
       "46504    43400         Serdang         Selangor  (5.21211777, 100.61685221)   \n",
       "58624    53100     Hulu Langat  WP Kuala Lumpur  (3.10037869, 101.80299706)   \n",
       "448      53100    Kuala Lumpur  WP Kuala Lumpur      (3.143717, 101.694244)   \n",
       "6029     86100      Ayer Hitam            Johor      (6.238259, 100.245701)   \n",
       "19789    86107      Ayer Hitam            Johor      (6.238259, 100.245701)   \n",
       "\n",
       "                  ppv_region                             fixed_lat_lon  \n",
       "2799                  Perlis   (6.342472437999014, 100.18982195228926)  \n",
       "3624                  Perlis   (6.342472437999014, 100.18982195228926)  \n",
       "3625                  Perlis   (6.342472437999014, 100.18982195228926)  \n",
       "3626                  Perlis   (6.342472437999014, 100.18982195228926)  \n",
       "6153                   Kedah   (6.216754689734435, 100.39997806495073)  \n",
       "7573                   Kedah   (6.216754689734435, 100.39997806495073)  \n",
       "7574                   Kedah   (6.216754689734435, 100.39997806495073)  \n",
       "61055                  Kedah   (5.604487548645426, 100.77210312560088)  \n",
       "9333                   Kedah   (5.604487548645426, 100.77210312560088)  \n",
       "641             Pulau Pinang   (5.218040857077913, 100.49509023385203)  \n",
       "9673            Pulau Pinang   (5.218040857077913, 100.49509023385203)  \n",
       "4372            Pulau Pinang   (5.218040857077913, 100.49509023385203)  \n",
       "9711                Kelantan   (6.018564738389859, 101.97637471265112)  \n",
       "7363                Kelantan   (6.018564738389859, 101.97637471265112)  \n",
       "56852                  Perak   (4.393723020586895, 101.19221718279005)  \n",
       "46504  Selangor/KL/Putrajaya   (2.992590524991556, 101.70488061870006)  \n",
       "58624  Selangor/KL/Putrajaya  (3.2602378698699637, 101.73339871761922)  \n",
       "448    Selangor/KL/Putrajaya  (3.2602378698699637, 101.73339871761922)  \n",
       "6029                   Johor  (1.9569694921352196, 103.20613036639183)  \n",
       "19789                  Johor  (1.9569694921352196, 103.20613036639183)  "
      ],
      "text/html": "<div>\n<style scoped>\n    .dataframe tbody tr th:only-of-type {\n        vertical-align: middle;\n    }\n\n    .dataframe tbody tr th {\n        vertical-align: top;\n    }\n\n    .dataframe thead th {\n        text-align: right;\n    }\n</style>\n<table border=\"1\" class=\"dataframe\">\n  <thead>\n    <tr style=\"text-align: right;\">\n      <th></th>\n      <th>postcode</th>\n      <th>district</th>\n      <th>state</th>\n      <th>lat_lon</th>\n      <th>ppv_region</th>\n      <th>fixed_lat_lon</th>\n    </tr>\n  </thead>\n  <tbody>\n    <tr>\n      <th>2799</th>\n      <td>02700</td>\n      <td>Simpang Ampat</td>\n      <td>Perlis</td>\n      <td>(5.283955, 100.476943)</td>\n      <td>Perlis</td>\n      <td>(6.342472437999014, 100.18982195228926)</td>\n    </tr>\n    <tr>\n      <th>3624</th>\n      <td>02707</td>\n      <td>Simpang Ampat</td>\n      <td>Perlis</td>\n      <td>(5.283955, 100.476943)</td>\n      <td>Perlis</td>\n      <td>(6.342472437999014, 100.18982195228926)</td>\n    </tr>\n    <tr>\n      <th>3625</th>\n      <td>02709</td>\n      <td>Simpang Ampat</td>\n      <td>Perlis</td>\n      <td>(5.283955, 100.476943)</td>\n      <td>Perlis</td>\n      <td>(6.342472437999014, 100.18982195228926)</td>\n    </tr>\n    <tr>\n      <th>3626</th>\n      <td>02800</td>\n      <td>Simpang Ampat</td>\n      <td>Perlis</td>\n      <td>(5.283955, 100.476943)</td>\n      <td>Perlis</td>\n      <td>(6.342472437999014, 100.18982195228926)</td>\n    </tr>\n    <tr>\n      <th>6153</th>\n      <td>06200</td>\n      <td>Kepala Batas</td>\n      <td>Kedah</td>\n      <td>(5.610519, 100.444822)</td>\n      <td>Kedah</td>\n      <td>(6.216754689734435, 100.39997806495073)</td>\n    </tr>\n    <tr>\n      <th>7573</th>\n      <td>06207</td>\n      <td>Kepala Batas</td>\n      <td>Kedah</td>\n      <td>(5.610519, 100.444822)</td>\n      <td>Kedah</td>\n      <td>(6.216754689734435, 100.39997806495073)</td>\n    </tr>\n    <tr>\n      <th>7574</th>\n      <td>06209</td>\n      <td>Kepala Batas</td>\n      <td>Kedah</td>\n      <td>(5.610519, 100.444822)</td>\n      <td>Kedah</td>\n      <td>(6.216754689734435, 100.39997806495073)</td>\n    </tr>\n    <tr>\n      <th>61055</th>\n      <td>09130</td>\n      <td>Baling</td>\n      <td>Kedah</td>\n      <td>(2.930566, 112.542298)</td>\n      <td>Kedah</td>\n      <td>(5.604487548645426, 100.77210312560088)</td>\n    </tr>\n    <tr>\n      <th>9333</th>\n      <td>09130</td>\n      <td>Baling</td>\n      <td>Kedah</td>\n      <td>(5.67511, 100.918537)</td>\n      <td>Kedah</td>\n      <td>(5.604487548645426, 100.77210312560088)</td>\n    </tr>\n    <tr>\n      <th>641</th>\n      <td>13200</td>\n      <td>Kepala Batas</td>\n      <td>Pulau Pinang</td>\n      <td>(5.610519, 100.444822)</td>\n      <td>Pulau Pinang</td>\n      <td>(5.218040857077913, 100.49509023385203)</td>\n    </tr>\n    <tr>\n      <th>9673</th>\n      <td>13210</td>\n      <td>Kepala Batas</td>\n      <td>Pulau Pinang</td>\n      <td>(5.610519, 100.444822)</td>\n      <td>Pulau Pinang</td>\n      <td>(5.218040857077913, 100.49509023385203)</td>\n    </tr>\n    <tr>\n      <th>4372</th>\n      <td>13220</td>\n      <td>Kepala Batas</td>\n      <td>Pulau Pinang</td>\n      <td>(5.610519, 100.444822)</td>\n      <td>Pulau Pinang</td>\n      <td>(5.218040857077913, 100.49509023385203)</td>\n    </tr>\n    <tr>\n      <th>9711</th>\n      <td>17200</td>\n      <td>Rantau Panjang</td>\n      <td>Kelantan</td>\n      <td>(5.241026, 100.731474)</td>\n      <td>Kelantan</td>\n      <td>(6.018564738389859, 101.97637471265112)</td>\n    </tr>\n    <tr>\n      <th>7363</th>\n      <td>17207</td>\n      <td>Rantau Panjang</td>\n      <td>Kelantan</td>\n      <td>(5.241026, 100.731474)</td>\n      <td>Kelantan</td>\n      <td>(6.018564738389859, 101.97637471265112)</td>\n    </tr>\n    <tr>\n      <th>56852</th>\n      <td>31850</td>\n      <td>Jeram</td>\n      <td>Perak</td>\n      <td>(3.26099, 101.304808)</td>\n      <td>Perak</td>\n      <td>(4.393723020586895, 101.19221718279005)</td>\n    </tr>\n    <tr>\n      <th>46504</th>\n      <td>43400</td>\n      <td>Serdang</td>\n      <td>Selangor</td>\n      <td>(5.21211777, 100.61685221)</td>\n      <td>Selangor/KL/Putrajaya</td>\n      <td>(2.992590524991556, 101.70488061870006)</td>\n    </tr>\n    <tr>\n      <th>58624</th>\n      <td>53100</td>\n      <td>Hulu Langat</td>\n      <td>WP Kuala Lumpur</td>\n      <td>(3.10037869, 101.80299706)</td>\n      <td>Selangor/KL/Putrajaya</td>\n      <td>(3.2602378698699637, 101.73339871761922)</td>\n    </tr>\n    <tr>\n      <th>448</th>\n      <td>53100</td>\n      <td>Kuala Lumpur</td>\n      <td>WP Kuala Lumpur</td>\n      <td>(3.143717, 101.694244)</td>\n      <td>Selangor/KL/Putrajaya</td>\n      <td>(3.2602378698699637, 101.73339871761922)</td>\n    </tr>\n    <tr>\n      <th>6029</th>\n      <td>86100</td>\n      <td>Ayer Hitam</td>\n      <td>Johor</td>\n      <td>(6.238259, 100.245701)</td>\n      <td>Johor</td>\n      <td>(1.9569694921352196, 103.20613036639183)</td>\n    </tr>\n    <tr>\n      <th>19789</th>\n      <td>86107</td>\n      <td>Ayer Hitam</td>\n      <td>Johor</td>\n      <td>(6.238259, 100.245701)</td>\n      <td>Johor</td>\n      <td>(1.9569694921352196, 103.20613036639183)</td>\n    </tr>\n  </tbody>\n</table>\n</div>"
     },
     "metadata": {},
     "execution_count": 6
    }
   ],
   "source": [
    "pc_fixed = df_fix.index.to_list()\n",
    "\n",
    "def fix_coords(series) -> tuple:\n",
    "    pc = series[\"postcode\"]\n",
    "    if pc in pc_fixed:\n",
    "        return df_fix.loc[pc][\"lat_lon\"]\n",
    "    else:\n",
    "        return series[\"lat_lon\"]\n",
    "\n",
    "df[\"fixed_lat_lon\"] = df.apply(fix_coords, axis=\"columns\")\n",
    "df[df[\"lat_lon\"] != df[\"fixed_lat_lon\"]].sort_values(\"postcode\")"
   ]
  },
  {
   "cell_type": "code",
   "execution_count": 7,
   "metadata": {},
   "outputs": [],
   "source": [
    "# Replace lat_lon with the fixed values\r\n",
    "df[\"lat_lon\"] = df[\"fixed_lat_lon\"]\r\n",
    "df = df.drop(\"fixed_lat_lon\", axis=\"columns\")\r\n"
   ]
  },
  {
   "cell_type": "code",
   "execution_count": 8,
   "metadata": {},
   "outputs": [
    {
     "output_type": "execute_result",
     "data": {
      "text/plain": [
       "      postcode       district            state                   lat_lon  \\\n",
       "0        76100         Melaka           Melaka    (2.214094, 102.264939)   \n",
       "1        70200       Seremban  Negeri Sembilan     (2.71934, 101.941512)   \n",
       "2        70300       Seremban  Negeri Sembilan     (2.71934, 101.941512)   \n",
       "4        71950       Seremban  Negeri Sembilan     (2.71934, 101.941512)   \n",
       "5        43000         Kajang         Selangor        (2.99319, 101.787)   \n",
       "...        ...            ...              ...                       ...   \n",
       "70583    88875  Kota Kinabalu            Sabah    (5.982556, 116.074506)   \n",
       "70584    89707       Bongawan            Sabah  (5.52718611, 115.857611)   \n",
       "70585    91128     Lahad Datu            Sabah    (5.024247, 118.330774)   \n",
       "70588    32100     TLDM Lumut            Perak  (4.21121389, 100.641323)   \n",
       "70589    50512   Kuala Lumpur  WP Kuala Lumpur    (3.143717, 101.694244)   \n",
       "\n",
       "                  ppv_region  \n",
       "0                     Melaka  \n",
       "1            Negeri Sembilan  \n",
       "2            Negeri Sembilan  \n",
       "4            Negeri Sembilan  \n",
       "5      Selangor/KL/Putrajaya  \n",
       "...                      ...  \n",
       "70583                  Sabah  \n",
       "70584                  Sabah  \n",
       "70585                  Sabah  \n",
       "70588                  Perak  \n",
       "70589  Selangor/KL/Putrajaya  \n",
       "\n",
       "[2904 rows x 5 columns]"
      ],
      "text/html": "<div>\n<style scoped>\n    .dataframe tbody tr th:only-of-type {\n        vertical-align: middle;\n    }\n\n    .dataframe tbody tr th {\n        vertical-align: top;\n    }\n\n    .dataframe thead th {\n        text-align: right;\n    }\n</style>\n<table border=\"1\" class=\"dataframe\">\n  <thead>\n    <tr style=\"text-align: right;\">\n      <th></th>\n      <th>postcode</th>\n      <th>district</th>\n      <th>state</th>\n      <th>lat_lon</th>\n      <th>ppv_region</th>\n    </tr>\n  </thead>\n  <tbody>\n    <tr>\n      <th>0</th>\n      <td>76100</td>\n      <td>Melaka</td>\n      <td>Melaka</td>\n      <td>(2.214094, 102.264939)</td>\n      <td>Melaka</td>\n    </tr>\n    <tr>\n      <th>1</th>\n      <td>70200</td>\n      <td>Seremban</td>\n      <td>Negeri Sembilan</td>\n      <td>(2.71934, 101.941512)</td>\n      <td>Negeri Sembilan</td>\n    </tr>\n    <tr>\n      <th>2</th>\n      <td>70300</td>\n      <td>Seremban</td>\n      <td>Negeri Sembilan</td>\n      <td>(2.71934, 101.941512)</td>\n      <td>Negeri Sembilan</td>\n    </tr>\n    <tr>\n      <th>4</th>\n      <td>71950</td>\n      <td>Seremban</td>\n      <td>Negeri Sembilan</td>\n      <td>(2.71934, 101.941512)</td>\n      <td>Negeri Sembilan</td>\n    </tr>\n    <tr>\n      <th>5</th>\n      <td>43000</td>\n      <td>Kajang</td>\n      <td>Selangor</td>\n      <td>(2.99319, 101.787)</td>\n      <td>Selangor/KL/Putrajaya</td>\n    </tr>\n    <tr>\n      <th>...</th>\n      <td>...</td>\n      <td>...</td>\n      <td>...</td>\n      <td>...</td>\n      <td>...</td>\n    </tr>\n    <tr>\n      <th>70583</th>\n      <td>88875</td>\n      <td>Kota Kinabalu</td>\n      <td>Sabah</td>\n      <td>(5.982556, 116.074506)</td>\n      <td>Sabah</td>\n    </tr>\n    <tr>\n      <th>70584</th>\n      <td>89707</td>\n      <td>Bongawan</td>\n      <td>Sabah</td>\n      <td>(5.52718611, 115.857611)</td>\n      <td>Sabah</td>\n    </tr>\n    <tr>\n      <th>70585</th>\n      <td>91128</td>\n      <td>Lahad Datu</td>\n      <td>Sabah</td>\n      <td>(5.024247, 118.330774)</td>\n      <td>Sabah</td>\n    </tr>\n    <tr>\n      <th>70588</th>\n      <td>32100</td>\n      <td>TLDM Lumut</td>\n      <td>Perak</td>\n      <td>(4.21121389, 100.641323)</td>\n      <td>Perak</td>\n    </tr>\n    <tr>\n      <th>70589</th>\n      <td>50512</td>\n      <td>Kuala Lumpur</td>\n      <td>WP Kuala Lumpur</td>\n      <td>(3.143717, 101.694244)</td>\n      <td>Selangor/KL/Putrajaya</td>\n    </tr>\n  </tbody>\n</table>\n<p>2904 rows × 5 columns</p>\n</div>"
     },
     "metadata": {},
     "execution_count": 8
    }
   ],
   "source": [
    "df"
   ]
  },
  {
   "cell_type": "code",
   "execution_count": 9,
   "metadata": {},
   "outputs": [],
   "source": [
    "# Helper function t\n",
    "def postcode_level(postcode: str) -> int:\n",
    "    \"\"\"Returns the postcode level: number of digits before the ending string of zeroes.\n",
    "\n",
    "    e.g. 54000 -> Level 2 postcode\n",
    "         54680 -> Level 4 postcode\n",
    "    \"\"\"\n",
    "    return len(postcode.rstrip(\"0\"))"
   ]
  },
  {
   "cell_type": "code",
   "execution_count": 23,
   "metadata": {},
   "outputs": [
    {
     "output_type": "display_data",
     "data": {
      "text/plain": "          num_lat_lon\npostcode             \n21400               3\n06010               2\n57000               2\n81300               2\n76100               2\n75460               2\n72120               2\n71800               2\n59200               2\n53100               2\n09130               2\n47810               2\n46150               2\n43300               2\n32600               2\n24000               2\n81550               2",
      "text/html": "<div>\n<style scoped>\n    .dataframe tbody tr th:only-of-type {\n        vertical-align: middle;\n    }\n\n    .dataframe tbody tr th {\n        vertical-align: top;\n    }\n\n    .dataframe thead th {\n        text-align: right;\n    }\n</style>\n<table border=\"1\" class=\"dataframe\">\n  <thead>\n    <tr style=\"text-align: right;\">\n      <th></th>\n      <th>num_lat_lon</th>\n    </tr>\n    <tr>\n      <th>postcode</th>\n      <th></th>\n    </tr>\n  </thead>\n  <tbody>\n    <tr>\n      <th>21400</th>\n      <td>3</td>\n    </tr>\n    <tr>\n      <th>06010</th>\n      <td>2</td>\n    </tr>\n    <tr>\n      <th>57000</th>\n      <td>2</td>\n    </tr>\n    <tr>\n      <th>81300</th>\n      <td>2</td>\n    </tr>\n    <tr>\n      <th>76100</th>\n      <td>2</td>\n    </tr>\n    <tr>\n      <th>75460</th>\n      <td>2</td>\n    </tr>\n    <tr>\n      <th>72120</th>\n      <td>2</td>\n    </tr>\n    <tr>\n      <th>71800</th>\n      <td>2</td>\n    </tr>\n    <tr>\n      <th>59200</th>\n      <td>2</td>\n    </tr>\n    <tr>\n      <th>53100</th>\n      <td>2</td>\n    </tr>\n    <tr>\n      <th>09130</th>\n      <td>2</td>\n    </tr>\n    <tr>\n      <th>47810</th>\n      <td>2</td>\n    </tr>\n    <tr>\n      <th>46150</th>\n      <td>2</td>\n    </tr>\n    <tr>\n      <th>43300</th>\n      <td>2</td>\n    </tr>\n    <tr>\n      <th>32600</th>\n      <td>2</td>\n    </tr>\n    <tr>\n      <th>24000</th>\n      <td>2</td>\n    </tr>\n    <tr>\n      <th>81550</th>\n      <td>2</td>\n    </tr>\n  </tbody>\n</table>\n</div>"
     },
     "metadata": {}
    },
    {
     "output_type": "stream",
     "name": "stdout",
     "text": [
      "-----\nExample: postcode 21400:\n"
     ]
    },
    {
     "output_type": "display_data",
     "data": {
      "text/plain": "      postcode          district       state                 lat_lon  \\\n4908     21400      Bukit Payong  Terengganu  (5.232199, 103.101954)   \n14255    21400  Kuala Terengganu  Terengganu   (5.337306, 103.13771)   \n61939    21400            Chalok  Terengganu  (5.424328, 102.837014)   \n\n       ppv_region  \n4908   Terengganu  \n14255  Terengganu  \n61939  Terengganu  ",
      "text/html": "<div>\n<style scoped>\n    .dataframe tbody tr th:only-of-type {\n        vertical-align: middle;\n    }\n\n    .dataframe tbody tr th {\n        vertical-align: top;\n    }\n\n    .dataframe thead th {\n        text-align: right;\n    }\n</style>\n<table border=\"1\" class=\"dataframe\">\n  <thead>\n    <tr style=\"text-align: right;\">\n      <th></th>\n      <th>postcode</th>\n      <th>district</th>\n      <th>state</th>\n      <th>lat_lon</th>\n      <th>ppv_region</th>\n    </tr>\n  </thead>\n  <tbody>\n    <tr>\n      <th>4908</th>\n      <td>21400</td>\n      <td>Bukit Payong</td>\n      <td>Terengganu</td>\n      <td>(5.232199, 103.101954)</td>\n      <td>Terengganu</td>\n    </tr>\n    <tr>\n      <th>14255</th>\n      <td>21400</td>\n      <td>Kuala Terengganu</td>\n      <td>Terengganu</td>\n      <td>(5.337306, 103.13771)</td>\n      <td>Terengganu</td>\n    </tr>\n    <tr>\n      <th>61939</th>\n      <td>21400</td>\n      <td>Chalok</td>\n      <td>Terengganu</td>\n      <td>(5.424328, 102.837014)</td>\n      <td>Terengganu</td>\n    </tr>\n  </tbody>\n</table>\n</div>"
     },
     "metadata": {}
    }
   ],
   "source": [
    "# Find all postcodes which have multiple lat_lon coordinates\n",
    "temp = (\n",
    "    df[[\"postcode\", \"lat_lon\"]]\n",
    "    .groupby(\"postcode\")\n",
    "    .count()\n",
    "    .rename(columns={\"lat_lon\": \"num_lat_lon\"})\n",
    ")\n",
    "temp = temp[temp[\"num_lat_lon\"] > 1].sort_values(by=\"num_lat_lon\", ascending=False)\n",
    "display(temp)\n",
    "print(\"-----\")\n",
    "print(\"Example: postcode 21400:\")\n",
    "display(df[df[\"postcode\"] == \"21400\"])"
   ]
  },
  {
   "cell_type": "code",
   "execution_count": 22,
   "metadata": {
    "tags": []
   },
   "outputs": [
    {
     "output_type": "error",
     "ename": "TypeError",
     "evalue": "mean_coord() got an unexpected keyword argument 'axis'",
     "traceback": [
      "\u001b[1;31m---------------------------------------------------------------------------\u001b[0m",
      "\u001b[1;31mTypeError\u001b[0m                                 Traceback (most recent call last)",
      "\u001b[1;32mc:\\Users\\jiannmeng\\src\\mys-postcode-matrix\\.venv\\lib\\site-packages\\pandas\\core\\groupby\\groupby.py\u001b[0m in \u001b[0;36mapply\u001b[1;34m(self, func, *args, **kwargs)\u001b[0m\n\u001b[0;32m    893\u001b[0m             \u001b[1;32mtry\u001b[0m\u001b[1;33m:\u001b[0m\u001b[1;33m\u001b[0m\u001b[1;33m\u001b[0m\u001b[0m\n\u001b[1;32m--> 894\u001b[1;33m                 \u001b[0mresult\u001b[0m \u001b[1;33m=\u001b[0m \u001b[0mself\u001b[0m\u001b[1;33m.\u001b[0m\u001b[0m_python_apply_general\u001b[0m\u001b[1;33m(\u001b[0m\u001b[0mf\u001b[0m\u001b[1;33m,\u001b[0m \u001b[0mself\u001b[0m\u001b[1;33m.\u001b[0m\u001b[0m_selected_obj\u001b[0m\u001b[1;33m)\u001b[0m\u001b[1;33m\u001b[0m\u001b[1;33m\u001b[0m\u001b[0m\n\u001b[0m\u001b[0;32m    895\u001b[0m             \u001b[1;32mexcept\u001b[0m \u001b[0mTypeError\u001b[0m\u001b[1;33m:\u001b[0m\u001b[1;33m\u001b[0m\u001b[1;33m\u001b[0m\u001b[0m\n",
      "\u001b[1;32mc:\\Users\\jiannmeng\\src\\mys-postcode-matrix\\.venv\\lib\\site-packages\\pandas\\core\\groupby\\groupby.py\u001b[0m in \u001b[0;36m_python_apply_general\u001b[1;34m(self, f, data)\u001b[0m\n\u001b[0;32m    927\u001b[0m         \"\"\"\n\u001b[1;32m--> 928\u001b[1;33m         \u001b[0mkeys\u001b[0m\u001b[1;33m,\u001b[0m \u001b[0mvalues\u001b[0m\u001b[1;33m,\u001b[0m \u001b[0mmutated\u001b[0m \u001b[1;33m=\u001b[0m \u001b[0mself\u001b[0m\u001b[1;33m.\u001b[0m\u001b[0mgrouper\u001b[0m\u001b[1;33m.\u001b[0m\u001b[0mapply\u001b[0m\u001b[1;33m(\u001b[0m\u001b[0mf\u001b[0m\u001b[1;33m,\u001b[0m \u001b[0mdata\u001b[0m\u001b[1;33m,\u001b[0m \u001b[0mself\u001b[0m\u001b[1;33m.\u001b[0m\u001b[0maxis\u001b[0m\u001b[1;33m)\u001b[0m\u001b[1;33m\u001b[0m\u001b[1;33m\u001b[0m\u001b[0m\n\u001b[0m\u001b[0;32m    929\u001b[0m \u001b[1;33m\u001b[0m\u001b[0m\n",
      "\u001b[1;32mc:\\Users\\jiannmeng\\src\\mys-postcode-matrix\\.venv\\lib\\site-packages\\pandas\\core\\groupby\\ops.py\u001b[0m in \u001b[0;36mapply\u001b[1;34m(self, f, data, axis)\u001b[0m\n\u001b[0;32m    237\u001b[0m             \u001b[0mgroup_axes\u001b[0m \u001b[1;33m=\u001b[0m \u001b[0mgroup\u001b[0m\u001b[1;33m.\u001b[0m\u001b[0maxes\u001b[0m\u001b[1;33m\u001b[0m\u001b[1;33m\u001b[0m\u001b[0m\n\u001b[1;32m--> 238\u001b[1;33m             \u001b[0mres\u001b[0m \u001b[1;33m=\u001b[0m \u001b[0mf\u001b[0m\u001b[1;33m(\u001b[0m\u001b[0mgroup\u001b[0m\u001b[1;33m)\u001b[0m\u001b[1;33m\u001b[0m\u001b[1;33m\u001b[0m\u001b[0m\n\u001b[0m\u001b[0;32m    239\u001b[0m             \u001b[1;32mif\u001b[0m \u001b[1;32mnot\u001b[0m \u001b[0m_is_indexed_like\u001b[0m\u001b[1;33m(\u001b[0m\u001b[0mres\u001b[0m\u001b[1;33m,\u001b[0m \u001b[0mgroup_axes\u001b[0m\u001b[1;33m,\u001b[0m \u001b[0maxis\u001b[0m\u001b[1;33m)\u001b[0m\u001b[1;33m:\u001b[0m\u001b[1;33m\u001b[0m\u001b[1;33m\u001b[0m\u001b[0m\n",
      "\u001b[1;32mc:\\Users\\jiannmeng\\src\\mys-postcode-matrix\\.venv\\lib\\site-packages\\pandas\\core\\groupby\\groupby.py\u001b[0m in \u001b[0;36mf\u001b[1;34m(g)\u001b[0m\n\u001b[0;32m    877\u001b[0m                     \u001b[1;32mwith\u001b[0m \u001b[0mnp\u001b[0m\u001b[1;33m.\u001b[0m\u001b[0merrstate\u001b[0m\u001b[1;33m(\u001b[0m\u001b[0mall\u001b[0m\u001b[1;33m=\u001b[0m\u001b[1;34m\"ignore\"\u001b[0m\u001b[1;33m)\u001b[0m\u001b[1;33m:\u001b[0m\u001b[1;33m\u001b[0m\u001b[1;33m\u001b[0m\u001b[0m\n\u001b[1;32m--> 878\u001b[1;33m                         \u001b[1;32mreturn\u001b[0m \u001b[0mfunc\u001b[0m\u001b[1;33m(\u001b[0m\u001b[0mg\u001b[0m\u001b[1;33m,\u001b[0m \u001b[1;33m*\u001b[0m\u001b[0margs\u001b[0m\u001b[1;33m,\u001b[0m \u001b[1;33m**\u001b[0m\u001b[0mkwargs\u001b[0m\u001b[1;33m)\u001b[0m\u001b[1;33m\u001b[0m\u001b[1;33m\u001b[0m\u001b[0m\n\u001b[0m\u001b[0;32m    879\u001b[0m \u001b[1;33m\u001b[0m\u001b[0m\n",
      "\u001b[1;31mTypeError\u001b[0m: mean_coord() got an unexpected keyword argument 'axis'",
      "\nDuring handling of the above exception, another exception occurred:\n",
      "\u001b[1;31mTypeError\u001b[0m                                 Traceback (most recent call last)",
      "\u001b[1;32m<ipython-input-22-7c94bb98a760>\u001b[0m in \u001b[0;36m<module>\u001b[1;34m\u001b[0m\n\u001b[0;32m      5\u001b[0m         \u001b[0mprint\u001b[0m\u001b[1;33m(\u001b[0m\u001b[0mlat_lon\u001b[0m\u001b[1;33m)\u001b[0m\u001b[1;33m\u001b[0m\u001b[1;33m\u001b[0m\u001b[0m\n\u001b[0;32m      6\u001b[0m         \u001b[0mprint\u001b[0m\u001b[1;33m(\u001b[0m\u001b[0mmean\u001b[0m\u001b[1;33m(\u001b[0m\u001b[0mlat_lon\u001b[0m\u001b[1;33m)\u001b[0m\u001b[1;33m)\u001b[0m\u001b[1;33m\u001b[0m\u001b[1;33m\u001b[0m\u001b[0m\n\u001b[1;32m----> 7\u001b[1;33m \u001b[0mgb\u001b[0m \u001b[1;33m=\u001b[0m \u001b[0mdf\u001b[0m\u001b[1;33m[\u001b[0m\u001b[1;33m[\u001b[0m\u001b[1;34m\"postcode\"\u001b[0m\u001b[1;33m,\u001b[0m \u001b[1;34m\"lat_lon\"\u001b[0m\u001b[1;33m]\u001b[0m\u001b[1;33m]\u001b[0m\u001b[1;33m.\u001b[0m\u001b[0mgroupby\u001b[0m\u001b[1;33m(\u001b[0m\u001b[1;34m\"postcode\"\u001b[0m\u001b[1;33m)\u001b[0m\u001b[1;33m.\u001b[0m\u001b[0mapply\u001b[0m\u001b[1;33m(\u001b[0m\u001b[0mmean_coord\u001b[0m\u001b[1;33m,\u001b[0m \u001b[0maxis\u001b[0m\u001b[1;33m=\u001b[0m\u001b[1;36m1\u001b[0m\u001b[1;33m)\u001b[0m\u001b[1;33m\u001b[0m\u001b[1;33m\u001b[0m\u001b[0m\n\u001b[0m\u001b[0;32m      8\u001b[0m \u001b[0mdisplay\u001b[0m\u001b[1;33m(\u001b[0m\u001b[0mgb\u001b[0m\u001b[1;33m)\u001b[0m\u001b[1;33m\u001b[0m\u001b[1;33m\u001b[0m\u001b[0m\n\u001b[0;32m      9\u001b[0m \u001b[0mdisplay\u001b[0m\u001b[1;33m(\u001b[0m\u001b[0mdf\u001b[0m\u001b[1;33m[\u001b[0m\u001b[0mdf\u001b[0m\u001b[1;33m[\u001b[0m\u001b[1;34m\"postcode\"\u001b[0m\u001b[1;33m]\u001b[0m \u001b[1;33m==\u001b[0m \u001b[1;34m\"21400\"\u001b[0m\u001b[1;33m]\u001b[0m\u001b[1;33m)\u001b[0m\u001b[1;33m\u001b[0m\u001b[1;33m\u001b[0m\u001b[0m\n",
      "\u001b[1;32mc:\\Users\\jiannmeng\\src\\mys-postcode-matrix\\.venv\\lib\\site-packages\\pandas\\core\\groupby\\groupby.py\u001b[0m in \u001b[0;36mapply\u001b[1;34m(self, func, *args, **kwargs)\u001b[0m\n\u001b[0;32m    903\u001b[0m \u001b[1;33m\u001b[0m\u001b[0m\n\u001b[0;32m    904\u001b[0m                 \u001b[1;32mwith\u001b[0m \u001b[0mgroup_selection_context\u001b[0m\u001b[1;33m(\u001b[0m\u001b[0mself\u001b[0m\u001b[1;33m)\u001b[0m\u001b[1;33m:\u001b[0m\u001b[1;33m\u001b[0m\u001b[1;33m\u001b[0m\u001b[0m\n\u001b[1;32m--> 905\u001b[1;33m                     \u001b[1;32mreturn\u001b[0m \u001b[0mself\u001b[0m\u001b[1;33m.\u001b[0m\u001b[0m_python_apply_general\u001b[0m\u001b[1;33m(\u001b[0m\u001b[0mf\u001b[0m\u001b[1;33m,\u001b[0m \u001b[0mself\u001b[0m\u001b[1;33m.\u001b[0m\u001b[0m_selected_obj\u001b[0m\u001b[1;33m)\u001b[0m\u001b[1;33m\u001b[0m\u001b[1;33m\u001b[0m\u001b[0m\n\u001b[0m\u001b[0;32m    906\u001b[0m \u001b[1;33m\u001b[0m\u001b[0m\n\u001b[0;32m    907\u001b[0m         \u001b[1;32mreturn\u001b[0m \u001b[0mresult\u001b[0m\u001b[1;33m\u001b[0m\u001b[1;33m\u001b[0m\u001b[0m\n",
      "\u001b[1;32mc:\\Users\\jiannmeng\\src\\mys-postcode-matrix\\.venv\\lib\\site-packages\\pandas\\core\\groupby\\groupby.py\u001b[0m in \u001b[0;36m_python_apply_general\u001b[1;34m(self, f, data)\u001b[0m\n\u001b[0;32m    926\u001b[0m             \u001b[0mdata\u001b[0m \u001b[0mafter\u001b[0m \u001b[0mapplying\u001b[0m \u001b[0mf\u001b[0m\u001b[1;33m\u001b[0m\u001b[1;33m\u001b[0m\u001b[0m\n\u001b[0;32m    927\u001b[0m         \"\"\"\n\u001b[1;32m--> 928\u001b[1;33m         \u001b[0mkeys\u001b[0m\u001b[1;33m,\u001b[0m \u001b[0mvalues\u001b[0m\u001b[1;33m,\u001b[0m \u001b[0mmutated\u001b[0m \u001b[1;33m=\u001b[0m \u001b[0mself\u001b[0m\u001b[1;33m.\u001b[0m\u001b[0mgrouper\u001b[0m\u001b[1;33m.\u001b[0m\u001b[0mapply\u001b[0m\u001b[1;33m(\u001b[0m\u001b[0mf\u001b[0m\u001b[1;33m,\u001b[0m \u001b[0mdata\u001b[0m\u001b[1;33m,\u001b[0m \u001b[0mself\u001b[0m\u001b[1;33m.\u001b[0m\u001b[0maxis\u001b[0m\u001b[1;33m)\u001b[0m\u001b[1;33m\u001b[0m\u001b[1;33m\u001b[0m\u001b[0m\n\u001b[0m\u001b[0;32m    929\u001b[0m \u001b[1;33m\u001b[0m\u001b[0m\n\u001b[0;32m    930\u001b[0m         return self._wrap_applied_output(\n",
      "\u001b[1;32mc:\\Users\\jiannmeng\\src\\mys-postcode-matrix\\.venv\\lib\\site-packages\\pandas\\core\\groupby\\ops.py\u001b[0m in \u001b[0;36mapply\u001b[1;34m(self, f, data, axis)\u001b[0m\n\u001b[0;32m    236\u001b[0m             \u001b[1;31m# group might be modified\u001b[0m\u001b[1;33m\u001b[0m\u001b[1;33m\u001b[0m\u001b[1;33m\u001b[0m\u001b[0m\n\u001b[0;32m    237\u001b[0m             \u001b[0mgroup_axes\u001b[0m \u001b[1;33m=\u001b[0m \u001b[0mgroup\u001b[0m\u001b[1;33m.\u001b[0m\u001b[0maxes\u001b[0m\u001b[1;33m\u001b[0m\u001b[1;33m\u001b[0m\u001b[0m\n\u001b[1;32m--> 238\u001b[1;33m             \u001b[0mres\u001b[0m \u001b[1;33m=\u001b[0m \u001b[0mf\u001b[0m\u001b[1;33m(\u001b[0m\u001b[0mgroup\u001b[0m\u001b[1;33m)\u001b[0m\u001b[1;33m\u001b[0m\u001b[1;33m\u001b[0m\u001b[0m\n\u001b[0m\u001b[0;32m    239\u001b[0m             \u001b[1;32mif\u001b[0m \u001b[1;32mnot\u001b[0m \u001b[0m_is_indexed_like\u001b[0m\u001b[1;33m(\u001b[0m\u001b[0mres\u001b[0m\u001b[1;33m,\u001b[0m \u001b[0mgroup_axes\u001b[0m\u001b[1;33m,\u001b[0m \u001b[0maxis\u001b[0m\u001b[1;33m)\u001b[0m\u001b[1;33m:\u001b[0m\u001b[1;33m\u001b[0m\u001b[1;33m\u001b[0m\u001b[0m\n\u001b[0;32m    240\u001b[0m                 \u001b[0mmutated\u001b[0m \u001b[1;33m=\u001b[0m \u001b[1;32mTrue\u001b[0m\u001b[1;33m\u001b[0m\u001b[1;33m\u001b[0m\u001b[0m\n",
      "\u001b[1;32mc:\\Users\\jiannmeng\\src\\mys-postcode-matrix\\.venv\\lib\\site-packages\\pandas\\core\\groupby\\groupby.py\u001b[0m in \u001b[0;36mf\u001b[1;34m(g)\u001b[0m\n\u001b[0;32m    876\u001b[0m                 \u001b[1;32mdef\u001b[0m \u001b[0mf\u001b[0m\u001b[1;33m(\u001b[0m\u001b[0mg\u001b[0m\u001b[1;33m)\u001b[0m\u001b[1;33m:\u001b[0m\u001b[1;33m\u001b[0m\u001b[1;33m\u001b[0m\u001b[0m\n\u001b[0;32m    877\u001b[0m                     \u001b[1;32mwith\u001b[0m \u001b[0mnp\u001b[0m\u001b[1;33m.\u001b[0m\u001b[0merrstate\u001b[0m\u001b[1;33m(\u001b[0m\u001b[0mall\u001b[0m\u001b[1;33m=\u001b[0m\u001b[1;34m\"ignore\"\u001b[0m\u001b[1;33m)\u001b[0m\u001b[1;33m:\u001b[0m\u001b[1;33m\u001b[0m\u001b[1;33m\u001b[0m\u001b[0m\n\u001b[1;32m--> 878\u001b[1;33m                         \u001b[1;32mreturn\u001b[0m \u001b[0mfunc\u001b[0m\u001b[1;33m(\u001b[0m\u001b[0mg\u001b[0m\u001b[1;33m,\u001b[0m \u001b[1;33m*\u001b[0m\u001b[0margs\u001b[0m\u001b[1;33m,\u001b[0m \u001b[1;33m**\u001b[0m\u001b[0mkwargs\u001b[0m\u001b[1;33m)\u001b[0m\u001b[1;33m\u001b[0m\u001b[1;33m\u001b[0m\u001b[0m\n\u001b[0m\u001b[0;32m    879\u001b[0m \u001b[1;33m\u001b[0m\u001b[0m\n\u001b[0;32m    880\u001b[0m             \u001b[1;32melif\u001b[0m \u001b[0mhasattr\u001b[0m\u001b[1;33m(\u001b[0m\u001b[0mnanops\u001b[0m\u001b[1;33m,\u001b[0m \u001b[1;34m\"nan\"\u001b[0m \u001b[1;33m+\u001b[0m \u001b[0mfunc\u001b[0m\u001b[1;33m)\u001b[0m\u001b[1;33m:\u001b[0m\u001b[1;33m\u001b[0m\u001b[1;33m\u001b[0m\u001b[0m\n",
      "\u001b[1;31mTypeError\u001b[0m: mean_coord() got an unexpected keyword argument 'axis'"
     ]
    }
   ],
   "source": [
    "# Pick the smallest coordinates (tuple comparison always compares latitude first)\n",
    "def mean_coord(data, **kwargs):\n",
    "    lat_lon = data[\"lat_lon\"]\n",
    "    if len(lat_lon) > 1:\n",
    "        print(lat_lon)\n",
    "        print(mean(lat_lon))\n",
    "gb = df[[\"postcode\", \"lat_lon\"]].groupby(\"postcode\").apply(mean_coord, axis=1)\n",
    "display(gb)\n",
    "display(df[df[\"postcode\"] == \"21400\"])\n",
    "# Change above to np.mean for the average position instead"
   ]
  },
  {
   "cell_type": "code",
   "execution_count": null,
   "metadata": {},
   "outputs": [],
   "source": [
    "# Create mapping of all postcodes to their master postcode\n",
    "\n",
    "# Master postcode is the postcode with the most zeroes at the end. Break ties (e.g. 50000, 60000) by picking the smaller number.\n",
    "def master_postcode_sort(postcode: str):\n",
    "    return (postcode_level(postcode), int(postcode))\n",
    "\n",
    "def master_postcode_agg(series):\n",
    "    postcodes = series.to_list()\n",
    "    return min(postcodes, key=master_postcode_sort)\n",
    "\n",
    "df[\"master_postcode\"] = (\n",
    "    df[[\"postcode\", \"lat_lon\"]].\n",
    "    groupby([\"lat_lon\"]).\n",
    "    transform(master_postcode_agg)\n",
    ")\n",
    "display(df.head())\n"
   ]
  },
  {
   "cell_type": "code",
   "execution_count": null,
   "metadata": {},
   "outputs": [],
   "source": [
    "# dataframe_postcodes\n",
    "df_pc = df[\n",
    "    [\"postcode\", \"master_postcode\", \"state\", \"ppv_region\", \"lat_lon\"]\n",
    "].drop_duplicates()\n",
    "\n",
    "display(df_pc)"
   ]
  },
  {
   "cell_type": "code",
   "execution_count": null,
   "metadata": {},
   "outputs": [],
   "source": [
    "# dataframe_masterpostcodes\n",
    "# Sort by region for nicer matrix later.\n",
    "df_mpc = df_pc.drop(columns=\"postcode\").drop_duplicates()\n",
    "df_mpc = df_mpc.sort_values(by=[\"ppv_region\", \"master_postcode\"]) \n",
    "\n",
    "display(df_mpc)"
   ]
  },
  {
   "cell_type": "code",
   "execution_count": null,
   "metadata": {},
   "outputs": [],
   "source": [
    "# A list of dicts containing all valid master postcode pairings, to be converted to csv later.\n",
    "mpc_pairs = []\n",
    "\n",
    "# Generate distance matrix.\n",
    "pc_labels = [(x, y) for (x, y) in zip(df_mpc[\"ppv_region\"], df_mpc[\"master_postcode\"])]\n",
    "master_lat_lon = {x: y for (x, y) in zip(df_mpc[\"master_postcode\"], df_mpc[\"lat_lon\"])}\n",
    "\n",
    "# dataframe_matrix\n",
    "df_mat = pd.DataFrame(\n",
    "    pd.NA, \n",
    "    index=pd.MultiIndex.from_tuples(pc_labels), \n",
    "    columns=pd.MultiIndex.from_tuples(pc_labels),\n",
    ")  # type: ignore\n",
    "\n",
    "# Diagonals are zero distance\n",
    "for tup in pc_labels:\n",
    "    df_mat.loc[tup, tup] = 0\n",
    "\n",
    "# Off-diagonals, calculate the haversine distance.\n",
    "for tup1, tup2 in combinations(pc_labels, 2):\n",
    "    ppv1, mpc1 = tup1\n",
    "    ppv2, mpc2 = tup2\n",
    "    if ppv1 == ppv2:\n",
    "        if mpc1 == mpc2:\n",
    "            df_mat.loc[tup1, tup2] = 0\n",
    "        else:\n",
    "            lat1, lon1 = master_lat_lon[mpc1]\n",
    "            lat2, lon2 = master_lat_lon[mpc2]\n",
    "            distance = haversine_km(lat1, lon1, lat2, lon2)\n",
    "            df_mat.loc[tup1, tup2] = distance\n",
    "            df_mat.loc[tup2, tup1] = distance  # reflect across the diagonal\n",
    "            # This is a valid pair, so add it to the list.\n",
    "            mpc_pairs.append({\n",
    "                \"ppv_region\": ppv1,\n",
    "                \"master_postcode_1\": mpc1,\n",
    "                \"latitude_1\": lat1,\n",
    "                \"longitude_1\": lon1,\n",
    "                \"master_postcode_2\": mpc2,\n",
    "                \"latitude_2\": lat2,\n",
    "                \"longitude_2\": lon2, \n",
    "            })\n"
   ]
  },
  {
   "cell_type": "code",
   "execution_count": null,
   "metadata": {},
   "outputs": [],
   "source": [
    "# Save to Excel sheets:\n",
    "with pd.ExcelWriter(\"./output/postcode_output.xlsx\") as writer:\n",
    "    df_pc.to_excel(writer, sheet_name=\"Postcodes\")\n",
    "    df_mpc.to_excel(writer, sheet_name=\"Master Postcodes\")\n",
    "    df_mat.to_excel(writer, sheet_name=\"Master Postcode Distance Matrix\")\n",
    "\n",
    "# Save the master postcode pairs as a csv\n",
    "with open(\"./output/mpc_pairs.csv\", mode=\"w\", newline='') as fp:\n",
    "    writer = csv.DictWriter(fp, fieldnames=mpc_pairs[0].keys())\n",
    "    writer.writeheader()\n",
    "    for pair in mpc_pairs:\n",
    "        writer.writerow(pair)\n",
    "\n"
   ]
  },
  {
   "cell_type": "code",
   "execution_count": null,
   "metadata": {},
   "outputs": [],
   "source": [
    "with open(\"./output/distance_matrix.pickle\", mode=\"wb\") as fp:\n",
    "    pickle.dump(df_mat, fp)"
   ]
  },
  {
   "cell_type": "code",
   "execution_count": null,
   "metadata": {},
   "outputs": [],
   "source": [
    "num = len(mpc_pairs)\n",
    "print(f\"There are a total of {num} valid master postcode pairs.\")\n",
    "print(f\"Total cost in Maps API: USD{num * 0.005:2g}.\")\n",
    "print(\"-----\")\n",
    "print(f\"You can find the data output files in the `output` folder.\")\n"
   ]
  }
 ]
}
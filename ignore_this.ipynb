{
 "metadata": {
  "language_info": {
   "codemirror_mode": {
    "name": "ipython",
    "version": 3
   },
   "file_extension": ".py",
   "mimetype": "text/x-python",
   "name": "python",
   "nbconvert_exporter": "python",
   "pygments_lexer": "ipython3",
   "version": "3.9.5"
  },
  "orig_nbformat": 2,
  "kernelspec": {
   "name": "pythonjvsc74a57bd06746b22b0f0f54490f6784a0eb5adc84d4ae68eb19dc466f98fd8a941d2e2968",
   "display_name": "Python 3.9.5  ('.venv': venv)"
  },
  "metadata": {
   "interpreter": {
    "hash": "6746b22b0f0f54490f6784a0eb5adc84d4ae68eb19dc466f98fd8a941d2e2968"
   }
  }
 },
 "nbformat": 4,
 "nbformat_minor": 2,
 "cells": [
  {
   "cell_type": "code",
   "execution_count": 12,
   "metadata": {},
   "outputs": [],
   "source": [
    "import googlemaps\n",
    "import pandas as pd\n",
    "import numpy as np\n",
    "import csv\n",
    "from src.utils import get_api_key, chunks\n",
    "from collections import namedtuple\n",
    "from functools import reduce\n",
    "from pprint import pprint\n",
    "import json"
   ]
  },
  {
   "cell_type": "code",
   "execution_count": 13,
   "metadata": {
    "tags": []
   },
   "outputs": [
    {
     "output_type": "stream",
     "name": "stdout",
     "text": [
      "Number of postcodes in each mpc_region:\nJohor 52\nKedah 33\nKelantan 21\nMelaka 15\nNegeri Sembilan 25\nPahang 37\nPerak 65\nPerlis 6\nPulau Pinang 22\nSabah 32\nSarawak 45\nSelangor/KL/Putrajaya 48\nTerengganu 21\n-----\nTotal postcodes: 422\n[[MpcData(ppv_region='Kelantan', mpc='15000', lat='6.121666', lon='102.239932'),\n  MpcData(ppv_region='Kelantan', mpc='16040', lat='6.121897', lon='102.202192'),\n  MpcData(ppv_region='Kelantan', mpc='16200', lat='6.197963', lon='102.169468'),\n  MpcData(ppv_region='Kelantan', mpc='16300', lat='6.057671', lon='102.399878'),\n  MpcData(ppv_region='Kelantan', mpc='16400', lat='5.967122', lon='102.295417'),\n  MpcData(ppv_region='Kelantan', mpc='16450', lat='5.95956', lon='102.250549'),\n  MpcData(ppv_region='Kelantan', mpc='16500', lat='5.89941944', lon='102.232883'),\n  MpcData(ppv_region='Kelantan', mpc='16600', lat='5.87232927', lon='102.23266766'),\n  MpcData(ppv_region='Kelantan', mpc='16700', lat='5.864271', lon='102.489078'),\n  MpcData(ppv_region='Kelantan', mpc='16800', lat='5.83605', lon='102.406514')],\n [MpcData(ppv_region='Kelantan', mpc='16810', lat='5.895012', lon='102.334539'),\n  MpcData(ppv_region='Kelantan', mpc='17000', lat='6.042556', lon='102.144889'),\n  MpcData(ppv_region='Kelantan', mpc='17200', lat='5.241026', lon='100.731474'),\n  MpcData(ppv_region='Kelantan', mpc='17500', lat='5.80384', lon='102.147149'),\n  MpcData(ppv_region='Kelantan', mpc='17600', lat='5.693119', lon='101.847599'),\n  MpcData(ppv_region='Kelantan', mpc='17700', lat='5.778147', lon='101.887721'),\n  MpcData(ppv_region='Kelantan', mpc='18000', lat='5.542867', lon='102.203406'),\n  MpcData(ppv_region='Kelantan', mpc='18200', lat='5.445865', lon='101.912219'),\n  MpcData(ppv_region='Kelantan', mpc='18300', lat='4.881626', lon='101.964755'),\n  MpcData(ppv_region='Kelantan', mpc='18400', lat='5.704387', lon='102.151868')],\n [MpcData(ppv_region='Kelantan', mpc='18500', lat='5.765138', lon='102.217221')]]\n"
     ]
    }
   ],
   "source": [
    "MpcData = namedtuple(\"MpcData\", \"ppv_region, mpc, lat, lon\")\n",
    "\n",
    "with open(\"./output/mpc_pairs.csv\") as fp:\n",
    "    mpc_pairs = list(csv.DictReader(fp))\n",
    "# mpc_batch = list(chunks(mpc_pairs, 20))\n",
    "# print(f\"Number of batches: {len(mpc_batch)}\")\n",
    "# print(\"Batch sizes:\")\n",
    "# for batch in mpc_batch:\n",
    "#     print(len(batch), end=\", \")\n",
    "mpc_regions = dict()\n",
    "for item in mpc_pairs:\n",
    "    # Use sets to remove duplicates\n",
    "    region_set = mpc_regions.get(item[\"ppv_region\"], set())\n",
    "    region_set.add(MpcData(\n",
    "        ppv_region=item[\"ppv_region\"], \n",
    "        mpc=item[\"master_postcode_1\"],\n",
    "        lat=item[\"latitude_1\"],\n",
    "        lon=item[\"longitude_1\"])\n",
    "    )\n",
    "    region_set.add(MpcData(\n",
    "        ppv_region=item[\"ppv_region\"], \n",
    "        mpc=item[\"master_postcode_2\"],\n",
    "        lat=item[\"latitude_2\"],\n",
    "        lon=item[\"longitude_2\"])\n",
    "    )\n",
    "    mpc_regions[item[\"ppv_region\"]] = region_set\n",
    "\n",
    "\n",
    "print(\"Number of postcodes in each mpc_region:\")\n",
    "for k, v in mpc_regions.items():\n",
    "    mpc_regions[k] = sorted(v) # each region is now a sorted list of MpcDatas\n",
    "    print(k, len(v))\n",
    "print(\"-----\")\n",
    "print(f\"Total postcodes: {sum(map(len, mpc_regions.values()))}\")\n",
    "\n",
    "# Batch into sets of 10 for each state.\n",
    "for k, v in mpc_regions.items():\n",
    "    mpc_regions[k] = list(chunks(v, 10))\n",
    "pprint(mpc_regions[\"Kelantan\"])"
   ]
  },
  {
   "cell_type": "code",
   "execution_count": 14,
   "metadata": {},
   "outputs": [],
   "source": [
    "# Sample data; comment out if doing for real.\n",
    "mpc_regions = [\n",
    "    [\n",
    "        MpcData(ppv_region='Kelantan', mpc='15000', lat='6.121666', lon='102.239932'),\n",
    "        MpcData(ppv_region='Kelantan', mpc='16040', lat='6.121897', lon='102.202192'),\n",
    "    ],\n",
    "    [\n",
    "        MpcData(ppv_region='Kelantan', mpc='16810', lat='5.895012', lon='102.334539'),\n",
    "        MpcData(ppv_region='Kelantan', mpc='17000', lat='6.042556', lon='102.144889'),\n",
    "    ],\n",
    "]\n",
    "\n",
    "SKIP = True\n",
    "if not SKIP:\n",
    "    gmaps = googlemaps.Client(key=get_api_key())\n",
    "    responses = []\n",
    "    ts = now()\n",
    "    with open(f\"./responses/distance-matrix-{ts}.json\", mode=\"a\") as fp:\n",
    "        for batch in mpc_regions:\n",
    "            coords = [f\"{lat},{lon}\" for mpc_data in batch] # coordinates separated by comma, no spaces\n",
    "            try:\n",
    "                response = gmaps.distance_matrix(coords, coords)\n",
    "                print(response)\n",
    "            except Exception as exc:\n",
    "                print(exc)\n",
    "            responses.append(response)\n",
    "        json.dump(responses, fp)"
   ]
  },
  {
   "cell_type": "code",
   "execution_count": 15,
   "metadata": {},
   "outputs": [
    {
     "output_type": "stream",
     "name": "stdout",
     "text": [
      "[[[0, 605], [535, 0]], [[0, 2558], [2597, 0]]]\n"
     ]
    }
   ],
   "source": [
    "# with open(f\"./responses/distance-matrix-{ts}.json\") as fp:\n",
    "with open(\"./responses/distance-matrix-20210604-234351.json\") as fp:\n",
    "    responses = json.load(fp)\n",
    "\n",
    "# Flatten the response - we only want rows.elements.duration.value (in seconds).\n",
    "# duration will be a list of lists; the inner list correspond to a batch.\n",
    "data = []\n",
    "for batch in responses:\n",
    "    data2 = []\n",
    "    rows = batch[\"rows\"]\n",
    "    for item in rows:\n",
    "        data3 = []\n",
    "        elements = item[\"elements\"]\n",
    "        for ele in elements:\n",
    "            data3.append(ele[\"duration\"][\"value\"])\n",
    "        data2.append(data3)\n",
    "    data.append(data2)\n",
    "pprint(data)"
   ]
  },
  {
   "cell_type": "code",
   "execution_count": 30,
   "metadata": {},
   "outputs": [
    {
     "output_type": "error",
     "ename": "ValueError",
     "evalue": "Cannot convert non-finite values (NA or inf) to integer",
     "traceback": [
      "\u001b[1;31m---------------------------------------------------------------------------\u001b[0m",
      "\u001b[1;31mValueError\u001b[0m                                Traceback (most recent call last)",
      "\u001b[1;32m<ipython-input-30-6c27e87f29fb>\u001b[0m in \u001b[0;36m<module>\u001b[1;34m\u001b[0m\n\u001b[0;32m      6\u001b[0m     \u001b[0mheader\u001b[0m\u001b[1;33m=\u001b[0m\u001b[1;33m[\u001b[0m\u001b[1;36m0\u001b[0m\u001b[1;33m,\u001b[0m \u001b[1;36m1\u001b[0m\u001b[1;33m]\u001b[0m\u001b[1;33m,\u001b[0m\u001b[1;33m\u001b[0m\u001b[1;33m\u001b[0m\u001b[0m\n\u001b[0;32m      7\u001b[0m     index_col=[0, 1])\n\u001b[1;32m----> 8\u001b[1;33m \u001b[0mdf_mat\u001b[0m \u001b[1;33m=\u001b[0m \u001b[0mdf_mat\u001b[0m\u001b[1;33m.\u001b[0m\u001b[0mapplymap\u001b[0m\u001b[1;33m(\u001b[0m\u001b[1;32mlambda\u001b[0m \u001b[0mx\u001b[0m\u001b[1;33m:\u001b[0m \u001b[1;36m0\u001b[0m\u001b[1;33m,\u001b[0m \u001b[0mna_action\u001b[0m\u001b[1;33m=\u001b[0m\u001b[1;34m\"ignore\"\u001b[0m\u001b[1;33m)\u001b[0m\u001b[1;33m.\u001b[0m\u001b[0mastype\u001b[0m\u001b[1;33m(\u001b[0m\u001b[0mint\u001b[0m\u001b[1;33m)\u001b[0m\u001b[1;33m\u001b[0m\u001b[1;33m\u001b[0m\u001b[0m\n\u001b[0m\u001b[0;32m      9\u001b[0m \u001b[0mdisplay\u001b[0m\u001b[1;33m(\u001b[0m\u001b[0mdf_mat\u001b[0m\u001b[1;33m)\u001b[0m\u001b[1;33m\u001b[0m\u001b[1;33m\u001b[0m\u001b[0m\n",
      "\u001b[1;32mc:\\Users\\jiannmeng\\src\\postcodeproject\\.venv\\lib\\site-packages\\pandas\\core\\generic.py\u001b[0m in \u001b[0;36mastype\u001b[1;34m(self, dtype, copy, errors)\u001b[0m\n\u001b[0;32m   5875\u001b[0m         \u001b[1;32melse\u001b[0m\u001b[1;33m:\u001b[0m\u001b[1;33m\u001b[0m\u001b[1;33m\u001b[0m\u001b[0m\n\u001b[0;32m   5876\u001b[0m             \u001b[1;31m# else, only a single dtype is given\u001b[0m\u001b[1;33m\u001b[0m\u001b[1;33m\u001b[0m\u001b[1;33m\u001b[0m\u001b[0m\n\u001b[1;32m-> 5877\u001b[1;33m             \u001b[0mnew_data\u001b[0m \u001b[1;33m=\u001b[0m \u001b[0mself\u001b[0m\u001b[1;33m.\u001b[0m\u001b[0m_mgr\u001b[0m\u001b[1;33m.\u001b[0m\u001b[0mastype\u001b[0m\u001b[1;33m(\u001b[0m\u001b[0mdtype\u001b[0m\u001b[1;33m=\u001b[0m\u001b[0mdtype\u001b[0m\u001b[1;33m,\u001b[0m \u001b[0mcopy\u001b[0m\u001b[1;33m=\u001b[0m\u001b[0mcopy\u001b[0m\u001b[1;33m,\u001b[0m \u001b[0merrors\u001b[0m\u001b[1;33m=\u001b[0m\u001b[0merrors\u001b[0m\u001b[1;33m)\u001b[0m\u001b[1;33m\u001b[0m\u001b[1;33m\u001b[0m\u001b[0m\n\u001b[0m\u001b[0;32m   5878\u001b[0m             \u001b[1;32mreturn\u001b[0m \u001b[0mself\u001b[0m\u001b[1;33m.\u001b[0m\u001b[0m_constructor\u001b[0m\u001b[1;33m(\u001b[0m\u001b[0mnew_data\u001b[0m\u001b[1;33m)\u001b[0m\u001b[1;33m.\u001b[0m\u001b[0m__finalize__\u001b[0m\u001b[1;33m(\u001b[0m\u001b[0mself\u001b[0m\u001b[1;33m,\u001b[0m \u001b[0mmethod\u001b[0m\u001b[1;33m=\u001b[0m\u001b[1;34m\"astype\"\u001b[0m\u001b[1;33m)\u001b[0m\u001b[1;33m\u001b[0m\u001b[1;33m\u001b[0m\u001b[0m\n\u001b[0;32m   5879\u001b[0m \u001b[1;33m\u001b[0m\u001b[0m\n",
      "\u001b[1;32mc:\\Users\\jiannmeng\\src\\postcodeproject\\.venv\\lib\\site-packages\\pandas\\core\\internals\\managers.py\u001b[0m in \u001b[0;36mastype\u001b[1;34m(self, dtype, copy, errors)\u001b[0m\n\u001b[0;32m    629\u001b[0m         \u001b[0mself\u001b[0m\u001b[1;33m,\u001b[0m \u001b[0mdtype\u001b[0m\u001b[1;33m,\u001b[0m \u001b[0mcopy\u001b[0m\u001b[1;33m:\u001b[0m \u001b[0mbool\u001b[0m \u001b[1;33m=\u001b[0m \u001b[1;32mFalse\u001b[0m\u001b[1;33m,\u001b[0m \u001b[0merrors\u001b[0m\u001b[1;33m:\u001b[0m \u001b[0mstr\u001b[0m \u001b[1;33m=\u001b[0m \u001b[1;34m\"raise\"\u001b[0m\u001b[1;33m\u001b[0m\u001b[1;33m\u001b[0m\u001b[0m\n\u001b[0;32m    630\u001b[0m     ) -> \"BlockManager\":\n\u001b[1;32m--> 631\u001b[1;33m         \u001b[1;32mreturn\u001b[0m \u001b[0mself\u001b[0m\u001b[1;33m.\u001b[0m\u001b[0mapply\u001b[0m\u001b[1;33m(\u001b[0m\u001b[1;34m\"astype\"\u001b[0m\u001b[1;33m,\u001b[0m \u001b[0mdtype\u001b[0m\u001b[1;33m=\u001b[0m\u001b[0mdtype\u001b[0m\u001b[1;33m,\u001b[0m \u001b[0mcopy\u001b[0m\u001b[1;33m=\u001b[0m\u001b[0mcopy\u001b[0m\u001b[1;33m,\u001b[0m \u001b[0merrors\u001b[0m\u001b[1;33m=\u001b[0m\u001b[0merrors\u001b[0m\u001b[1;33m)\u001b[0m\u001b[1;33m\u001b[0m\u001b[1;33m\u001b[0m\u001b[0m\n\u001b[0m\u001b[0;32m    632\u001b[0m \u001b[1;33m\u001b[0m\u001b[0m\n\u001b[0;32m    633\u001b[0m     def convert(\n",
      "\u001b[1;32mc:\\Users\\jiannmeng\\src\\postcodeproject\\.venv\\lib\\site-packages\\pandas\\core\\internals\\managers.py\u001b[0m in \u001b[0;36mapply\u001b[1;34m(self, f, align_keys, ignore_failures, **kwargs)\u001b[0m\n\u001b[0;32m    425\u001b[0m                     \u001b[0mapplied\u001b[0m \u001b[1;33m=\u001b[0m \u001b[0mb\u001b[0m\u001b[1;33m.\u001b[0m\u001b[0mapply\u001b[0m\u001b[1;33m(\u001b[0m\u001b[0mf\u001b[0m\u001b[1;33m,\u001b[0m \u001b[1;33m**\u001b[0m\u001b[0mkwargs\u001b[0m\u001b[1;33m)\u001b[0m\u001b[1;33m\u001b[0m\u001b[1;33m\u001b[0m\u001b[0m\n\u001b[0;32m    426\u001b[0m                 \u001b[1;32melse\u001b[0m\u001b[1;33m:\u001b[0m\u001b[1;33m\u001b[0m\u001b[1;33m\u001b[0m\u001b[0m\n\u001b[1;32m--> 427\u001b[1;33m                     \u001b[0mapplied\u001b[0m \u001b[1;33m=\u001b[0m \u001b[0mgetattr\u001b[0m\u001b[1;33m(\u001b[0m\u001b[0mb\u001b[0m\u001b[1;33m,\u001b[0m \u001b[0mf\u001b[0m\u001b[1;33m)\u001b[0m\u001b[1;33m(\u001b[0m\u001b[1;33m**\u001b[0m\u001b[0mkwargs\u001b[0m\u001b[1;33m)\u001b[0m\u001b[1;33m\u001b[0m\u001b[1;33m\u001b[0m\u001b[0m\n\u001b[0m\u001b[0;32m    428\u001b[0m             \u001b[1;32mexcept\u001b[0m \u001b[1;33m(\u001b[0m\u001b[0mTypeError\u001b[0m\u001b[1;33m,\u001b[0m \u001b[0mNotImplementedError\u001b[0m\u001b[1;33m)\u001b[0m\u001b[1;33m:\u001b[0m\u001b[1;33m\u001b[0m\u001b[1;33m\u001b[0m\u001b[0m\n\u001b[0;32m    429\u001b[0m                 \u001b[1;32mif\u001b[0m \u001b[1;32mnot\u001b[0m \u001b[0mignore_failures\u001b[0m\u001b[1;33m:\u001b[0m\u001b[1;33m\u001b[0m\u001b[1;33m\u001b[0m\u001b[0m\n",
      "\u001b[1;32mc:\\Users\\jiannmeng\\src\\postcodeproject\\.venv\\lib\\site-packages\\pandas\\core\\internals\\blocks.py\u001b[0m in \u001b[0;36mastype\u001b[1;34m(self, dtype, copy, errors)\u001b[0m\n\u001b[0;32m    671\u001b[0m             \u001b[0mvals1d\u001b[0m \u001b[1;33m=\u001b[0m \u001b[0mvalues\u001b[0m\u001b[1;33m.\u001b[0m\u001b[0mravel\u001b[0m\u001b[1;33m(\u001b[0m\u001b[1;33m)\u001b[0m\u001b[1;33m\u001b[0m\u001b[1;33m\u001b[0m\u001b[0m\n\u001b[0;32m    672\u001b[0m             \u001b[1;32mtry\u001b[0m\u001b[1;33m:\u001b[0m\u001b[1;33m\u001b[0m\u001b[1;33m\u001b[0m\u001b[0m\n\u001b[1;32m--> 673\u001b[1;33m                 \u001b[0mvalues\u001b[0m \u001b[1;33m=\u001b[0m \u001b[0mastype_nansafe\u001b[0m\u001b[1;33m(\u001b[0m\u001b[0mvals1d\u001b[0m\u001b[1;33m,\u001b[0m \u001b[0mdtype\u001b[0m\u001b[1;33m,\u001b[0m \u001b[0mcopy\u001b[0m\u001b[1;33m=\u001b[0m\u001b[1;32mTrue\u001b[0m\u001b[1;33m)\u001b[0m\u001b[1;33m\u001b[0m\u001b[1;33m\u001b[0m\u001b[0m\n\u001b[0m\u001b[0;32m    674\u001b[0m             \u001b[1;32mexcept\u001b[0m \u001b[1;33m(\u001b[0m\u001b[0mValueError\u001b[0m\u001b[1;33m,\u001b[0m \u001b[0mTypeError\u001b[0m\u001b[1;33m)\u001b[0m\u001b[1;33m:\u001b[0m\u001b[1;33m\u001b[0m\u001b[1;33m\u001b[0m\u001b[0m\n\u001b[0;32m    675\u001b[0m                 \u001b[1;31m# e.g. astype_nansafe can fail on object-dtype of strings\u001b[0m\u001b[1;33m\u001b[0m\u001b[1;33m\u001b[0m\u001b[1;33m\u001b[0m\u001b[0m\n",
      "\u001b[1;32mc:\\Users\\jiannmeng\\src\\postcodeproject\\.venv\\lib\\site-packages\\pandas\\core\\dtypes\\cast.py\u001b[0m in \u001b[0;36mastype_nansafe\u001b[1;34m(arr, dtype, copy, skipna)\u001b[0m\n\u001b[0;32m   1066\u001b[0m \u001b[1;33m\u001b[0m\u001b[0m\n\u001b[0;32m   1067\u001b[0m         \u001b[1;32mif\u001b[0m \u001b[1;32mnot\u001b[0m \u001b[0mnp\u001b[0m\u001b[1;33m.\u001b[0m\u001b[0misfinite\u001b[0m\u001b[1;33m(\u001b[0m\u001b[0marr\u001b[0m\u001b[1;33m)\u001b[0m\u001b[1;33m.\u001b[0m\u001b[0mall\u001b[0m\u001b[1;33m(\u001b[0m\u001b[1;33m)\u001b[0m\u001b[1;33m:\u001b[0m\u001b[1;33m\u001b[0m\u001b[1;33m\u001b[0m\u001b[0m\n\u001b[1;32m-> 1068\u001b[1;33m             \u001b[1;32mraise\u001b[0m \u001b[0mValueError\u001b[0m\u001b[1;33m(\u001b[0m\u001b[1;34m\"Cannot convert non-finite values (NA or inf) to integer\"\u001b[0m\u001b[1;33m)\u001b[0m\u001b[1;33m\u001b[0m\u001b[1;33m\u001b[0m\u001b[0m\n\u001b[0m\u001b[0;32m   1069\u001b[0m \u001b[1;33m\u001b[0m\u001b[0m\n\u001b[0;32m   1070\u001b[0m     \u001b[1;32melif\u001b[0m \u001b[0mis_object_dtype\u001b[0m\u001b[1;33m(\u001b[0m\u001b[0marr\u001b[0m\u001b[1;33m)\u001b[0m\u001b[1;33m:\u001b[0m\u001b[1;33m\u001b[0m\u001b[1;33m\u001b[0m\u001b[0m\n",
      "\u001b[1;31mValueError\u001b[0m: Cannot convert non-finite values (NA or inf) to integer"
     ]
    }
   ],
   "source": [
    "# time matrix\n",
    "# lets reuse the distance matrix\n",
    "df_mat = pd.read_excel(\n",
    "    \"./output/postcode_output.xlsx\", \n",
    "    sheet_name=\"Master Postcode Distance Matrix\",\n",
    "    header=[0, 1],\n",
    "    index_col=[0, 1])\n",
    "df_mat = df_mat.applymap(lambda x: 0, na_action=\"ignore\")\n",
    "display(df_mat)\n"
   ]
  },
  {
   "cell_type": "code",
   "execution_count": 23,
   "metadata": {},
   "outputs": [
    {
     "output_type": "execute_result",
     "data": {
      "text/plain": [
       "                      Johor                                             \\\n",
       "                      79000      80000     81000      81400      81440   \n",
       "Johor      79000   0.000000  16.718734  26.47602  20.489126  50.102419   \n",
       "           80000  16.718734   0.000000  29.15918  20.973199  49.457668   \n",
       "           81000  26.476020  29.159180   0.00000   8.193270  23.723820   \n",
       "           81400  20.489126  20.973199   8.19327   0.000000  30.178914   \n",
       "           81440  50.102419  49.457668  23.72382  30.178914   0.000000   \n",
       "...                     ...        ...       ...        ...        ...   \n",
       "Terengganu 24050        NaN        NaN       NaN        NaN        NaN   \n",
       "           24100        NaN        NaN       NaN        NaN        NaN   \n",
       "           24200        NaN        NaN       NaN        NaN        NaN   \n",
       "           24300        NaN        NaN       NaN        NaN        NaN   \n",
       "WP Labuan  87000        NaN        NaN       NaN        NaN        NaN   \n",
       "\n",
       "                                                                         ...  \\\n",
       "                      81450      81500      81550      81600      81700  ...   \n",
       "Johor      79000  36.733454  14.816449   3.701622  55.620452  32.491557  ...   \n",
       "           80000  34.170561  28.579943  19.022374  40.170806  15.837006  ...   \n",
       "           81000  12.638248  19.979265  23.860660  65.792808  40.099813  ...   \n",
       "           81400  16.244601  18.859817  18.668948  58.141493  32.365212  ...   \n",
       "           81440  15.398003  42.547997  47.581970  79.307618  55.622567  ...   \n",
       "...                     ...        ...        ...        ...        ...  ...   \n",
       "Terengganu 24050        NaN        NaN        NaN        NaN        NaN  ...   \n",
       "           24100        NaN        NaN        NaN        NaN        NaN  ...   \n",
       "           24200        NaN        NaN        NaN        NaN        NaN  ...   \n",
       "           24300        NaN        NaN        NaN        NaN        NaN  ...   \n",
       "WP Labuan  87000        NaN        NaN        NaN        NaN        NaN  ...   \n",
       "\n",
       "                 Terengganu                                              \\\n",
       "                      23100      23200      23300      23400      24000   \n",
       "Johor      79000        NaN        NaN        NaN        NaN        NaN   \n",
       "           80000        NaN        NaN        NaN        NaN        NaN   \n",
       "           81000        NaN        NaN        NaN        NaN        NaN   \n",
       "           81400        NaN        NaN        NaN        NaN        NaN   \n",
       "           81440        NaN        NaN        NaN        NaN        NaN   \n",
       "...                     ...        ...        ...        ...        ...   \n",
       "Terengganu 24050  48.006446  55.560159  35.687422  38.960337  24.307933   \n",
       "           24100  34.056266  58.007021  32.268003  43.515205  12.945771   \n",
       "           24200  23.602662  47.985241  22.440356  34.391023  21.943034   \n",
       "           24300  15.381903  40.942914  16.313085  28.854912  29.965463   \n",
       "WP Labuan  87000        NaN        NaN        NaN        NaN        NaN   \n",
       "\n",
       "                                                             WP Labuan  \n",
       "                      24050      24100      24200      24300     87000  \n",
       "Johor      79000        NaN        NaN        NaN        NaN       NaN  \n",
       "           80000        NaN        NaN        NaN        NaN       NaN  \n",
       "           81000        NaN        NaN        NaN        NaN       NaN  \n",
       "           81400        NaN        NaN        NaN        NaN       NaN  \n",
       "           81440        NaN        NaN        NaN        NaN       NaN  \n",
       "...                     ...        ...        ...        ...       ...  \n",
       "Terengganu 24050   0.000000  30.600460  31.936762  36.140766       NaN  \n",
       "           24100  30.600460   0.000000  10.614830  18.833153       NaN  \n",
       "           24200  31.936762  10.614830   0.000000   8.258988       NaN  \n",
       "           24300  36.140766  18.833153   8.258988   0.000000       NaN  \n",
       "WP Labuan  87000        NaN        NaN        NaN        NaN       0.0  \n",
       "\n",
       "[424 rows x 424 columns]"
      ],
      "text/html": "<div>\n<style scoped>\n    .dataframe tbody tr th:only-of-type {\n        vertical-align: middle;\n    }\n\n    .dataframe tbody tr th {\n        vertical-align: top;\n    }\n\n    .dataframe thead tr th {\n        text-align: left;\n    }\n</style>\n<table border=\"1\" class=\"dataframe\">\n  <thead>\n    <tr>\n      <th></th>\n      <th></th>\n      <th colspan=\"10\" halign=\"left\">Johor</th>\n      <th>...</th>\n      <th colspan=\"9\" halign=\"left\">Terengganu</th>\n      <th>WP Labuan</th>\n    </tr>\n    <tr>\n      <th></th>\n      <th></th>\n      <th>79000</th>\n      <th>80000</th>\n      <th>81000</th>\n      <th>81400</th>\n      <th>81440</th>\n      <th>81450</th>\n      <th>81500</th>\n      <th>81550</th>\n      <th>81600</th>\n      <th>81700</th>\n      <th>...</th>\n      <th>23100</th>\n      <th>23200</th>\n      <th>23300</th>\n      <th>23400</th>\n      <th>24000</th>\n      <th>24050</th>\n      <th>24100</th>\n      <th>24200</th>\n      <th>24300</th>\n      <th>87000</th>\n    </tr>\n  </thead>\n  <tbody>\n    <tr>\n      <th rowspan=\"5\" valign=\"top\">Johor</th>\n      <th>79000</th>\n      <td>0.000000</td>\n      <td>16.718734</td>\n      <td>26.47602</td>\n      <td>20.489126</td>\n      <td>50.102419</td>\n      <td>36.733454</td>\n      <td>14.816449</td>\n      <td>3.701622</td>\n      <td>55.620452</td>\n      <td>32.491557</td>\n      <td>...</td>\n      <td>NaN</td>\n      <td>NaN</td>\n      <td>NaN</td>\n      <td>NaN</td>\n      <td>NaN</td>\n      <td>NaN</td>\n      <td>NaN</td>\n      <td>NaN</td>\n      <td>NaN</td>\n      <td>NaN</td>\n    </tr>\n    <tr>\n      <th>80000</th>\n      <td>16.718734</td>\n      <td>0.000000</td>\n      <td>29.15918</td>\n      <td>20.973199</td>\n      <td>49.457668</td>\n      <td>34.170561</td>\n      <td>28.579943</td>\n      <td>19.022374</td>\n      <td>40.170806</td>\n      <td>15.837006</td>\n      <td>...</td>\n      <td>NaN</td>\n      <td>NaN</td>\n      <td>NaN</td>\n      <td>NaN</td>\n      <td>NaN</td>\n      <td>NaN</td>\n      <td>NaN</td>\n      <td>NaN</td>\n      <td>NaN</td>\n      <td>NaN</td>\n    </tr>\n    <tr>\n      <th>81000</th>\n      <td>26.476020</td>\n      <td>29.159180</td>\n      <td>0.00000</td>\n      <td>8.193270</td>\n      <td>23.723820</td>\n      <td>12.638248</td>\n      <td>19.979265</td>\n      <td>23.860660</td>\n      <td>65.792808</td>\n      <td>40.099813</td>\n      <td>...</td>\n      <td>NaN</td>\n      <td>NaN</td>\n      <td>NaN</td>\n      <td>NaN</td>\n      <td>NaN</td>\n      <td>NaN</td>\n      <td>NaN</td>\n      <td>NaN</td>\n      <td>NaN</td>\n      <td>NaN</td>\n    </tr>\n    <tr>\n      <th>81400</th>\n      <td>20.489126</td>\n      <td>20.973199</td>\n      <td>8.19327</td>\n      <td>0.000000</td>\n      <td>30.178914</td>\n      <td>16.244601</td>\n      <td>18.859817</td>\n      <td>18.668948</td>\n      <td>58.141493</td>\n      <td>32.365212</td>\n      <td>...</td>\n      <td>NaN</td>\n      <td>NaN</td>\n      <td>NaN</td>\n      <td>NaN</td>\n      <td>NaN</td>\n      <td>NaN</td>\n      <td>NaN</td>\n      <td>NaN</td>\n      <td>NaN</td>\n      <td>NaN</td>\n    </tr>\n    <tr>\n      <th>81440</th>\n      <td>50.102419</td>\n      <td>49.457668</td>\n      <td>23.72382</td>\n      <td>30.178914</td>\n      <td>0.000000</td>\n      <td>15.398003</td>\n      <td>42.547997</td>\n      <td>47.581970</td>\n      <td>79.307618</td>\n      <td>55.622567</td>\n      <td>...</td>\n      <td>NaN</td>\n      <td>NaN</td>\n      <td>NaN</td>\n      <td>NaN</td>\n      <td>NaN</td>\n      <td>NaN</td>\n      <td>NaN</td>\n      <td>NaN</td>\n      <td>NaN</td>\n      <td>NaN</td>\n    </tr>\n    <tr>\n      <th>...</th>\n      <th>...</th>\n      <td>...</td>\n      <td>...</td>\n      <td>...</td>\n      <td>...</td>\n      <td>...</td>\n      <td>...</td>\n      <td>...</td>\n      <td>...</td>\n      <td>...</td>\n      <td>...</td>\n      <td>...</td>\n      <td>...</td>\n      <td>...</td>\n      <td>...</td>\n      <td>...</td>\n      <td>...</td>\n      <td>...</td>\n      <td>...</td>\n      <td>...</td>\n      <td>...</td>\n      <td>...</td>\n    </tr>\n    <tr>\n      <th rowspan=\"4\" valign=\"top\">Terengganu</th>\n      <th>24050</th>\n      <td>NaN</td>\n      <td>NaN</td>\n      <td>NaN</td>\n      <td>NaN</td>\n      <td>NaN</td>\n      <td>NaN</td>\n      <td>NaN</td>\n      <td>NaN</td>\n      <td>NaN</td>\n      <td>NaN</td>\n      <td>...</td>\n      <td>48.006446</td>\n      <td>55.560159</td>\n      <td>35.687422</td>\n      <td>38.960337</td>\n      <td>24.307933</td>\n      <td>0.000000</td>\n      <td>30.600460</td>\n      <td>31.936762</td>\n      <td>36.140766</td>\n      <td>NaN</td>\n    </tr>\n    <tr>\n      <th>24100</th>\n      <td>NaN</td>\n      <td>NaN</td>\n      <td>NaN</td>\n      <td>NaN</td>\n      <td>NaN</td>\n      <td>NaN</td>\n      <td>NaN</td>\n      <td>NaN</td>\n      <td>NaN</td>\n      <td>NaN</td>\n      <td>...</td>\n      <td>34.056266</td>\n      <td>58.007021</td>\n      <td>32.268003</td>\n      <td>43.515205</td>\n      <td>12.945771</td>\n      <td>30.600460</td>\n      <td>0.000000</td>\n      <td>10.614830</td>\n      <td>18.833153</td>\n      <td>NaN</td>\n    </tr>\n    <tr>\n      <th>24200</th>\n      <td>NaN</td>\n      <td>NaN</td>\n      <td>NaN</td>\n      <td>NaN</td>\n      <td>NaN</td>\n      <td>NaN</td>\n      <td>NaN</td>\n      <td>NaN</td>\n      <td>NaN</td>\n      <td>NaN</td>\n      <td>...</td>\n      <td>23.602662</td>\n      <td>47.985241</td>\n      <td>22.440356</td>\n      <td>34.391023</td>\n      <td>21.943034</td>\n      <td>31.936762</td>\n      <td>10.614830</td>\n      <td>0.000000</td>\n      <td>8.258988</td>\n      <td>NaN</td>\n    </tr>\n    <tr>\n      <th>24300</th>\n      <td>NaN</td>\n      <td>NaN</td>\n      <td>NaN</td>\n      <td>NaN</td>\n      <td>NaN</td>\n      <td>NaN</td>\n      <td>NaN</td>\n      <td>NaN</td>\n      <td>NaN</td>\n      <td>NaN</td>\n      <td>...</td>\n      <td>15.381903</td>\n      <td>40.942914</td>\n      <td>16.313085</td>\n      <td>28.854912</td>\n      <td>29.965463</td>\n      <td>36.140766</td>\n      <td>18.833153</td>\n      <td>8.258988</td>\n      <td>0.000000</td>\n      <td>NaN</td>\n    </tr>\n    <tr>\n      <th>WP Labuan</th>\n      <th>87000</th>\n      <td>NaN</td>\n      <td>NaN</td>\n      <td>NaN</td>\n      <td>NaN</td>\n      <td>NaN</td>\n      <td>NaN</td>\n      <td>NaN</td>\n      <td>NaN</td>\n      <td>NaN</td>\n      <td>NaN</td>\n      <td>...</td>\n      <td>NaN</td>\n      <td>NaN</td>\n      <td>NaN</td>\n      <td>NaN</td>\n      <td>NaN</td>\n      <td>NaN</td>\n      <td>NaN</td>\n      <td>NaN</td>\n      <td>NaN</td>\n      <td>0.0</td>\n    </tr>\n  </tbody>\n</table>\n<p>424 rows × 424 columns</p>\n</div>"
     },
     "metadata": {},
     "execution_count": 23
    }
   ],
   "source": [
    "# [[[0, 605], [535, 0]], [[0, 2558], [2597, 0]]]\r\n",
    "for mpc_singles, batch in mpc_regions:\r\n"
   ]
  }
 ]
}
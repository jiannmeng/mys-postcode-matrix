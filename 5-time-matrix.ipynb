{
 "metadata": {
  "language_info": {
   "codemirror_mode": {
    "name": "ipython",
    "version": 3
   },
   "file_extension": ".py",
   "mimetype": "text/x-python",
   "name": "python",
   "nbconvert_exporter": "python",
   "pygments_lexer": "ipython3",
   "version": "3.9.5"
  },
  "orig_nbformat": 2,
  "kernelspec": {
   "name": "pythonjvsc74a57bd0e80e83b4ce063b6d077aa938f4da7ed4d120271a429356fc4f499d6cbc968636",
   "display_name": "Python 3.9.5 64-bit ('.venv': poetry)"
  },
  "metadata": {
   "interpreter": {
    "hash": "e80e83b4ce063b6d077aa938f4da7ed4d120271a429356fc4f499d6cbc968636"
   }
  }
 },
 "nbformat": 4,
 "nbformat_minor": 2,
 "cells": [
  {
   "cell_type": "code",
   "execution_count": 1,
   "metadata": {},
   "outputs": [],
   "source": [
    "import csv\n",
    "from pprint import pprint\n",
    "import numpy as np\n",
    "import pandas as pd"
   ]
  },
  {
   "cell_type": "code",
   "execution_count": 2,
   "metadata": {},
   "outputs": [],
   "source": [
    "# Pick a few master-postcode-pairs (which have been augmented with time_sec in Notebook #4).\n",
    "MPC_PAIRS_FILES = [\"./output/master-postcode-pairs-20210607-162126-perlis.csv\"]\n",
    "\n",
    "mpc_pairs_all = []\n",
    "\n",
    "# Import the pairs into dicts\n",
    "for path in MPC_PAIRS_FILES:\n",
    "    with open(path) as fp:\n",
    "        mpc_pairs_all.append(list(csv.DictReader(fp, delimiter=\"|\")))\n",
    "# Note: The lat and lon are strings instead of floats, but that's ok as we need strings for the API anyways.\n"
   ]
  },
  {
   "source": [
    "# Time Matrix\n",
    "\n",
    "Using the same idea as the Distance Matrix, we instead find the Google Maps API time taken to travel between each master postcode pairing."
   ],
   "cell_type": "markdown",
   "metadata": {}
  },
  {
   "cell_type": "code",
   "execution_count": 3,
   "metadata": {},
   "outputs": [],
   "source": [
    "# Reuse the distance matrix from an earlier notebook.\n",
    "df_mat = pd.read_pickle(\"./output/distance-matrix.pkl\")\n",
    "df_mat = df_mat.applymap(lambda x: np.NaN).astype(float)  # Change all to NA\n"
   ]
  },
  {
   "cell_type": "code",
   "execution_count": 4,
   "metadata": {},
   "outputs": [
    {
     "output_type": "display_data",
     "data": {
      "text/plain": "              Perlis                                        \n               01000   02000   02100   02200   02600   02700\nPerlis 01000     0.0   877.0  2417.0  1745.0   973.0  1009.0\n       02000   877.0     0.0  2752.0  2283.0   890.0   720.0\n       02100  2417.0  2752.0     0.0  1010.0  2071.0  2799.0\n       02200  1745.0  2283.0  1010.0     0.0  2267.0  2454.0\n       02600   973.0   890.0  2071.0  2267.0     0.0  1035.0\n       02700  1009.0   720.0  2799.0  2454.0  1035.0     0.0",
      "text/html": "<div>\n<style scoped>\n    .dataframe tbody tr th:only-of-type {\n        vertical-align: middle;\n    }\n\n    .dataframe tbody tr th {\n        vertical-align: top;\n    }\n\n    .dataframe thead tr th {\n        text-align: left;\n    }\n</style>\n<table border=\"1\" class=\"dataframe\">\n  <thead>\n    <tr>\n      <th></th>\n      <th></th>\n      <th colspan=\"6\" halign=\"left\">Perlis</th>\n    </tr>\n    <tr>\n      <th></th>\n      <th></th>\n      <th>01000</th>\n      <th>02000</th>\n      <th>02100</th>\n      <th>02200</th>\n      <th>02600</th>\n      <th>02700</th>\n    </tr>\n  </thead>\n  <tbody>\n    <tr>\n      <th rowspan=\"6\" valign=\"top\">Perlis</th>\n      <th>01000</th>\n      <td>0.0</td>\n      <td>877.0</td>\n      <td>2417.0</td>\n      <td>1745.0</td>\n      <td>973.0</td>\n      <td>1009.0</td>\n    </tr>\n    <tr>\n      <th>02000</th>\n      <td>877.0</td>\n      <td>0.0</td>\n      <td>2752.0</td>\n      <td>2283.0</td>\n      <td>890.0</td>\n      <td>720.0</td>\n    </tr>\n    <tr>\n      <th>02100</th>\n      <td>2417.0</td>\n      <td>2752.0</td>\n      <td>0.0</td>\n      <td>1010.0</td>\n      <td>2071.0</td>\n      <td>2799.0</td>\n    </tr>\n    <tr>\n      <th>02200</th>\n      <td>1745.0</td>\n      <td>2283.0</td>\n      <td>1010.0</td>\n      <td>0.0</td>\n      <td>2267.0</td>\n      <td>2454.0</td>\n    </tr>\n    <tr>\n      <th>02600</th>\n      <td>973.0</td>\n      <td>890.0</td>\n      <td>2071.0</td>\n      <td>2267.0</td>\n      <td>0.0</td>\n      <td>1035.0</td>\n    </tr>\n    <tr>\n      <th>02700</th>\n      <td>1009.0</td>\n      <td>720.0</td>\n      <td>2799.0</td>\n      <td>2454.0</td>\n      <td>1035.0</td>\n      <td>0.0</td>\n    </tr>\n  </tbody>\n</table>\n</div>"
     },
     "metadata": {}
    }
   ],
   "source": [
    "# Assign \n",
    "for mpc_pairs in mpc_pairs_all:\n",
    "    for item in mpc_pairs:\n",
    "        mpc1 = (item[\"ppv_region\"], item[\"master_postcode_1\"])\n",
    "        mpc2 = (item[\"ppv_region\"], item[\"master_postcode_2\"])\n",
    "        duration = int(item[\"time_sec\"]) if item[\"time_sec\"] != \"inf\" else np.inf\n",
    "        df_mat.loc[mpc1, mpc2] = duration\n",
    "        df_mat.loc[mpc2, mpc1] = duration # also add across the diagonal\n",
    "\n",
    "\n",
    "# Drop all rows and columns which are completely NaN\n",
    "df_mat = df_mat[df_mat>0].dropna(how=\"all\", axis=0).dropna(how=\"all\", axis=1)\n",
    "\n",
    "# Set the diagonals to zero.\n",
    "for i in range(len(df_mat)):\n",
    "    df_mat.iloc[i, i] = 0 # Set diagonals to zero\n",
    "\n",
    "display(df_mat)"
   ]
  },
  {
   "cell_type": "code",
   "execution_count": 5,
   "metadata": {},
   "outputs": [
    {
     "output_type": "display_data",
     "data": {
      "text/plain": "             Perlis                              \n              01000 02000 02100 02200 02600 02700\nPerlis 01000    0.0  14.0  40.0  29.0  16.0  16.0\n       02000   14.0   0.0  45.0  38.0  14.0  12.0\n       02100   40.0  45.0   0.0  16.0  34.0  46.0\n       02200   29.0  38.0  16.0   0.0  37.0  40.0\n       02600   16.0  14.0  34.0  37.0   0.0  17.0\n       02700   16.0  12.0  46.0  40.0  17.0   0.0",
      "text/html": "<div>\n<style scoped>\n    .dataframe tbody tr th:only-of-type {\n        vertical-align: middle;\n    }\n\n    .dataframe tbody tr th {\n        vertical-align: top;\n    }\n\n    .dataframe thead tr th {\n        text-align: left;\n    }\n</style>\n<table border=\"1\" class=\"dataframe\">\n  <thead>\n    <tr>\n      <th></th>\n      <th></th>\n      <th colspan=\"6\" halign=\"left\">Perlis</th>\n    </tr>\n    <tr>\n      <th></th>\n      <th></th>\n      <th>01000</th>\n      <th>02000</th>\n      <th>02100</th>\n      <th>02200</th>\n      <th>02600</th>\n      <th>02700</th>\n    </tr>\n  </thead>\n  <tbody>\n    <tr>\n      <th rowspan=\"6\" valign=\"top\">Perlis</th>\n      <th>01000</th>\n      <td>0.0</td>\n      <td>14.0</td>\n      <td>40.0</td>\n      <td>29.0</td>\n      <td>16.0</td>\n      <td>16.0</td>\n    </tr>\n    <tr>\n      <th>02000</th>\n      <td>14.0</td>\n      <td>0.0</td>\n      <td>45.0</td>\n      <td>38.0</td>\n      <td>14.0</td>\n      <td>12.0</td>\n    </tr>\n    <tr>\n      <th>02100</th>\n      <td>40.0</td>\n      <td>45.0</td>\n      <td>0.0</td>\n      <td>16.0</td>\n      <td>34.0</td>\n      <td>46.0</td>\n    </tr>\n    <tr>\n      <th>02200</th>\n      <td>29.0</td>\n      <td>38.0</td>\n      <td>16.0</td>\n      <td>0.0</td>\n      <td>37.0</td>\n      <td>40.0</td>\n    </tr>\n    <tr>\n      <th>02600</th>\n      <td>16.0</td>\n      <td>14.0</td>\n      <td>34.0</td>\n      <td>37.0</td>\n      <td>0.0</td>\n      <td>17.0</td>\n    </tr>\n    <tr>\n      <th>02700</th>\n      <td>16.0</td>\n      <td>12.0</td>\n      <td>46.0</td>\n      <td>40.0</td>\n      <td>17.0</td>\n      <td>0.0</td>\n    </tr>\n  </tbody>\n</table>\n</div>"
     },
     "metadata": {}
    }
   ],
   "source": [
    "# Also, generate the matrix in minutes (instead of seconds), for easy viewing.\n",
    "df_mat_minfloored = df_mat // 60\n",
    "display(df_mat_minfloored)"
   ]
  },
  {
   "source": [
    "# Export files"
   ],
   "cell_type": "markdown",
   "metadata": {}
  },
  {
   "cell_type": "code",
   "execution_count": 6,
   "metadata": {},
   "outputs": [],
   "source": [
    "# Excel\n",
    "df_mat.to_excel(\"./output/time-matrix-sec.xlsx\")\n",
    "df_mat_minfloored.to_excel(\"./output/time-matrix-minfloored.xlsx\")\n",
    "\n",
    "# Csv - drop one level of the MultiIndex\n",
    "# Note we must keep the index in the csv (unlike other csv exports so far).\n",
    "df_mat.index = df_mat.index.droplevel()\n",
    "df_mat.columns = df_mat.columns.droplevel()\n",
    "df_mat.to_csv(\"./output/time-matrix-sec.csv\", sep=\"|\")\n",
    "df_mat_minfloored.index = df_mat_minfloored.index.droplevel()\n",
    "df_mat_minfloored.columns = df_mat_minfloored.columns.droplevel()\n",
    "df_mat_minfloored.to_csv(\"./output/time-matrix-minfloored.csv\", sep=\"|\")\n"
   ]
  },
  {
   "cell_type": "code",
   "execution_count": 7,
   "metadata": {},
   "outputs": [
    {
     "output_type": "display_data",
     "data": {
      "text/plain": "        01000   02000   02100   02200   02600   02700\n01000     0.0   877.0  2417.0  1745.0   973.0  1009.0\n02000   877.0     0.0  2752.0  2283.0   890.0   720.0\n02100  2417.0  2752.0     0.0  1010.0  2071.0  2799.0\n02200  1745.0  2283.0  1010.0     0.0  2267.0  2454.0\n02600   973.0   890.0  2071.0  2267.0     0.0  1035.0\n02700  1009.0   720.0  2799.0  2454.0  1035.0     0.0",
      "text/html": "<div>\n<style scoped>\n    .dataframe tbody tr th:only-of-type {\n        vertical-align: middle;\n    }\n\n    .dataframe tbody tr th {\n        vertical-align: top;\n    }\n\n    .dataframe thead th {\n        text-align: right;\n    }\n</style>\n<table border=\"1\" class=\"dataframe\">\n  <thead>\n    <tr style=\"text-align: right;\">\n      <th></th>\n      <th>01000</th>\n      <th>02000</th>\n      <th>02100</th>\n      <th>02200</th>\n      <th>02600</th>\n      <th>02700</th>\n    </tr>\n  </thead>\n  <tbody>\n    <tr>\n      <th>01000</th>\n      <td>0.0</td>\n      <td>877.0</td>\n      <td>2417.0</td>\n      <td>1745.0</td>\n      <td>973.0</td>\n      <td>1009.0</td>\n    </tr>\n    <tr>\n      <th>02000</th>\n      <td>877.0</td>\n      <td>0.0</td>\n      <td>2752.0</td>\n      <td>2283.0</td>\n      <td>890.0</td>\n      <td>720.0</td>\n    </tr>\n    <tr>\n      <th>02100</th>\n      <td>2417.0</td>\n      <td>2752.0</td>\n      <td>0.0</td>\n      <td>1010.0</td>\n      <td>2071.0</td>\n      <td>2799.0</td>\n    </tr>\n    <tr>\n      <th>02200</th>\n      <td>1745.0</td>\n      <td>2283.0</td>\n      <td>1010.0</td>\n      <td>0.0</td>\n      <td>2267.0</td>\n      <td>2454.0</td>\n    </tr>\n    <tr>\n      <th>02600</th>\n      <td>973.0</td>\n      <td>890.0</td>\n      <td>2071.0</td>\n      <td>2267.0</td>\n      <td>0.0</td>\n      <td>1035.0</td>\n    </tr>\n    <tr>\n      <th>02700</th>\n      <td>1009.0</td>\n      <td>720.0</td>\n      <td>2799.0</td>\n      <td>2454.0</td>\n      <td>1035.0</td>\n      <td>0.0</td>\n    </tr>\n  </tbody>\n</table>\n</div>"
     },
     "metadata": {}
    },
    {
     "output_type": "display_data",
     "data": {
      "text/plain": "       01000  02000  02100  02200  02600  02700\n01000    0.0   14.0   40.0   29.0   16.0   16.0\n02000   14.0    0.0   45.0   38.0   14.0   12.0\n02100   40.0   45.0    0.0   16.0   34.0   46.0\n02200   29.0   38.0   16.0    0.0   37.0   40.0\n02600   16.0   14.0   34.0   37.0    0.0   17.0\n02700   16.0   12.0   46.0   40.0   17.0    0.0",
      "text/html": "<div>\n<style scoped>\n    .dataframe tbody tr th:only-of-type {\n        vertical-align: middle;\n    }\n\n    .dataframe tbody tr th {\n        vertical-align: top;\n    }\n\n    .dataframe thead th {\n        text-align: right;\n    }\n</style>\n<table border=\"1\" class=\"dataframe\">\n  <thead>\n    <tr style=\"text-align: right;\">\n      <th></th>\n      <th>01000</th>\n      <th>02000</th>\n      <th>02100</th>\n      <th>02200</th>\n      <th>02600</th>\n      <th>02700</th>\n    </tr>\n  </thead>\n  <tbody>\n    <tr>\n      <th>01000</th>\n      <td>0.0</td>\n      <td>14.0</td>\n      <td>40.0</td>\n      <td>29.0</td>\n      <td>16.0</td>\n      <td>16.0</td>\n    </tr>\n    <tr>\n      <th>02000</th>\n      <td>14.0</td>\n      <td>0.0</td>\n      <td>45.0</td>\n      <td>38.0</td>\n      <td>14.0</td>\n      <td>12.0</td>\n    </tr>\n    <tr>\n      <th>02100</th>\n      <td>40.0</td>\n      <td>45.0</td>\n      <td>0.0</td>\n      <td>16.0</td>\n      <td>34.0</td>\n      <td>46.0</td>\n    </tr>\n    <tr>\n      <th>02200</th>\n      <td>29.0</td>\n      <td>38.0</td>\n      <td>16.0</td>\n      <td>0.0</td>\n      <td>37.0</td>\n      <td>40.0</td>\n    </tr>\n    <tr>\n      <th>02600</th>\n      <td>16.0</td>\n      <td>14.0</td>\n      <td>34.0</td>\n      <td>37.0</td>\n      <td>0.0</td>\n      <td>17.0</td>\n    </tr>\n    <tr>\n      <th>02700</th>\n      <td>16.0</td>\n      <td>12.0</td>\n      <td>46.0</td>\n      <td>40.0</td>\n      <td>17.0</td>\n      <td>0.0</td>\n    </tr>\n  </tbody>\n</table>\n</div>"
     },
     "metadata": {}
    }
   ],
   "source": [
    "display(df_mat)\n",
    "display(df_mat_minfloored)"
   ]
  }
 ]
}